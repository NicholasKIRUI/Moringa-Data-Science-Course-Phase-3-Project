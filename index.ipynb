{
 "cells": [
  {
   "cell_type": "markdown",
   "metadata": {},
   "source": [
    "## Part Time Data Science 07 class: Phase 3 Project\n",
    "### Project by: Nicholas Kirui\n",
    "### Date of Submission: 01 September 2024"
   ]
  },
  {
   "cell_type": "markdown",
   "metadata": {},
   "source": [
    "## Project overview\n",
    "\n",
    "In this project, I will engage in the full data science process from start to finish, solving a classification problem using a dataset from the SyriaTel Customer Churn"
   ]
  },
  {
   "cell_type": "markdown",
   "metadata": {},
   "source": [
    "## Stakeholder\n",
    "\n",
    "Syriatel has been leading the Syrian mobile telecommunication market since 2000. The company has successfully established its reputation by focusing on customer satisfaction and social responsibility. Syriatel believes that its first responsibility is to offer its customers, a wide array of high quality products and services which meet their needs and make their life easier at reasonable prices.\n",
    "\n",
    "In this project, the stakeholder is the Board of Directors and senior management of the SyriaTel Televommunications company. \n",
    "The Board od Directors and senior management are interested in knwowing if they can predict in advance the customers who are unhappy with their services and therefore likely to stop using the telecommunication services offered by the company in the near future. \n",
    "\n",
    "Once they are able to predict those customers likely to leave, they can put in place measures to retain these customers and therefore reduce the amount of money that is lost due to lost revenue because of customers leaving the company"
   ]
  },
  {
   "cell_type": "markdown",
   "metadata": {},
   "source": [
    "## Business Problem\n",
    "\n",
    "The business problem in this project is being able to predict whic customer is likely to leave the company in the next few months.\n",
    "- Prediciting whic customer is likely to leave will enable the company put in place measures to retain the cutomers and therefore an increased likelihood of retaining the current company revenue."
   ]
  },
  {
   "cell_type": "markdown",
   "metadata": {},
   "source": [
    "## Data Understanding\n",
    "\n",
    "The data for the project was obtained from the Kaggle website: https://www.kaggle.com/datasets/becksddf/churn-in-telecoms-dataset\n",
    "\n",
    "This dataset consists of a single csv file: bigml.csv\n",
    "\n",
    "The dataset has several attributes:\n",
    "- Dataset has 21 variables. Namely: \n",
    "       'state', 'account length', 'area code', 'phone number',\n",
    "       'international plan', 'voice mail plan', 'number vmail messages',\n",
    "       'total day minutes', 'total day calls', 'total day charge',\n",
    "       'total eve minutes', 'total eve calls', 'total eve charge',\n",
    "       'total night minutes', 'total night calls', 'total night charge',\n",
    "       'total intl minutes', 'total intl calls', 'total intl charge',\n",
    "       'customer service calls', 'churn'\n",
    "\n",
    "- The data has 3333 data instances, 0 to 3332"
   ]
  },
  {
   "cell_type": "markdown",
   "metadata": {},
   "source": [
    "## Import libraries\n",
    "\n",
    "libraries are imported sequentially in the cells where they are utilised"
   ]
  },
  {
   "cell_type": "code",
   "execution_count": 2,
   "metadata": {},
   "outputs": [],
   "source": [
    "import numpy as np \n",
    "import pandas as pd \n",
    "import matplotlib.pyplot as plt\n",
    "import seaborn as sns \n",
    "%matplotlib inline"
   ]
  },
  {
   "cell_type": "markdown",
   "metadata": {},
   "source": [
    "#  Import dataset\n"
   ]
  },
  {
   "cell_type": "code",
   "execution_count": 3,
   "metadata": {},
   "outputs": [],
   "source": [
    "data = './Data/bigml.csv'\n",
    "\n",
    "df = pd.read_csv(data)"
   ]
  },
  {
   "cell_type": "markdown",
   "metadata": {},
   "source": [
    "## Descriptive Analysis"
   ]
  },
  {
   "cell_type": "markdown",
   "metadata": {},
   "source": [
    "### Customer churn analysis"
   ]
  },
  {
   "cell_type": "code",
   "execution_count": 4,
   "metadata": {},
   "outputs": [
    {
     "data": {
      "image/png": "[encoded data removed]",
      "text/plain": [
       "<Figure size 432x288 with 1 Axes>"
      ]
     },
     "metadata": {
      "needs_background": "light"
     },
     "output_type": "display_data"
    }
   ],
   "source": [
    "import seaborn as sns\n",
    "import matplotlib.pyplot as plt\n",
    "\n",
    "# Count the values in the 'churn' column\n",
    "y = df[\"churn\"].value_counts()\n",
    "\n",
    "# Plotting the barplot\n",
    "sns.barplot(x=y.index, y=y.values)\n",
    "\n",
    "# Adding labels and title\n",
    "plt.xlabel('Churn')\n",
    "plt.ylabel('Count')\n",
    "plt.title('Count of Churn vs Non-Churn')\n",
    "\n",
    "# Show the plot\n",
    "plt.show()"
   ]
  },
  {
   "cell_type": "code",
   "execution_count": 5,
   "metadata": {},
   "outputs": [
    {
     "data": {
      "text/plain": [
       "False    2850\n",
       "True      483\n",
       "Name: churn, dtype: int64"
      ]
     },
     "execution_count": 5,
     "metadata": {},
     "output_type": "execute_result"
    }
   ],
   "source": [
    "df['churn'].value_counts()"
   ]
  },
  {
   "cell_type": "code",
   "execution_count": 6,
   "metadata": {},
   "outputs": [
    {
     "name": "stdout",
     "output_type": "stream",
     "text": [
      "False    0.855086\n",
      "True     0.144914\n",
      "Name: churn, dtype: float64\n"
     ]
    }
   ],
   "source": [
    "# view frequency distribution of churn variable\n",
    "\n",
    "print(df['churn'].value_counts()/np.float64(len(df)))"
   ]
  },
  {
   "cell_type": "markdown",
   "metadata": {},
   "source": [
    "The customers who leave the company are at **14.49%**"
   ]
  },
  {
   "cell_type": "code",
   "execution_count": 7,
   "metadata": {},
   "outputs": [
    {
     "data": {
      "text/html": [
       "<div>\n",
       "<style scoped>\n",
       "    .dataframe tbody tr th:only-of-type {\n",
       "        vertical-align: middle;\n",
       "    }\n",
       "\n",
       "    .dataframe tbody tr th {\n",
       "        vertical-align: top;\n",
       "    }\n",
       "\n",
       "    .dataframe thead th {\n",
       "        text-align: right;\n",
       "    }\n",
       "</style>\n",
       "<table border=\"1\" class=\"dataframe\">\n",
       "  <thead>\n",
       "    <tr style=\"text-align: right;\">\n",
       "      <th></th>\n",
       "      <th>account length</th>\n",
       "      <th>area code</th>\n",
       "      <th>number vmail messages</th>\n",
       "      <th>total day minutes</th>\n",
       "      <th>total day calls</th>\n",
       "      <th>total day charge</th>\n",
       "      <th>total eve minutes</th>\n",
       "      <th>total eve calls</th>\n",
       "      <th>total eve charge</th>\n",
       "      <th>total night minutes</th>\n",
       "      <th>total night calls</th>\n",
       "      <th>total night charge</th>\n",
       "      <th>total intl minutes</th>\n",
       "      <th>total intl calls</th>\n",
       "      <th>total intl charge</th>\n",
       "      <th>customer service calls</th>\n",
       "    </tr>\n",
       "  </thead>\n",
       "  <tbody>\n",
       "    <tr>\n",
       "      <th>count</th>\n",
       "      <td>3333.000000</td>\n",
       "      <td>3333.000000</td>\n",
       "      <td>3333.000000</td>\n",
       "      <td>3333.000000</td>\n",
       "      <td>3333.000000</td>\n",
       "      <td>3333.000000</td>\n",
       "      <td>3333.000000</td>\n",
       "      <td>3333.000000</td>\n",
       "      <td>3333.000000</td>\n",
       "      <td>3333.000000</td>\n",
       "      <td>3333.000000</td>\n",
       "      <td>3333.000000</td>\n",
       "      <td>3333.000000</td>\n",
       "      <td>3333.000000</td>\n",
       "      <td>3333.000000</td>\n",
       "      <td>3333.000000</td>\n",
       "    </tr>\n",
       "    <tr>\n",
       "      <th>mean</th>\n",
       "      <td>101.064806</td>\n",
       "      <td>437.182418</td>\n",
       "      <td>8.099010</td>\n",
       "      <td>179.775098</td>\n",
       "      <td>100.435644</td>\n",
       "      <td>30.562307</td>\n",
       "      <td>200.980348</td>\n",
       "      <td>100.114311</td>\n",
       "      <td>17.083540</td>\n",
       "      <td>200.872037</td>\n",
       "      <td>100.107711</td>\n",
       "      <td>9.039325</td>\n",
       "      <td>10.237294</td>\n",
       "      <td>4.479448</td>\n",
       "      <td>2.764581</td>\n",
       "      <td>1.562856</td>\n",
       "    </tr>\n",
       "    <tr>\n",
       "      <th>std</th>\n",
       "      <td>39.822106</td>\n",
       "      <td>42.371290</td>\n",
       "      <td>13.688365</td>\n",
       "      <td>54.467389</td>\n",
       "      <td>20.069084</td>\n",
       "      <td>9.259435</td>\n",
       "      <td>50.713844</td>\n",
       "      <td>19.922625</td>\n",
       "      <td>4.310668</td>\n",
       "      <td>50.573847</td>\n",
       "      <td>19.568609</td>\n",
       "      <td>2.275873</td>\n",
       "      <td>2.791840</td>\n",
       "      <td>2.461214</td>\n",
       "      <td>0.753773</td>\n",
       "      <td>1.315491</td>\n",
       "    </tr>\n",
       "    <tr>\n",
       "      <th>min</th>\n",
       "      <td>1.000000</td>\n",
       "      <td>408.000000</td>\n",
       "      <td>0.000000</td>\n",
       "      <td>0.000000</td>\n",
       "      <td>0.000000</td>\n",
       "      <td>0.000000</td>\n",
       "      <td>0.000000</td>\n",
       "      <td>0.000000</td>\n",
       "      <td>0.000000</td>\n",
       "      <td>23.200000</td>\n",
       "      <td>33.000000</td>\n",
       "      <td>1.040000</td>\n",
       "      <td>0.000000</td>\n",
       "      <td>0.000000</td>\n",
       "      <td>0.000000</td>\n",
       "      <td>0.000000</td>\n",
       "    </tr>\n",
       "    <tr>\n",
       "      <th>25%</th>\n",
       "      <td>74.000000</td>\n",
       "      <td>408.000000</td>\n",
       "      <td>0.000000</td>\n",
       "      <td>143.700000</td>\n",
       "      <td>87.000000</td>\n",
       "      <td>24.430000</td>\n",
       "      <td>166.600000</td>\n",
       "      <td>87.000000</td>\n",
       "      <td>14.160000</td>\n",
       "      <td>167.000000</td>\n",
       "      <td>87.000000</td>\n",
       "      <td>7.520000</td>\n",
       "      <td>8.500000</td>\n",
       "      <td>3.000000</td>\n",
       "      <td>2.300000</td>\n",
       "      <td>1.000000</td>\n",
       "    </tr>\n",
       "    <tr>\n",
       "      <th>50%</th>\n",
       "      <td>101.000000</td>\n",
       "      <td>415.000000</td>\n",
       "      <td>0.000000</td>\n",
       "      <td>179.400000</td>\n",
       "      <td>101.000000</td>\n",
       "      <td>30.500000</td>\n",
       "      <td>201.400000</td>\n",
       "      <td>100.000000</td>\n",
       "      <td>17.120000</td>\n",
       "      <td>201.200000</td>\n",
       "      <td>100.000000</td>\n",
       "      <td>9.050000</td>\n",
       "      <td>10.300000</td>\n",
       "      <td>4.000000</td>\n",
       "      <td>2.780000</td>\n",
       "      <td>1.000000</td>\n",
       "    </tr>\n",
       "    <tr>\n",
       "      <th>75%</th>\n",
       "      <td>127.000000</td>\n",
       "      <td>510.000000</td>\n",
       "      <td>20.000000</td>\n",
       "      <td>216.400000</td>\n",
       "      <td>114.000000</td>\n",
       "      <td>36.790000</td>\n",
       "      <td>235.300000</td>\n",
       "      <td>114.000000</td>\n",
       "      <td>20.000000</td>\n",
       "      <td>235.300000</td>\n",
       "      <td>113.000000</td>\n",
       "      <td>10.590000</td>\n",
       "      <td>12.100000</td>\n",
       "      <td>6.000000</td>\n",
       "      <td>3.270000</td>\n",
       "      <td>2.000000</td>\n",
       "    </tr>\n",
       "    <tr>\n",
       "      <th>max</th>\n",
       "      <td>243.000000</td>\n",
       "      <td>510.000000</td>\n",
       "      <td>51.000000</td>\n",
       "      <td>350.800000</td>\n",
       "      <td>165.000000</td>\n",
       "      <td>59.640000</td>\n",
       "      <td>363.700000</td>\n",
       "      <td>170.000000</td>\n",
       "      <td>30.910000</td>\n",
       "      <td>395.000000</td>\n",
       "      <td>175.000000</td>\n",
       "      <td>17.770000</td>\n",
       "      <td>20.000000</td>\n",
       "      <td>20.000000</td>\n",
       "      <td>5.400000</td>\n",
       "      <td>9.000000</td>\n",
       "    </tr>\n",
       "  </tbody>\n",
       "</table>\n",
       "</div>"
      ],
      "text/plain": [
       "       account length    area code  number vmail messages  total day minutes  \\\n",
       "count     3333.000000  3333.000000            3333.000000        3333.000000   \n",
       "mean       101.064806   437.182418               8.099010         179.775098   \n",
       "std         39.822106    42.371290              13.688365          54.467389   \n",
       "min          1.000000   408.000000               0.000000           0.000000   \n",
       "25%         74.000000   408.000000               0.000000         143.700000   \n",
       "50%        101.000000   415.000000               0.000000         179.400000   \n",
       "75%        127.000000   510.000000              20.000000         216.400000   \n",
       "max        243.000000   510.000000              51.000000         350.800000   \n",
       "\n",
       "       total day calls  total day charge  total eve minutes  total eve calls  \\\n",
       "count      3333.000000       3333.000000        3333.000000      3333.000000   \n",
       "mean        100.435644         30.562307         200.980348       100.114311   \n",
       "std          20.069084          9.259435          50.713844        19.922625   \n",
       "min           0.000000          0.000000           0.000000         0.000000   \n",
       "25%          87.000000         24.430000         166.600000        87.000000   \n",
       "50%         101.000000         30.500000         201.400000       100.000000   \n",
       "75%         114.000000         36.790000         235.300000       114.000000   \n",
       "max         165.000000         59.640000         363.700000       170.000000   \n",
       "\n",
       "       total eve charge  total night minutes  total night calls  \\\n",
       "count       3333.000000          3333.000000        3333.000000   \n",
       "mean          17.083540           200.872037         100.107711   \n",
       "std            4.310668            50.573847          19.568609   \n",
       "min            0.000000            23.200000          33.000000   \n",
       "25%           14.160000           167.000000          87.000000   \n",
       "50%           17.120000           201.200000         100.000000   \n",
       "75%           20.000000           235.300000         113.000000   \n",
       "max           30.910000           395.000000         175.000000   \n",
       "\n",
       "       total night charge  total intl minutes  total intl calls  \\\n",
       "count         3333.000000         3333.000000       3333.000000   \n",
       "mean             9.039325           10.237294          4.479448   \n",
       "std              2.275873            2.791840          2.461214   \n",
       "min              1.040000            0.000000          0.000000   \n",
       "25%              7.520000            8.500000          3.000000   \n",
       "50%              9.050000           10.300000          4.000000   \n",
       "75%             10.590000           12.100000          6.000000   \n",
       "max             17.770000           20.000000         20.000000   \n",
       "\n",
       "       total intl charge  customer service calls  \n",
       "count        3333.000000             3333.000000  \n",
       "mean            2.764581                1.562856  \n",
       "std             0.753773                1.315491  \n",
       "min             0.000000                0.000000  \n",
       "25%             2.300000                1.000000  \n",
       "50%             2.780000                1.000000  \n",
       "75%             3.270000                2.000000  \n",
       "max             5.400000                9.000000  "
      ]
     },
     "execution_count": 7,
     "metadata": {},
     "output_type": "execute_result"
    }
   ],
   "source": [
    "df.describe()"
   ]
  },
  {
   "cell_type": "markdown",
   "metadata": {},
   "source": [
    "### churn by state"
   ]
  },
  {
   "cell_type": "code",
   "execution_count": 8,
   "metadata": {},
   "outputs": [
    {
     "data": {
      "image/png": "[encoded data removed]",
      "text/plain": [
       "<Figure size 2160x720 with 1 Axes>"
      ]
     },
     "metadata": {
      "needs_background": "light"
     },
     "output_type": "display_data"
    }
   ],
   "source": [
    "# Group by 'state' and 'churn', count the occurrences, unstack to create a matrix suitable for plotting\n",
    "df.groupby([\"state\", \"churn\"]).size().unstack().plot(\n",
    "    kind='bar', \n",
    "    stacked=True, \n",
    "    figsize=(30, 10)\n",
    ")\n",
    "\n",
    "# Adding labels and title for better understanding\n",
    "plt.xlabel('State')\n",
    "plt.ylabel('Number of Customers')\n",
    "plt.title('Churn by State')\n",
    "plt.xticks(rotation=45, ha='right')  # Rotate x-axis labels for better readability\n",
    "\n",
    "# Show the plot\n",
    "plt.show()"
   ]
  },
  {
   "cell_type": "markdown",
   "metadata": {},
   "source": [
    "### Churn by area code"
   ]
  },
  {
   "cell_type": "code",
   "execution_count": 9,
   "metadata": {},
   "outputs": [
    {
     "data": {
      "image/png": "[encoded data removed]",
      "text/plain": [
       "<Figure size 360x360 with 1 Axes>"
      ]
     },
     "metadata": {
      "needs_background": "light"
     },
     "output_type": "display_data"
    }
   ],
   "source": [
    "# Group by 'area code' and 'churn', count the occurrences, unstack to create a matrix suitable for plotting\n",
    "df.groupby([\"area code\", \"churn\"]).size().unstack().plot(\n",
    "    kind='bar', \n",
    "    stacked=True, \n",
    "    figsize=(5, 5)\n",
    ")\n",
    "\n",
    "# Adding labels and title for better understanding\n",
    "plt.xlabel('Area Code')\n",
    "plt.ylabel('Number of Customers')\n",
    "plt.title('Churn by Area Code')\n",
    "plt.xticks(rotation=45, ha='right')  # Rotate x-axis labels for better readability\n",
    "\n",
    "# Show the plot\n",
    "plt.show()"
   ]
  },
  {
   "cell_type": "code",
   "execution_count": 10,
   "metadata": {},
   "outputs": [
    {
     "data": {
      "text/plain": [
       "415    1655\n",
       "510     840\n",
       "408     838\n",
       "Name: area code, dtype: int64"
      ]
     },
     "execution_count": 10,
     "metadata": {},
     "output_type": "execute_result"
    }
   ],
   "source": [
    "df['area code'].value_counts()"
   ]
  },
  {
   "cell_type": "code",
   "execution_count": 11,
   "metadata": {},
   "outputs": [
    {
     "name": "stdout",
     "output_type": "stream",
     "text": [
      "415    0.496550\n",
      "510    0.252025\n",
      "408    0.251425\n",
      "Name: area code, dtype: float64\n"
     ]
    }
   ],
   "source": [
    "# view frequency distribution of churn variable\n",
    "\n",
    "print(df['area code'].value_counts()/np.float64(len(df)))"
   ]
  },
  {
   "cell_type": "markdown",
   "metadata": {},
   "source": [
    "Area code has only three categories: This should be converted into a categorical variable.\n",
    "- Area code converted into categorical variable later after EDA"
   ]
  },
  {
   "cell_type": "markdown",
   "metadata": {},
   "source": [
    "### Churn By Customers with International plan"
   ]
  },
  {
   "cell_type": "code",
   "execution_count": 12,
   "metadata": {},
   "outputs": [
    {
     "data": {
      "image/png": "[encoded data removed]",
      "text/plain": [
       "<Figure size 360x360 with 1 Axes>"
      ]
     },
     "metadata": {
      "needs_background": "light"
     },
     "output_type": "display_data"
    }
   ],
   "source": [
    "# Group by 'international plan' and 'churn', count the occurrences, unstack to prepare for plotting\n",
    "df.groupby([\"international plan\", \"churn\"]).size().unstack().plot(\n",
    "    kind='bar', \n",
    "    stacked=True, \n",
    "    figsize=(5, 5)\n",
    ")\n",
    "\n",
    "# Adding labels and title for better understanding\n",
    "plt.xlabel('International Plan')\n",
    "plt.ylabel('Number of Customers')\n",
    "plt.title('Churn by International Plan')\n",
    "plt.xticks(rotation=0)  # Keep the x-axis labels horizontal for better readability\n",
    "\n",
    "# Show the plot\n",
    "plt.show()"
   ]
  },
  {
   "cell_type": "markdown",
   "metadata": {},
   "source": [
    "### Churn By Customers with Voice mail plan"
   ]
  },
  {
   "cell_type": "code",
   "execution_count": 13,
   "metadata": {},
   "outputs": [
    {
     "data": {
      "image/png": "[encoded data removed]",
      "text/plain": [
       "<Figure size 360x360 with 1 Axes>"
      ]
     },
     "metadata": {
      "needs_background": "light"
     },
     "output_type": "display_data"
    }
   ],
   "source": [
    "# Group by 'voice mail plan' and 'churn', count the occurrences, unstack to prepare for plotting\n",
    "df.groupby([\"voice mail plan\", \"churn\"]).size().unstack().plot(\n",
    "    kind='bar', \n",
    "    stacked=True, \n",
    "    figsize=(5, 5)\n",
    ")\n",
    "\n",
    "# Adding labels and title for better understanding\n",
    "plt.xlabel('Voice Mail Plan')\n",
    "plt.ylabel('Number of Customers')\n",
    "plt.title('Churn by Voice Mail Plan')\n",
    "plt.xticks(rotation=0)  # Keep the x-axis labels horizontal for better readability\n",
    "\n",
    "# Show the plot\n",
    "plt.show()"
   ]
  },
  {
   "cell_type": "markdown",
   "metadata": {},
   "source": [
    "# Exploratory data analysis"
   ]
  },
  {
   "cell_type": "markdown",
   "metadata": {},
   "source": [
    "Based on the initial descriptive analysis - I would like to first change the area code to categorical variable and datatype 'object' as it has only 3 categories"
   ]
  },
  {
   "cell_type": "markdown",
   "metadata": {},
   "source": [
    "### Convert Area code to categorical variable"
   ]
  },
  {
   "cell_type": "code",
   "execution_count": 14,
   "metadata": {},
   "outputs": [],
   "source": [
    "df['area code'] = df['area code'].astype('object')"
   ]
  },
  {
   "cell_type": "markdown",
   "metadata": {},
   "source": [
    "Check the datatypes to see if 'area code' now has object data typa"
   ]
  },
  {
   "cell_type": "code",
   "execution_count": 197,
   "metadata": {},
   "outputs": [
    {
     "name": "stdout",
     "output_type": "stream",
     "text": [
      "<class 'pandas.core.frame.DataFrame'>\n",
      "RangeIndex: 3333 entries, 0 to 3332\n",
      "Data columns (total 20 columns):\n",
      " #   Column                  Non-Null Count  Dtype  \n",
      "---  ------                  --------------  -----  \n",
      " 0   state                   3333 non-null   object \n",
      " 1   account length          3333 non-null   int64  \n",
      " 2   area code               3333 non-null   object \n",
      " 3   international plan      3333 non-null   object \n",
      " 4   voice mail plan         3333 non-null   object \n",
      " 5   number vmail messages   3333 non-null   int64  \n",
      " 6   total day minutes       3333 non-null   float64\n",
      " 7   total day calls         3333 non-null   int64  \n",
      " 8   total day charge        3333 non-null   float64\n",
      " 9   total eve minutes       3333 non-null   float64\n",
      " 10  total eve calls         3333 non-null   int64  \n",
      " 11  total eve charge        3333 non-null   float64\n",
      " 12  total night minutes     3333 non-null   float64\n",
      " 13  total night calls       3333 non-null   int64  \n",
      " 14  total night charge      3333 non-null   float64\n",
      " 15  total intl minutes      3333 non-null   float64\n",
      " 16  total intl calls        3333 non-null   int64  \n",
      " 17  total intl charge       3333 non-null   float64\n",
      " 18  customer service calls  3333 non-null   int64  \n",
      " 19  churn                   3333 non-null   object \n",
      "dtypes: float64(8), int64(7), object(5)\n",
      "memory usage: 520.9+ KB\n"
     ]
    }
   ],
   "source": [
    "df.info()"
   ]
  },
  {
   "cell_type": "markdown",
   "metadata": {},
   "source": [
    "Explore the data to gain insights about the data. "
   ]
  },
  {
   "cell_type": "code",
   "execution_count": 15,
   "metadata": {},
   "outputs": [
    {
     "data": {
      "text/html": [
       "<div>\n",
       "<style scoped>\n",
       "    .dataframe tbody tr th:only-of-type {\n",
       "        vertical-align: middle;\n",
       "    }\n",
       "\n",
       "    .dataframe tbody tr th {\n",
       "        vertical-align: top;\n",
       "    }\n",
       "\n",
       "    .dataframe thead th {\n",
       "        text-align: right;\n",
       "    }\n",
       "</style>\n",
       "<table border=\"1\" class=\"dataframe\">\n",
       "  <thead>\n",
       "    <tr style=\"text-align: right;\">\n",
       "      <th></th>\n",
       "      <th>state</th>\n",
       "      <th>account length</th>\n",
       "      <th>area code</th>\n",
       "      <th>phone number</th>\n",
       "      <th>international plan</th>\n",
       "      <th>voice mail plan</th>\n",
       "      <th>number vmail messages</th>\n",
       "      <th>total day minutes</th>\n",
       "      <th>total day calls</th>\n",
       "      <th>total day charge</th>\n",
       "      <th>...</th>\n",
       "      <th>total eve calls</th>\n",
       "      <th>total eve charge</th>\n",
       "      <th>total night minutes</th>\n",
       "      <th>total night calls</th>\n",
       "      <th>total night charge</th>\n",
       "      <th>total intl minutes</th>\n",
       "      <th>total intl calls</th>\n",
       "      <th>total intl charge</th>\n",
       "      <th>customer service calls</th>\n",
       "      <th>churn</th>\n",
       "    </tr>\n",
       "  </thead>\n",
       "  <tbody>\n",
       "    <tr>\n",
       "      <th>0</th>\n",
       "      <td>KS</td>\n",
       "      <td>128</td>\n",
       "      <td>415</td>\n",
       "      <td>382-4657</td>\n",
       "      <td>no</td>\n",
       "      <td>yes</td>\n",
       "      <td>25</td>\n",
       "      <td>265.1</td>\n",
       "      <td>110</td>\n",
       "      <td>45.07</td>\n",
       "      <td>...</td>\n",
       "      <td>99</td>\n",
       "      <td>16.78</td>\n",
       "      <td>244.7</td>\n",
       "      <td>91</td>\n",
       "      <td>11.01</td>\n",
       "      <td>10.0</td>\n",
       "      <td>3</td>\n",
       "      <td>2.70</td>\n",
       "      <td>1</td>\n",
       "      <td>False</td>\n",
       "    </tr>\n",
       "    <tr>\n",
       "      <th>1</th>\n",
       "      <td>OH</td>\n",
       "      <td>107</td>\n",
       "      <td>415</td>\n",
       "      <td>371-7191</td>\n",
       "      <td>no</td>\n",
       "      <td>yes</td>\n",
       "      <td>26</td>\n",
       "      <td>161.6</td>\n",
       "      <td>123</td>\n",
       "      <td>27.47</td>\n",
       "      <td>...</td>\n",
       "      <td>103</td>\n",
       "      <td>16.62</td>\n",
       "      <td>254.4</td>\n",
       "      <td>103</td>\n",
       "      <td>11.45</td>\n",
       "      <td>13.7</td>\n",
       "      <td>3</td>\n",
       "      <td>3.70</td>\n",
       "      <td>1</td>\n",
       "      <td>False</td>\n",
       "    </tr>\n",
       "    <tr>\n",
       "      <th>2</th>\n",
       "      <td>NJ</td>\n",
       "      <td>137</td>\n",
       "      <td>415</td>\n",
       "      <td>358-1921</td>\n",
       "      <td>no</td>\n",
       "      <td>no</td>\n",
       "      <td>0</td>\n",
       "      <td>243.4</td>\n",
       "      <td>114</td>\n",
       "      <td>41.38</td>\n",
       "      <td>...</td>\n",
       "      <td>110</td>\n",
       "      <td>10.30</td>\n",
       "      <td>162.6</td>\n",
       "      <td>104</td>\n",
       "      <td>7.32</td>\n",
       "      <td>12.2</td>\n",
       "      <td>5</td>\n",
       "      <td>3.29</td>\n",
       "      <td>0</td>\n",
       "      <td>False</td>\n",
       "    </tr>\n",
       "    <tr>\n",
       "      <th>3</th>\n",
       "      <td>OH</td>\n",
       "      <td>84</td>\n",
       "      <td>408</td>\n",
       "      <td>375-9999</td>\n",
       "      <td>yes</td>\n",
       "      <td>no</td>\n",
       "      <td>0</td>\n",
       "      <td>299.4</td>\n",
       "      <td>71</td>\n",
       "      <td>50.90</td>\n",
       "      <td>...</td>\n",
       "      <td>88</td>\n",
       "      <td>5.26</td>\n",
       "      <td>196.9</td>\n",
       "      <td>89</td>\n",
       "      <td>8.86</td>\n",
       "      <td>6.6</td>\n",
       "      <td>7</td>\n",
       "      <td>1.78</td>\n",
       "      <td>2</td>\n",
       "      <td>False</td>\n",
       "    </tr>\n",
       "    <tr>\n",
       "      <th>4</th>\n",
       "      <td>OK</td>\n",
       "      <td>75</td>\n",
       "      <td>415</td>\n",
       "      <td>330-6626</td>\n",
       "      <td>yes</td>\n",
       "      <td>no</td>\n",
       "      <td>0</td>\n",
       "      <td>166.7</td>\n",
       "      <td>113</td>\n",
       "      <td>28.34</td>\n",
       "      <td>...</td>\n",
       "      <td>122</td>\n",
       "      <td>12.61</td>\n",
       "      <td>186.9</td>\n",
       "      <td>121</td>\n",
       "      <td>8.41</td>\n",
       "      <td>10.1</td>\n",
       "      <td>3</td>\n",
       "      <td>2.73</td>\n",
       "      <td>3</td>\n",
       "      <td>False</td>\n",
       "    </tr>\n",
       "  </tbody>\n",
       "</table>\n",
       "<p>5 rows × 21 columns</p>\n",
       "</div>"
      ],
      "text/plain": [
       "  state  account length area code phone number international plan  \\\n",
       "0    KS             128       415     382-4657                 no   \n",
       "1    OH             107       415     371-7191                 no   \n",
       "2    NJ             137       415     358-1921                 no   \n",
       "3    OH              84       408     375-9999                yes   \n",
       "4    OK              75       415     330-6626                yes   \n",
       "\n",
       "  voice mail plan  number vmail messages  total day minutes  total day calls  \\\n",
       "0             yes                     25              265.1              110   \n",
       "1             yes                     26              161.6              123   \n",
       "2              no                      0              243.4              114   \n",
       "3              no                      0              299.4               71   \n",
       "4              no                      0              166.7              113   \n",
       "\n",
       "   total day charge  ...  total eve calls  total eve charge  \\\n",
       "0             45.07  ...               99             16.78   \n",
       "1             27.47  ...              103             16.62   \n",
       "2             41.38  ...              110             10.30   \n",
       "3             50.90  ...               88              5.26   \n",
       "4             28.34  ...              122             12.61   \n",
       "\n",
       "   total night minutes  total night calls  total night charge  \\\n",
       "0                244.7                 91               11.01   \n",
       "1                254.4                103               11.45   \n",
       "2                162.6                104                7.32   \n",
       "3                196.9                 89                8.86   \n",
       "4                186.9                121                8.41   \n",
       "\n",
       "   total intl minutes  total intl calls  total intl charge  \\\n",
       "0                10.0                 3               2.70   \n",
       "1                13.7                 3               3.70   \n",
       "2                12.2                 5               3.29   \n",
       "3                 6.6                 7               1.78   \n",
       "4                10.1                 3               2.73   \n",
       "\n",
       "   customer service calls  churn  \n",
       "0                       1  False  \n",
       "1                       1  False  \n",
       "2                       0  False  \n",
       "3                       2  False  \n",
       "4                       3  False  \n",
       "\n",
       "[5 rows x 21 columns]"
      ]
     },
     "execution_count": 15,
     "metadata": {},
     "output_type": "execute_result"
    }
   ],
   "source": [
    "# preview the dataset\n",
    "df.head(5)"
   ]
  },
  {
   "cell_type": "code",
   "execution_count": 16,
   "metadata": {},
   "outputs": [
    {
     "data": {
      "text/plain": [
       "(3333, 21)"
      ]
     },
     "execution_count": 16,
     "metadata": {},
     "output_type": "execute_result"
    }
   ],
   "source": [
    "# view dimensions of dataset\n",
    "df.shape"
   ]
  },
  {
   "cell_type": "markdown",
   "metadata": {},
   "source": [
    "Dataset has 21 variables and 3333 instances"
   ]
  },
  {
   "cell_type": "markdown",
   "metadata": {},
   "source": [
    "### Identify the columns in the dataset"
   ]
  },
  {
   "cell_type": "code",
   "execution_count": 17,
   "metadata": {},
   "outputs": [
    {
     "data": {
      "text/plain": [
       "Index(['state', 'account length', 'area code', 'phone number',\n",
       "       'international plan', 'voice mail plan', 'number vmail messages',\n",
       "       'total day minutes', 'total day calls', 'total day charge',\n",
       "       'total eve minutes', 'total eve calls', 'total eve charge',\n",
       "       'total night minutes', 'total night calls', 'total night charge',\n",
       "       'total intl minutes', 'total intl calls', 'total intl charge',\n",
       "       'customer service calls', 'churn'],\n",
       "      dtype='object')"
      ]
     },
     "execution_count": 17,
     "metadata": {},
     "output_type": "execute_result"
    }
   ],
   "source": [
    "# review the column names\n",
    "col_names = df.columns\n",
    "\n",
    "col_names"
   ]
  },
  {
   "cell_type": "code",
   "execution_count": 18,
   "metadata": {},
   "outputs": [
    {
     "name": "stdout",
     "output_type": "stream",
     "text": [
      "<class 'pandas.core.frame.DataFrame'>\n",
      "RangeIndex: 3333 entries, 0 to 3332\n",
      "Data columns (total 21 columns):\n",
      " #   Column                  Non-Null Count  Dtype  \n",
      "---  ------                  --------------  -----  \n",
      " 0   state                   3333 non-null   object \n",
      " 1   account length          3333 non-null   int64  \n",
      " 2   area code               3333 non-null   object \n",
      " 3   phone number            3333 non-null   object \n",
      " 4   international plan      3333 non-null   object \n",
      " 5   voice mail plan         3333 non-null   object \n",
      " 6   number vmail messages   3333 non-null   int64  \n",
      " 7   total day minutes       3333 non-null   float64\n",
      " 8   total day calls         3333 non-null   int64  \n",
      " 9   total day charge        3333 non-null   float64\n",
      " 10  total eve minutes       3333 non-null   float64\n",
      " 11  total eve calls         3333 non-null   int64  \n",
      " 12  total eve charge        3333 non-null   float64\n",
      " 13  total night minutes     3333 non-null   float64\n",
      " 14  total night calls       3333 non-null   int64  \n",
      " 15  total night charge      3333 non-null   float64\n",
      " 16  total intl minutes      3333 non-null   float64\n",
      " 17  total intl calls        3333 non-null   int64  \n",
      " 18  total intl charge       3333 non-null   float64\n",
      " 19  customer service calls  3333 non-null   int64  \n",
      " 20  churn                   3333 non-null   bool   \n",
      "dtypes: bool(1), float64(8), int64(7), object(5)\n",
      "memory usage: 524.2+ KB\n"
     ]
    }
   ],
   "source": [
    "# view summary of dataset\n",
    "df.info()"
   ]
  },
  {
   "cell_type": "markdown",
   "metadata": {},
   "source": [
    "### Types of variables\n",
    "In this section, I segregate the dataset into categorical and numerical variables. \n",
    "- There are a mixture of categorical and numerical variables in the dataset. \n",
    "- Categorical variables have data type object\n",
    "- Numerical variables have data type float64\n",
    "\n",
    "#### First of all, I will find categorical variables"
   ]
  },
  {
   "cell_type": "code",
   "execution_count": 19,
   "metadata": {},
   "outputs": [
    {
     "name": "stdout",
     "output_type": "stream",
     "text": [
      "There are 5 categorical variables\n",
      "\n",
      "The categorical variables are : ['state', 'area code', 'phone number', 'international plan', 'voice mail plan']\n"
     ]
    }
   ],
   "source": [
    "# find categorical variables\n",
    "\n",
    "categorical = [var for var in df.columns if df[var].dtype=='O']\n",
    "\n",
    "print('There are {} categorical variables\\n'.format(len(categorical)))\n",
    "\n",
    "print('The categorical variables are :', categorical)"
   ]
  },
  {
   "cell_type": "code",
   "execution_count": 20,
   "metadata": {},
   "outputs": [
    {
     "data": {
      "text/html": [
       "<div>\n",
       "<style scoped>\n",
       "    .dataframe tbody tr th:only-of-type {\n",
       "        vertical-align: middle;\n",
       "    }\n",
       "\n",
       "    .dataframe tbody tr th {\n",
       "        vertical-align: top;\n",
       "    }\n",
       "\n",
       "    .dataframe thead th {\n",
       "        text-align: right;\n",
       "    }\n",
       "</style>\n",
       "<table border=\"1\" class=\"dataframe\">\n",
       "  <thead>\n",
       "    <tr style=\"text-align: right;\">\n",
       "      <th></th>\n",
       "      <th>state</th>\n",
       "      <th>area code</th>\n",
       "      <th>phone number</th>\n",
       "      <th>international plan</th>\n",
       "      <th>voice mail plan</th>\n",
       "    </tr>\n",
       "  </thead>\n",
       "  <tbody>\n",
       "    <tr>\n",
       "      <th>0</th>\n",
       "      <td>KS</td>\n",
       "      <td>415</td>\n",
       "      <td>382-4657</td>\n",
       "      <td>no</td>\n",
       "      <td>yes</td>\n",
       "    </tr>\n",
       "    <tr>\n",
       "      <th>1</th>\n",
       "      <td>OH</td>\n",
       "      <td>415</td>\n",
       "      <td>371-7191</td>\n",
       "      <td>no</td>\n",
       "      <td>yes</td>\n",
       "    </tr>\n",
       "    <tr>\n",
       "      <th>2</th>\n",
       "      <td>NJ</td>\n",
       "      <td>415</td>\n",
       "      <td>358-1921</td>\n",
       "      <td>no</td>\n",
       "      <td>no</td>\n",
       "    </tr>\n",
       "    <tr>\n",
       "      <th>3</th>\n",
       "      <td>OH</td>\n",
       "      <td>408</td>\n",
       "      <td>375-9999</td>\n",
       "      <td>yes</td>\n",
       "      <td>no</td>\n",
       "    </tr>\n",
       "    <tr>\n",
       "      <th>4</th>\n",
       "      <td>OK</td>\n",
       "      <td>415</td>\n",
       "      <td>330-6626</td>\n",
       "      <td>yes</td>\n",
       "      <td>no</td>\n",
       "    </tr>\n",
       "  </tbody>\n",
       "</table>\n",
       "</div>"
      ],
      "text/plain": [
       "  state area code phone number international plan voice mail plan\n",
       "0    KS       415     382-4657                 no             yes\n",
       "1    OH       415     371-7191                 no             yes\n",
       "2    NJ       415     358-1921                 no              no\n",
       "3    OH       408     375-9999                yes              no\n",
       "4    OK       415     330-6626                yes              no"
      ]
     },
     "execution_count": 20,
     "metadata": {},
     "output_type": "execute_result"
    }
   ],
   "source": [
    "# view the categorical variables\n",
    "\n",
    "df[categorical].head()"
   ]
  },
  {
   "cell_type": "markdown",
   "metadata": {},
   "source": [
    "### Summary of categorical variables\n",
    "\n",
    "- There are  categorical variables. These are given by:\n",
    "        -`state`, `phone number`, `area code`, `international plan`  and  `voice mail plan`\n",
    "\n",
    "\n",
    "- There are two binary categorical variables:\n",
    "        - `international plan`,  and  `voice mail plan`\n"
   ]
  },
  {
   "cell_type": "markdown",
   "metadata": {},
   "source": [
    "## Explore problems within categorical variables\n",
    "\n",
    "### Missing values in categorical variables"
   ]
  },
  {
   "cell_type": "code",
   "execution_count": 21,
   "metadata": {},
   "outputs": [
    {
     "data": {
      "text/plain": [
       "state                 0\n",
       "area code             0\n",
       "phone number          0\n",
       "international plan    0\n",
       "voice mail plan       0\n",
       "dtype: int64"
      ]
     },
     "execution_count": 21,
     "metadata": {},
     "output_type": "execute_result"
    }
   ],
   "source": [
    "# check missing values in categorical variables\n",
    "\n",
    "df[categorical].isnull().sum()"
   ]
  },
  {
   "cell_type": "markdown",
   "metadata": {},
   "source": [
    "There are no missing values in categorical variables"
   ]
  },
  {
   "cell_type": "markdown",
   "metadata": {},
   "source": [
    "### Description of categorical variables\n",
    "\n",
    "check the frequency counts of categorical variables."
   ]
  },
  {
   "cell_type": "code",
   "execution_count": 22,
   "metadata": {},
   "outputs": [
    {
     "name": "stdout",
     "output_type": "stream",
     "text": [
      "WV    106\n",
      "MN     84\n",
      "NY     83\n",
      "AL     80\n",
      "OR     78\n",
      "OH     78\n",
      "WI     78\n",
      "WY     77\n",
      "VA     77\n",
      "CT     74\n",
      "ID     73\n",
      "VT     73\n",
      "MI     73\n",
      "TX     72\n",
      "UT     72\n",
      "IN     71\n",
      "KS     70\n",
      "MD     70\n",
      "NJ     68\n",
      "NC     68\n",
      "MT     68\n",
      "CO     66\n",
      "WA     66\n",
      "NV     66\n",
      "MS     65\n",
      "MA     65\n",
      "RI     65\n",
      "AZ     64\n",
      "FL     63\n",
      "MO     63\n",
      "ND     62\n",
      "NM     62\n",
      "ME     62\n",
      "NE     61\n",
      "DE     61\n",
      "OK     61\n",
      "SD     60\n",
      "SC     60\n",
      "KY     59\n",
      "IL     58\n",
      "NH     56\n",
      "AR     55\n",
      "GA     54\n",
      "DC     54\n",
      "TN     53\n",
      "HI     53\n",
      "AK     52\n",
      "LA     51\n",
      "PA     45\n",
      "IA     44\n",
      "CA     34\n",
      "Name: state, dtype: int64\n"
     ]
    }
   ],
   "source": [
    "# view frequency of categorical variables - state\n",
    "\n",
    "print(df['state'].value_counts())"
   ]
  },
  {
   "cell_type": "markdown",
   "metadata": {},
   "source": []
  },
  {
   "cell_type": "code",
   "execution_count": 23,
   "metadata": {},
   "outputs": [
    {
     "name": "stdout",
     "output_type": "stream",
     "text": [
      "WV    0.031803\n",
      "MN    0.025203\n",
      "NY    0.024902\n",
      "AL    0.024002\n",
      "OR    0.023402\n",
      "OH    0.023402\n",
      "WI    0.023402\n",
      "WY    0.023102\n",
      "VA    0.023102\n",
      "CT    0.022202\n",
      "ID    0.021902\n",
      "VT    0.021902\n",
      "MI    0.021902\n",
      "TX    0.021602\n",
      "UT    0.021602\n",
      "IN    0.021302\n",
      "KS    0.021002\n",
      "MD    0.021002\n",
      "NJ    0.020402\n",
      "NC    0.020402\n",
      "MT    0.020402\n",
      "CO    0.019802\n",
      "WA    0.019802\n",
      "NV    0.019802\n",
      "MS    0.019502\n",
      "MA    0.019502\n",
      "RI    0.019502\n",
      "AZ    0.019202\n",
      "FL    0.018902\n",
      "MO    0.018902\n",
      "ND    0.018602\n",
      "NM    0.018602\n",
      "ME    0.018602\n",
      "NE    0.018302\n",
      "DE    0.018302\n",
      "OK    0.018302\n",
      "SD    0.018002\n",
      "SC    0.018002\n",
      "KY    0.017702\n",
      "IL    0.017402\n",
      "NH    0.016802\n",
      "AR    0.016502\n",
      "GA    0.016202\n",
      "DC    0.016202\n",
      "TN    0.015902\n",
      "HI    0.015902\n",
      "AK    0.015602\n",
      "LA    0.015302\n",
      "PA    0.013501\n",
      "IA    0.013201\n",
      "CA    0.010201\n",
      "Name: state, dtype: float64\n"
     ]
    }
   ],
   "source": [
    "# view frequency distribution of categorical variables: state\n",
    "\n",
    "print(df['state'].value_counts()/np.float64(len(df)))"
   ]
  },
  {
   "cell_type": "code",
   "execution_count": 24,
   "metadata": {},
   "outputs": [
    {
     "name": "stdout",
     "output_type": "stream",
     "text": [
      "329-6192    1\n",
      "329-8436    1\n",
      "406-2678    1\n",
      "359-9992    1\n",
      "375-4770    1\n",
      "           ..\n",
      "337-7739    1\n",
      "380-6074    1\n",
      "416-5261    1\n",
      "401-1454    1\n",
      "417-4810    1\n",
      "Name: phone number, Length: 3333, dtype: int64\n"
     ]
    }
   ],
   "source": [
    "# view frequency of categorical variables: phone number\n",
    "\n",
    "print(df['phone number'].value_counts())"
   ]
  },
  {
   "cell_type": "code",
   "execution_count": 25,
   "metadata": {},
   "outputs": [
    {
     "name": "stdout",
     "output_type": "stream",
     "text": [
      "no     3010\n",
      "yes     323\n",
      "Name: international plan, dtype: int64\n"
     ]
    }
   ],
   "source": [
    "# view frequency of categorical variables: international plan\n",
    "\n",
    "print(df['international plan'].value_counts())"
   ]
  },
  {
   "cell_type": "code",
   "execution_count": 26,
   "metadata": {},
   "outputs": [
    {
     "name": "stdout",
     "output_type": "stream",
     "text": [
      "no     2411\n",
      "yes     922\n",
      "Name: voice mail plan, dtype: int64\n"
     ]
    }
   ],
   "source": [
    "# view frequency of categorical variables: voice mail plan\n",
    "\n",
    "print(df['voice mail plan'].value_counts())"
   ]
  },
  {
   "cell_type": "markdown",
   "metadata": {},
   "source": [
    "### View the frequency distribution of categorical variables"
   ]
  },
  {
   "cell_type": "code",
   "execution_count": 27,
   "metadata": {},
   "outputs": [
    {
     "name": "stdout",
     "output_type": "stream",
     "text": [
      "WV    0.031803\n",
      "MN    0.025203\n",
      "NY    0.024902\n",
      "AL    0.024002\n",
      "OR    0.023402\n",
      "OH    0.023402\n",
      "WI    0.023402\n",
      "WY    0.023102\n",
      "VA    0.023102\n",
      "CT    0.022202\n",
      "ID    0.021902\n",
      "VT    0.021902\n",
      "MI    0.021902\n",
      "TX    0.021602\n",
      "UT    0.021602\n",
      "IN    0.021302\n",
      "KS    0.021002\n",
      "MD    0.021002\n",
      "NJ    0.020402\n",
      "NC    0.020402\n",
      "MT    0.020402\n",
      "CO    0.019802\n",
      "WA    0.019802\n",
      "NV    0.019802\n",
      "MS    0.019502\n",
      "MA    0.019502\n",
      "RI    0.019502\n",
      "AZ    0.019202\n",
      "FL    0.018902\n",
      "MO    0.018902\n",
      "ND    0.018602\n",
      "NM    0.018602\n",
      "ME    0.018602\n",
      "NE    0.018302\n",
      "DE    0.018302\n",
      "OK    0.018302\n",
      "SD    0.018002\n",
      "SC    0.018002\n",
      "KY    0.017702\n",
      "IL    0.017402\n",
      "NH    0.016802\n",
      "AR    0.016502\n",
      "GA    0.016202\n",
      "DC    0.016202\n",
      "TN    0.015902\n",
      "HI    0.015902\n",
      "AK    0.015602\n",
      "LA    0.015302\n",
      "PA    0.013501\n",
      "IA    0.013201\n",
      "CA    0.010201\n",
      "Name: state, dtype: float64\n"
     ]
    }
   ],
   "source": [
    "# view frequency distribution of categorical variables: state\n",
    "\n",
    "print(df['state'].value_counts()/np.float64(len(df)))"
   ]
  },
  {
   "cell_type": "code",
   "execution_count": 28,
   "metadata": {},
   "outputs": [
    {
     "name": "stdout",
     "output_type": "stream",
     "text": [
      "329-6192    0.0003\n",
      "329-8436    0.0003\n",
      "406-2678    0.0003\n",
      "359-9992    0.0003\n",
      "375-4770    0.0003\n",
      "             ...  \n",
      "337-7739    0.0003\n",
      "380-6074    0.0003\n",
      "416-5261    0.0003\n",
      "401-1454    0.0003\n",
      "417-4810    0.0003\n",
      "Name: phone number, Length: 3333, dtype: float64\n"
     ]
    }
   ],
   "source": [
    "# view frequency distribution of categorical variables: phone number\n",
    "\n",
    "print(df['phone number'].value_counts()/np.float64(len(df)))"
   ]
  },
  {
   "cell_type": "code",
   "execution_count": 29,
   "metadata": {},
   "outputs": [
    {
     "name": "stdout",
     "output_type": "stream",
     "text": [
      "no     0.90309\n",
      "yes    0.09691\n",
      "Name: international plan, dtype: float64\n"
     ]
    }
   ],
   "source": [
    "# view frequency distribution of categorical variables: international plan\n",
    "\n",
    "print(df['international plan'].value_counts()/np.float64(len(df)))"
   ]
  },
  {
   "cell_type": "code",
   "execution_count": 30,
   "metadata": {},
   "outputs": [
    {
     "name": "stdout",
     "output_type": "stream",
     "text": [
      "no     0.723372\n",
      "yes    0.276628\n",
      "Name: voice mail plan, dtype: float64\n"
     ]
    }
   ],
   "source": [
    "# view frequency distribution of categorical variables: voice mail plan\n",
    "\n",
    "print(df['voice mail plan'].value_counts()/np.float64(len(df)))"
   ]
  },
  {
   "cell_type": "markdown",
   "metadata": {},
   "source": [
    "### Number of labels: cardinality\n",
    "\n",
    "The number of labels within a categorical variable is known as **cardinality**. A high number of labels within a variable is known as **high cardinality**. High cardinality may pose some serious problems in the machine learning model. So, check for high cardinality."
   ]
  },
  {
   "cell_type": "code",
   "execution_count": 31,
   "metadata": {},
   "outputs": [
    {
     "name": "stdout",
     "output_type": "stream",
     "text": [
      "state  contains  51  labels\n",
      "area code  contains  3  labels\n",
      "phone number  contains  3333  labels\n",
      "international plan  contains  2  labels\n",
      "voice mail plan  contains  2  labels\n"
     ]
    }
   ],
   "source": [
    "# check for cardinality in categorical variables\n",
    "\n",
    "for var in categorical:\n",
    "        print(var, ' contains ', len(df[var].unique()), ' labels')"
   ]
  },
  {
   "cell_type": "markdown",
   "metadata": {},
   "source": [
    "- phone number has the same number of labels as there are instances in the dataset - therefore the phone number shall be dropped before the data is split into training and test datasets"
   ]
  },
  {
   "cell_type": "markdown",
   "metadata": {},
   "source": [
    "### Explore Categorical Variables\n",
    "\n",
    "Now, explore the categorical variables one by one. "
   ]
  },
  {
   "cell_type": "code",
   "execution_count": 32,
   "metadata": {},
   "outputs": [
    {
     "name": "stdout",
     "output_type": "stream",
     "text": [
      "There are 5 categorical variables\n",
      "\n",
      "The categorical variables are : ['state', 'area code', 'phone number', 'international plan', 'voice mail plan']\n"
     ]
    }
   ],
   "source": [
    "# find categorical variables\n",
    "categorical = [var for var in df.columns if df[var].dtype=='O']\n",
    "\n",
    "print('There are {} categorical variables\\n'.format(len(categorical)))\n",
    "\n",
    "print('The categorical variables are :', categorical)"
   ]
  },
  {
   "cell_type": "markdown",
   "metadata": {},
   "source": [
    "### Explore the `state` variable\n",
    "\n",
    "- There are 51 different states"
   ]
  },
  {
   "cell_type": "code",
   "execution_count": 33,
   "metadata": {},
   "outputs": [
    {
     "name": "stdout",
     "output_type": "stream",
     "text": [
      "state contains 51 labels\n"
     ]
    }
   ],
   "source": [
    "# print number of labels in state variable\n",
    "print('state contains', len(df[\"state\"].unique()), 'labels')"
   ]
  },
  {
   "cell_type": "code",
   "execution_count": 34,
   "metadata": {},
   "outputs": [
    {
     "data": {
      "text/plain": [
       "array(['KS', 'OH', 'NJ', 'OK', 'AL', 'MA', 'MO', 'LA', 'WV', 'IN', 'RI',\n",
       "       'IA', 'MT', 'NY', 'ID', 'VT', 'VA', 'TX', 'FL', 'CO', 'AZ', 'SC',\n",
       "       'NE', 'WY', 'HI', 'IL', 'NH', 'GA', 'AK', 'MD', 'AR', 'WI', 'OR',\n",
       "       'MI', 'DE', 'UT', 'CA', 'MN', 'SD', 'NC', 'WA', 'NM', 'NV', 'DC',\n",
       "       'KY', 'ME', 'MS', 'TN', 'PA', 'CT', 'ND'], dtype=object)"
      ]
     },
     "execution_count": 34,
     "metadata": {},
     "output_type": "execute_result"
    }
   ],
   "source": [
    "# check labels in state variable\n",
    "df.state.unique()"
   ]
  },
  {
   "cell_type": "code",
   "execution_count": 35,
   "metadata": {},
   "outputs": [
    {
     "data": {
      "text/plain": [
       "WV    106\n",
       "MN     84\n",
       "NY     83\n",
       "AL     80\n",
       "OR     78\n",
       "OH     78\n",
       "WI     78\n",
       "WY     77\n",
       "VA     77\n",
       "CT     74\n",
       "ID     73\n",
       "VT     73\n",
       "MI     73\n",
       "TX     72\n",
       "UT     72\n",
       "IN     71\n",
       "KS     70\n",
       "MD     70\n",
       "NJ     68\n",
       "NC     68\n",
       "MT     68\n",
       "CO     66\n",
       "WA     66\n",
       "NV     66\n",
       "MS     65\n",
       "MA     65\n",
       "RI     65\n",
       "AZ     64\n",
       "FL     63\n",
       "MO     63\n",
       "ND     62\n",
       "NM     62\n",
       "ME     62\n",
       "NE     61\n",
       "DE     61\n",
       "OK     61\n",
       "SD     60\n",
       "SC     60\n",
       "KY     59\n",
       "IL     58\n",
       "NH     56\n",
       "AR     55\n",
       "GA     54\n",
       "DC     54\n",
       "TN     53\n",
       "HI     53\n",
       "AK     52\n",
       "LA     51\n",
       "PA     45\n",
       "IA     44\n",
       "CA     34\n",
       "Name: state, dtype: int64"
      ]
     },
     "execution_count": 35,
     "metadata": {},
     "output_type": "execute_result"
    }
   ],
   "source": [
    "# check frequency distribution of values in state variable\n",
    "\n",
    "df[\"state\"].value_counts()"
   ]
  },
  {
   "cell_type": "code",
   "execution_count": 36,
   "metadata": {},
   "outputs": [
    {
     "data": {
      "text/html": [
       "<div>\n",
       "<style scoped>\n",
       "    .dataframe tbody tr th:only-of-type {\n",
       "        vertical-align: middle;\n",
       "    }\n",
       "\n",
       "    .dataframe tbody tr th {\n",
       "        vertical-align: top;\n",
       "    }\n",
       "\n",
       "    .dataframe thead th {\n",
       "        text-align: right;\n",
       "    }\n",
       "</style>\n",
       "<table border=\"1\" class=\"dataframe\">\n",
       "  <thead>\n",
       "    <tr style=\"text-align: right;\">\n",
       "      <th></th>\n",
       "      <th>AL</th>\n",
       "      <th>AR</th>\n",
       "      <th>AZ</th>\n",
       "      <th>CA</th>\n",
       "      <th>CO</th>\n",
       "      <th>CT</th>\n",
       "      <th>DC</th>\n",
       "      <th>DE</th>\n",
       "      <th>FL</th>\n",
       "      <th>GA</th>\n",
       "      <th>...</th>\n",
       "      <th>TN</th>\n",
       "      <th>TX</th>\n",
       "      <th>UT</th>\n",
       "      <th>VA</th>\n",
       "      <th>VT</th>\n",
       "      <th>WA</th>\n",
       "      <th>WI</th>\n",
       "      <th>WV</th>\n",
       "      <th>WY</th>\n",
       "      <th>NaN</th>\n",
       "    </tr>\n",
       "  </thead>\n",
       "  <tbody>\n",
       "    <tr>\n",
       "      <th>0</th>\n",
       "      <td>0</td>\n",
       "      <td>0</td>\n",
       "      <td>0</td>\n",
       "      <td>0</td>\n",
       "      <td>0</td>\n",
       "      <td>0</td>\n",
       "      <td>0</td>\n",
       "      <td>0</td>\n",
       "      <td>0</td>\n",
       "      <td>0</td>\n",
       "      <td>...</td>\n",
       "      <td>0</td>\n",
       "      <td>0</td>\n",
       "      <td>0</td>\n",
       "      <td>0</td>\n",
       "      <td>0</td>\n",
       "      <td>0</td>\n",
       "      <td>0</td>\n",
       "      <td>0</td>\n",
       "      <td>0</td>\n",
       "      <td>0</td>\n",
       "    </tr>\n",
       "    <tr>\n",
       "      <th>1</th>\n",
       "      <td>0</td>\n",
       "      <td>0</td>\n",
       "      <td>0</td>\n",
       "      <td>0</td>\n",
       "      <td>0</td>\n",
       "      <td>0</td>\n",
       "      <td>0</td>\n",
       "      <td>0</td>\n",
       "      <td>0</td>\n",
       "      <td>0</td>\n",
       "      <td>...</td>\n",
       "      <td>0</td>\n",
       "      <td>0</td>\n",
       "      <td>0</td>\n",
       "      <td>0</td>\n",
       "      <td>0</td>\n",
       "      <td>0</td>\n",
       "      <td>0</td>\n",
       "      <td>0</td>\n",
       "      <td>0</td>\n",
       "      <td>0</td>\n",
       "    </tr>\n",
       "    <tr>\n",
       "      <th>2</th>\n",
       "      <td>0</td>\n",
       "      <td>0</td>\n",
       "      <td>0</td>\n",
       "      <td>0</td>\n",
       "      <td>0</td>\n",
       "      <td>0</td>\n",
       "      <td>0</td>\n",
       "      <td>0</td>\n",
       "      <td>0</td>\n",
       "      <td>0</td>\n",
       "      <td>...</td>\n",
       "      <td>0</td>\n",
       "      <td>0</td>\n",
       "      <td>0</td>\n",
       "      <td>0</td>\n",
       "      <td>0</td>\n",
       "      <td>0</td>\n",
       "      <td>0</td>\n",
       "      <td>0</td>\n",
       "      <td>0</td>\n",
       "      <td>0</td>\n",
       "    </tr>\n",
       "    <tr>\n",
       "      <th>3</th>\n",
       "      <td>0</td>\n",
       "      <td>0</td>\n",
       "      <td>0</td>\n",
       "      <td>0</td>\n",
       "      <td>0</td>\n",
       "      <td>0</td>\n",
       "      <td>0</td>\n",
       "      <td>0</td>\n",
       "      <td>0</td>\n",
       "      <td>0</td>\n",
       "      <td>...</td>\n",
       "      <td>0</td>\n",
       "      <td>0</td>\n",
       "      <td>0</td>\n",
       "      <td>0</td>\n",
       "      <td>0</td>\n",
       "      <td>0</td>\n",
       "      <td>0</td>\n",
       "      <td>0</td>\n",
       "      <td>0</td>\n",
       "      <td>0</td>\n",
       "    </tr>\n",
       "    <tr>\n",
       "      <th>4</th>\n",
       "      <td>0</td>\n",
       "      <td>0</td>\n",
       "      <td>0</td>\n",
       "      <td>0</td>\n",
       "      <td>0</td>\n",
       "      <td>0</td>\n",
       "      <td>0</td>\n",
       "      <td>0</td>\n",
       "      <td>0</td>\n",
       "      <td>0</td>\n",
       "      <td>...</td>\n",
       "      <td>0</td>\n",
       "      <td>0</td>\n",
       "      <td>0</td>\n",
       "      <td>0</td>\n",
       "      <td>0</td>\n",
       "      <td>0</td>\n",
       "      <td>0</td>\n",
       "      <td>0</td>\n",
       "      <td>0</td>\n",
       "      <td>0</td>\n",
       "    </tr>\n",
       "  </tbody>\n",
       "</table>\n",
       "<p>5 rows × 51 columns</p>\n",
       "</div>"
      ],
      "text/plain": [
       "   AL  AR  AZ  CA  CO  CT  DC  DE  FL  GA  ...  TN  TX  UT  VA  VT  WA  WI  \\\n",
       "0   0   0   0   0   0   0   0   0   0   0  ...   0   0   0   0   0   0   0   \n",
       "1   0   0   0   0   0   0   0   0   0   0  ...   0   0   0   0   0   0   0   \n",
       "2   0   0   0   0   0   0   0   0   0   0  ...   0   0   0   0   0   0   0   \n",
       "3   0   0   0   0   0   0   0   0   0   0  ...   0   0   0   0   0   0   0   \n",
       "4   0   0   0   0   0   0   0   0   0   0  ...   0   0   0   0   0   0   0   \n",
       "\n",
       "   WV  WY  NaN  \n",
       "0   0   0    0  \n",
       "1   0   0    0  \n",
       "2   0   0    0  \n",
       "3   0   0    0  \n",
       "4   0   0    0  \n",
       "\n",
       "[5 rows x 51 columns]"
      ]
     },
     "execution_count": 36,
     "metadata": {},
     "output_type": "execute_result"
    }
   ],
   "source": [
    "# let's do One Hot Encoding of state variable\n",
    "# get k-1 dummy variables after One Hot Encoding \n",
    "# also add an additional dummy variable to indicate there was missing data\n",
    "# preview the dataset with head() method\n",
    "\n",
    "pd.get_dummies(df['state'], drop_first=True, dummy_na=True,dtype='int').head()"
   ]
  },
  {
   "cell_type": "code",
   "execution_count": 37,
   "metadata": {},
   "outputs": [
    {
     "data": {
      "text/plain": [
       "AL      80\n",
       "AR      55\n",
       "AZ      64\n",
       "CA      34\n",
       "CO      66\n",
       "CT      74\n",
       "DC      54\n",
       "DE      61\n",
       "FL      63\n",
       "GA      54\n",
       "HI      53\n",
       "IA      44\n",
       "ID      73\n",
       "IL      58\n",
       "IN      71\n",
       "KS      70\n",
       "KY      59\n",
       "LA      51\n",
       "MA      65\n",
       "MD      70\n",
       "ME      62\n",
       "MI      73\n",
       "MN      84\n",
       "MO      63\n",
       "MS      65\n",
       "MT      68\n",
       "NC      68\n",
       "ND      62\n",
       "NE      61\n",
       "NH      56\n",
       "NJ      68\n",
       "NM      62\n",
       "NV      66\n",
       "NY      83\n",
       "OH      78\n",
       "OK      61\n",
       "OR      78\n",
       "PA      45\n",
       "RI      65\n",
       "SC      60\n",
       "SD      60\n",
       "TN      53\n",
       "TX      72\n",
       "UT      72\n",
       "VA      77\n",
       "VT      73\n",
       "WA      66\n",
       "WI      78\n",
       "WV     106\n",
       "WY      77\n",
       "NaN      0\n",
       "dtype: int64"
      ]
     },
     "execution_count": 37,
     "metadata": {},
     "output_type": "execute_result"
    }
   ],
   "source": [
    "# sum the number of 1s per boolean variable over the rows of the dataset\n",
    "# it will tell us how many observations we have for each category\n",
    "\n",
    "pd.get_dummies(df['state'], drop_first=True, dummy_na=True).sum(axis=0)"
   ]
  },
  {
   "cell_type": "markdown",
   "metadata": {},
   "source": [
    "### Explore `phone number` variable\n",
    "\n",
    "- There are 3333 different phone numbers"
   ]
  },
  {
   "cell_type": "code",
   "execution_count": 38,
   "metadata": {},
   "outputs": [
    {
     "name": "stdout",
     "output_type": "stream",
     "text": [
      "phone number contains 3333 labels\n"
     ]
    }
   ],
   "source": [
    "# print number of labels in phone number variable\n",
    "print('phone number contains', len(df[\"phone number\"].unique()), 'labels')"
   ]
  },
  {
   "cell_type": "code",
   "execution_count": 39,
   "metadata": {},
   "outputs": [
    {
     "data": {
      "text/plain": [
       "array(['382-4657', '371-7191', '358-1921', ..., '328-8230', '364-6381',\n",
       "       '400-4344'], dtype=object)"
      ]
     },
     "execution_count": 39,
     "metadata": {},
     "output_type": "execute_result"
    }
   ],
   "source": [
    "# check labels in phone number variable\n",
    "df[\"phone number\"].unique()"
   ]
  },
  {
   "cell_type": "code",
   "execution_count": 40,
   "metadata": {},
   "outputs": [
    {
     "data": {
      "text/plain": [
       "329-6192    1\n",
       "329-8436    1\n",
       "406-2678    1\n",
       "359-9992    1\n",
       "375-4770    1\n",
       "           ..\n",
       "337-7739    1\n",
       "380-6074    1\n",
       "416-5261    1\n",
       "401-1454    1\n",
       "417-4810    1\n",
       "Name: phone number, Length: 3333, dtype: int64"
      ]
     },
     "execution_count": 40,
     "metadata": {},
     "output_type": "execute_result"
    }
   ],
   "source": [
    "# check frequency distribution of values in phone number variable\n",
    "\n",
    "df[\"phone number\"].value_counts()"
   ]
  },
  {
   "cell_type": "markdown",
   "metadata": {},
   "source": [
    "### Explore `intenational plan` variable\n",
    "\n",
    "There are two labels for the international plan:\n",
    "- Yes: a customer has an international plan\n",
    "- No: a customer has no international plan"
   ]
  },
  {
   "cell_type": "code",
   "execution_count": 41,
   "metadata": {},
   "outputs": [
    {
     "name": "stdout",
     "output_type": "stream",
     "text": [
      "international plan contains 2 labels\n"
     ]
    }
   ],
   "source": [
    "# print number of labels in international plan variable\n",
    "print('international plan contains', len(df[\"international plan\"].unique()), 'labels')"
   ]
  },
  {
   "cell_type": "code",
   "execution_count": 42,
   "metadata": {},
   "outputs": [
    {
     "data": {
      "text/plain": [
       "array(['no', 'yes'], dtype=object)"
      ]
     },
     "execution_count": 42,
     "metadata": {},
     "output_type": "execute_result"
    }
   ],
   "source": [
    "# check labels in international plan variable\n",
    "df[\"international plan\"].unique()"
   ]
  },
  {
   "cell_type": "code",
   "execution_count": 43,
   "metadata": {},
   "outputs": [
    {
     "data": {
      "text/plain": [
       "no     3010\n",
       "yes     323\n",
       "Name: international plan, dtype: int64"
      ]
     },
     "execution_count": 43,
     "metadata": {},
     "output_type": "execute_result"
    }
   ],
   "source": [
    "# check frequency distribution of values in international plan variable\n",
    "\n",
    "df[\"international plan\"].value_counts()"
   ]
  },
  {
   "cell_type": "code",
   "execution_count": 44,
   "metadata": {},
   "outputs": [
    {
     "data": {
      "text/html": [
       "<div>\n",
       "<style scoped>\n",
       "    .dataframe tbody tr th:only-of-type {\n",
       "        vertical-align: middle;\n",
       "    }\n",
       "\n",
       "    .dataframe tbody tr th {\n",
       "        vertical-align: top;\n",
       "    }\n",
       "\n",
       "    .dataframe thead th {\n",
       "        text-align: right;\n",
       "    }\n",
       "</style>\n",
       "<table border=\"1\" class=\"dataframe\">\n",
       "  <thead>\n",
       "    <tr style=\"text-align: right;\">\n",
       "      <th></th>\n",
       "      <th>yes</th>\n",
       "      <th>NaN</th>\n",
       "    </tr>\n",
       "  </thead>\n",
       "  <tbody>\n",
       "    <tr>\n",
       "      <th>0</th>\n",
       "      <td>0</td>\n",
       "      <td>0</td>\n",
       "    </tr>\n",
       "    <tr>\n",
       "      <th>1</th>\n",
       "      <td>0</td>\n",
       "      <td>0</td>\n",
       "    </tr>\n",
       "    <tr>\n",
       "      <th>2</th>\n",
       "      <td>0</td>\n",
       "      <td>0</td>\n",
       "    </tr>\n",
       "    <tr>\n",
       "      <th>3</th>\n",
       "      <td>1</td>\n",
       "      <td>0</td>\n",
       "    </tr>\n",
       "    <tr>\n",
       "      <th>4</th>\n",
       "      <td>1</td>\n",
       "      <td>0</td>\n",
       "    </tr>\n",
       "  </tbody>\n",
       "</table>\n",
       "</div>"
      ],
      "text/plain": [
       "   yes  NaN\n",
       "0    0    0\n",
       "1    0    0\n",
       "2    0    0\n",
       "3    1    0\n",
       "4    1    0"
      ]
     },
     "execution_count": 44,
     "metadata": {},
     "output_type": "execute_result"
    }
   ],
   "source": [
    "# let's do One Hot Encoding of international plan variable\n",
    "# get k-1 dummy variables after One Hot Encoding \n",
    "# also add an additional dummy variable to indicate there was missing data\n",
    "# preview the dataset with head() method\n",
    "\n",
    "pd.get_dummies(df['international plan'], drop_first=True, dummy_na=True,dtype='int').head()"
   ]
  },
  {
   "cell_type": "code",
   "execution_count": 45,
   "metadata": {},
   "outputs": [
    {
     "data": {
      "text/plain": [
       "yes    323\n",
       "NaN      0\n",
       "dtype: int64"
      ]
     },
     "execution_count": 45,
     "metadata": {},
     "output_type": "execute_result"
    }
   ],
   "source": [
    "# sum the number of 1s per boolean variable over the rows of the dataset\n",
    "# it will tell us how many observations we have for each category\n",
    "\n",
    "pd.get_dummies(df['international plan'], drop_first=True, dummy_na=True).sum(axis=0)"
   ]
  },
  {
   "cell_type": "markdown",
   "metadata": {},
   "source": [
    "### Explore `voice mail plan` variable\n",
    "\n",
    "There are two labels for the voice mail plan:\n",
    "- Yes: a customer has a voice mail plan\n",
    "- No: a customer has no voice mail plan"
   ]
  },
  {
   "cell_type": "code",
   "execution_count": 46,
   "metadata": {},
   "outputs": [
    {
     "name": "stdout",
     "output_type": "stream",
     "text": [
      "voice mail plan contains 2 labels\n"
     ]
    }
   ],
   "source": [
    "# print number of labels in voice mail plan variable\n",
    "print('voice mail plan contains', len(df[\"voice mail plan\"].unique()), 'labels')"
   ]
  },
  {
   "cell_type": "code",
   "execution_count": 47,
   "metadata": {},
   "outputs": [
    {
     "data": {
      "text/plain": [
       "array(['yes', 'no'], dtype=object)"
      ]
     },
     "execution_count": 47,
     "metadata": {},
     "output_type": "execute_result"
    }
   ],
   "source": [
    "# check labels in voice mail plan variable\n",
    "df[\"voice mail plan\"].unique()"
   ]
  },
  {
   "cell_type": "code",
   "execution_count": 48,
   "metadata": {},
   "outputs": [
    {
     "data": {
      "text/plain": [
       "no     2411\n",
       "yes     922\n",
       "Name: voice mail plan, dtype: int64"
      ]
     },
     "execution_count": 48,
     "metadata": {},
     "output_type": "execute_result"
    }
   ],
   "source": [
    "# check frequency distribution of values in voice mail plan variable\n",
    "\n",
    "df[\"voice mail plan\"].value_counts()"
   ]
  },
  {
   "cell_type": "code",
   "execution_count": 49,
   "metadata": {},
   "outputs": [
    {
     "data": {
      "text/html": [
       "<div>\n",
       "<style scoped>\n",
       "    .dataframe tbody tr th:only-of-type {\n",
       "        vertical-align: middle;\n",
       "    }\n",
       "\n",
       "    .dataframe tbody tr th {\n",
       "        vertical-align: top;\n",
       "    }\n",
       "\n",
       "    .dataframe thead th {\n",
       "        text-align: right;\n",
       "    }\n",
       "</style>\n",
       "<table border=\"1\" class=\"dataframe\">\n",
       "  <thead>\n",
       "    <tr style=\"text-align: right;\">\n",
       "      <th></th>\n",
       "      <th>yes</th>\n",
       "      <th>NaN</th>\n",
       "    </tr>\n",
       "  </thead>\n",
       "  <tbody>\n",
       "    <tr>\n",
       "      <th>0</th>\n",
       "      <td>1</td>\n",
       "      <td>0</td>\n",
       "    </tr>\n",
       "    <tr>\n",
       "      <th>1</th>\n",
       "      <td>1</td>\n",
       "      <td>0</td>\n",
       "    </tr>\n",
       "    <tr>\n",
       "      <th>2</th>\n",
       "      <td>0</td>\n",
       "      <td>0</td>\n",
       "    </tr>\n",
       "    <tr>\n",
       "      <th>3</th>\n",
       "      <td>0</td>\n",
       "      <td>0</td>\n",
       "    </tr>\n",
       "    <tr>\n",
       "      <th>4</th>\n",
       "      <td>0</td>\n",
       "      <td>0</td>\n",
       "    </tr>\n",
       "  </tbody>\n",
       "</table>\n",
       "</div>"
      ],
      "text/plain": [
       "   yes  NaN\n",
       "0    1    0\n",
       "1    1    0\n",
       "2    0    0\n",
       "3    0    0\n",
       "4    0    0"
      ]
     },
     "execution_count": 49,
     "metadata": {},
     "output_type": "execute_result"
    }
   ],
   "source": [
    "# let's do One Hot Encoding of voice mail plan variable\n",
    "# get k-1 dummy variables after One Hot Encoding \n",
    "# also add an additional dummy variable to indicate there was missing data\n",
    "# preview the dataset with head() method\n",
    "\n",
    "pd.get_dummies(df['voice mail plan'], drop_first=True, dummy_na=True,dtype='int').head()"
   ]
  },
  {
   "cell_type": "code",
   "execution_count": 50,
   "metadata": {},
   "outputs": [
    {
     "data": {
      "text/plain": [
       "yes    922\n",
       "NaN      0\n",
       "dtype: int64"
      ]
     },
     "execution_count": 50,
     "metadata": {},
     "output_type": "execute_result"
    }
   ],
   "source": [
    "# sum the number of 1s per boolean variable over the rows of the dataset\n",
    "# it will tell us how many observations we have for each category\n",
    "\n",
    "pd.get_dummies(df['voice mail plan'], drop_first=True, dummy_na=True).sum(axis=0)"
   ]
  },
  {
   "cell_type": "markdown",
   "metadata": {},
   "source": [
    "## Explore Numerical Variables"
   ]
  },
  {
   "cell_type": "code",
   "execution_count": 51,
   "metadata": {},
   "outputs": [
    {
     "name": "stdout",
     "output_type": "stream",
     "text": [
      "There are 16 numerical variables\n",
      "\n",
      "The numerical variables are : ['account length', 'number vmail messages', 'total day minutes', 'total day calls', 'total day charge', 'total eve minutes', 'total eve calls', 'total eve charge', 'total night minutes', 'total night calls', 'total night charge', 'total intl minutes', 'total intl calls', 'total intl charge', 'customer service calls', 'churn']\n"
     ]
    }
   ],
   "source": [
    "# find numerical variables\n",
    "numerical = [var for var in df.columns if df[var].dtype!='O']\n",
    "print('There are {} numerical variables\\n'.format(len(numerical)))\n",
    "print('The numerical variables are :', numerical)"
   ]
  },
  {
   "cell_type": "code",
   "execution_count": 52,
   "metadata": {},
   "outputs": [
    {
     "data": {
      "text/html": [
       "<div>\n",
       "<style scoped>\n",
       "    .dataframe tbody tr th:only-of-type {\n",
       "        vertical-align: middle;\n",
       "    }\n",
       "\n",
       "    .dataframe tbody tr th {\n",
       "        vertical-align: top;\n",
       "    }\n",
       "\n",
       "    .dataframe thead th {\n",
       "        text-align: right;\n",
       "    }\n",
       "</style>\n",
       "<table border=\"1\" class=\"dataframe\">\n",
       "  <thead>\n",
       "    <tr style=\"text-align: right;\">\n",
       "      <th></th>\n",
       "      <th>account length</th>\n",
       "      <th>number vmail messages</th>\n",
       "      <th>total day minutes</th>\n",
       "      <th>total day calls</th>\n",
       "      <th>total day charge</th>\n",
       "      <th>total eve minutes</th>\n",
       "      <th>total eve calls</th>\n",
       "      <th>total eve charge</th>\n",
       "      <th>total night minutes</th>\n",
       "      <th>total night calls</th>\n",
       "      <th>total night charge</th>\n",
       "      <th>total intl minutes</th>\n",
       "      <th>total intl calls</th>\n",
       "      <th>total intl charge</th>\n",
       "      <th>customer service calls</th>\n",
       "      <th>churn</th>\n",
       "    </tr>\n",
       "  </thead>\n",
       "  <tbody>\n",
       "    <tr>\n",
       "      <th>0</th>\n",
       "      <td>128</td>\n",
       "      <td>25</td>\n",
       "      <td>265.1</td>\n",
       "      <td>110</td>\n",
       "      <td>45.07</td>\n",
       "      <td>197.4</td>\n",
       "      <td>99</td>\n",
       "      <td>16.78</td>\n",
       "      <td>244.7</td>\n",
       "      <td>91</td>\n",
       "      <td>11.01</td>\n",
       "      <td>10.0</td>\n",
       "      <td>3</td>\n",
       "      <td>2.70</td>\n",
       "      <td>1</td>\n",
       "      <td>False</td>\n",
       "    </tr>\n",
       "    <tr>\n",
       "      <th>1</th>\n",
       "      <td>107</td>\n",
       "      <td>26</td>\n",
       "      <td>161.6</td>\n",
       "      <td>123</td>\n",
       "      <td>27.47</td>\n",
       "      <td>195.5</td>\n",
       "      <td>103</td>\n",
       "      <td>16.62</td>\n",
       "      <td>254.4</td>\n",
       "      <td>103</td>\n",
       "      <td>11.45</td>\n",
       "      <td>13.7</td>\n",
       "      <td>3</td>\n",
       "      <td>3.70</td>\n",
       "      <td>1</td>\n",
       "      <td>False</td>\n",
       "    </tr>\n",
       "    <tr>\n",
       "      <th>2</th>\n",
       "      <td>137</td>\n",
       "      <td>0</td>\n",
       "      <td>243.4</td>\n",
       "      <td>114</td>\n",
       "      <td>41.38</td>\n",
       "      <td>121.2</td>\n",
       "      <td>110</td>\n",
       "      <td>10.30</td>\n",
       "      <td>162.6</td>\n",
       "      <td>104</td>\n",
       "      <td>7.32</td>\n",
       "      <td>12.2</td>\n",
       "      <td>5</td>\n",
       "      <td>3.29</td>\n",
       "      <td>0</td>\n",
       "      <td>False</td>\n",
       "    </tr>\n",
       "    <tr>\n",
       "      <th>3</th>\n",
       "      <td>84</td>\n",
       "      <td>0</td>\n",
       "      <td>299.4</td>\n",
       "      <td>71</td>\n",
       "      <td>50.90</td>\n",
       "      <td>61.9</td>\n",
       "      <td>88</td>\n",
       "      <td>5.26</td>\n",
       "      <td>196.9</td>\n",
       "      <td>89</td>\n",
       "      <td>8.86</td>\n",
       "      <td>6.6</td>\n",
       "      <td>7</td>\n",
       "      <td>1.78</td>\n",
       "      <td>2</td>\n",
       "      <td>False</td>\n",
       "    </tr>\n",
       "    <tr>\n",
       "      <th>4</th>\n",
       "      <td>75</td>\n",
       "      <td>0</td>\n",
       "      <td>166.7</td>\n",
       "      <td>113</td>\n",
       "      <td>28.34</td>\n",
       "      <td>148.3</td>\n",
       "      <td>122</td>\n",
       "      <td>12.61</td>\n",
       "      <td>186.9</td>\n",
       "      <td>121</td>\n",
       "      <td>8.41</td>\n",
       "      <td>10.1</td>\n",
       "      <td>3</td>\n",
       "      <td>2.73</td>\n",
       "      <td>3</td>\n",
       "      <td>False</td>\n",
       "    </tr>\n",
       "  </tbody>\n",
       "</table>\n",
       "</div>"
      ],
      "text/plain": [
       "   account length  number vmail messages  total day minutes  total day calls  \\\n",
       "0             128                     25              265.1              110   \n",
       "1             107                     26              161.6              123   \n",
       "2             137                      0              243.4              114   \n",
       "3              84                      0              299.4               71   \n",
       "4              75                      0              166.7              113   \n",
       "\n",
       "   total day charge  total eve minutes  total eve calls  total eve charge  \\\n",
       "0             45.07              197.4               99             16.78   \n",
       "1             27.47              195.5              103             16.62   \n",
       "2             41.38              121.2              110             10.30   \n",
       "3             50.90               61.9               88              5.26   \n",
       "4             28.34              148.3              122             12.61   \n",
       "\n",
       "   total night minutes  total night calls  total night charge  \\\n",
       "0                244.7                 91               11.01   \n",
       "1                254.4                103               11.45   \n",
       "2                162.6                104                7.32   \n",
       "3                196.9                 89                8.86   \n",
       "4                186.9                121                8.41   \n",
       "\n",
       "   total intl minutes  total intl calls  total intl charge  \\\n",
       "0                10.0                 3               2.70   \n",
       "1                13.7                 3               3.70   \n",
       "2                12.2                 5               3.29   \n",
       "3                 6.6                 7               1.78   \n",
       "4                10.1                 3               2.73   \n",
       "\n",
       "   customer service calls  churn  \n",
       "0                       1  False  \n",
       "1                       1  False  \n",
       "2                       0  False  \n",
       "3                       2  False  \n",
       "4                       3  False  "
      ]
     },
     "execution_count": 52,
     "metadata": {},
     "output_type": "execute_result"
    }
   ],
   "source": [
    "# view the numerical variables\n",
    "df[numerical].head()"
   ]
  },
  {
   "cell_type": "markdown",
   "metadata": {},
   "source": [
    "### Summary of numerical variables\n",
    "\n",
    "- There are 17 numerical variables. \n",
    "\n",
    "- These are given by `account length`, `area code`, `number vmail messages`, `total day minutes`, `total day calls`, `total day charge`, `total eve minutes`,\n",
    "                    `total eve calls`, `total eve charge`, `total night minutes`, `total night calls`, `total night charge`, `total intl minutes',\t'total intl calls`, \n",
    "                    `total intl charge`, `customer service calls` and `churn`."
   ]
  },
  {
   "cell_type": "markdown",
   "metadata": {},
   "source": [
    "### Explore problems within numerical variables\n",
    "\n",
    "Now, I will explore the numerical variables.\n",
    "\n",
    "### Missing values in numerical variables"
   ]
  },
  {
   "cell_type": "code",
   "execution_count": 53,
   "metadata": {},
   "outputs": [
    {
     "name": "stdout",
     "output_type": "stream",
     "text": [
      "<class 'pandas.core.frame.DataFrame'>\n",
      "RangeIndex: 3333 entries, 0 to 3332\n",
      "Data columns (total 16 columns):\n",
      " #   Column                  Non-Null Count  Dtype  \n",
      "---  ------                  --------------  -----  \n",
      " 0   account length          3333 non-null   int64  \n",
      " 1   number vmail messages   3333 non-null   int64  \n",
      " 2   total day minutes       3333 non-null   float64\n",
      " 3   total day calls         3333 non-null   int64  \n",
      " 4   total day charge        3333 non-null   float64\n",
      " 5   total eve minutes       3333 non-null   float64\n",
      " 6   total eve calls         3333 non-null   int64  \n",
      " 7   total eve charge        3333 non-null   float64\n",
      " 8   total night minutes     3333 non-null   float64\n",
      " 9   total night calls       3333 non-null   int64  \n",
      " 10  total night charge      3333 non-null   float64\n",
      " 11  total intl minutes      3333 non-null   float64\n",
      " 12  total intl calls        3333 non-null   int64  \n",
      " 13  total intl charge       3333 non-null   float64\n",
      " 14  customer service calls  3333 non-null   int64  \n",
      " 15  churn                   3333 non-null   bool   \n",
      "dtypes: bool(1), float64(8), int64(7)\n",
      "memory usage: 394.0 KB\n"
     ]
    }
   ],
   "source": [
    "# check type of variables\n",
    "df[numerical].info()"
   ]
  },
  {
   "cell_type": "code",
   "execution_count": 54,
   "metadata": {},
   "outputs": [
    {
     "data": {
      "text/plain": [
       "account length            0\n",
       "number vmail messages     0\n",
       "total day minutes         0\n",
       "total day calls           0\n",
       "total day charge          0\n",
       "total eve minutes         0\n",
       "total eve calls           0\n",
       "total eve charge          0\n",
       "total night minutes       0\n",
       "total night calls         0\n",
       "total night charge        0\n",
       "total intl minutes        0\n",
       "total intl calls          0\n",
       "total intl charge         0\n",
       "customer service calls    0\n",
       "churn                     0\n",
       "dtype: int64"
      ]
     },
     "execution_count": 54,
     "metadata": {},
     "output_type": "execute_result"
    }
   ],
   "source": [
    "# check missing values in numerical variables\n",
    "\n",
    "df[numerical].isnull().sum()"
   ]
  },
  {
   "cell_type": "markdown",
   "metadata": {},
   "source": [
    "All the numerical variables have no missing values"
   ]
  },
  {
   "cell_type": "code",
   "execution_count": 55,
   "metadata": {},
   "outputs": [
    {
     "data": {
      "text/html": [
       "<div>\n",
       "<style scoped>\n",
       "    .dataframe tbody tr th:only-of-type {\n",
       "        vertical-align: middle;\n",
       "    }\n",
       "\n",
       "    .dataframe tbody tr th {\n",
       "        vertical-align: top;\n",
       "    }\n",
       "\n",
       "    .dataframe thead th {\n",
       "        text-align: right;\n",
       "    }\n",
       "</style>\n",
       "<table border=\"1\" class=\"dataframe\">\n",
       "  <thead>\n",
       "    <tr style=\"text-align: right;\">\n",
       "      <th></th>\n",
       "      <th>account length</th>\n",
       "      <th>number vmail messages</th>\n",
       "      <th>total day minutes</th>\n",
       "      <th>total day calls</th>\n",
       "      <th>total day charge</th>\n",
       "      <th>total eve minutes</th>\n",
       "      <th>total eve calls</th>\n",
       "      <th>total eve charge</th>\n",
       "      <th>total night minutes</th>\n",
       "      <th>total night calls</th>\n",
       "      <th>total night charge</th>\n",
       "      <th>total intl minutes</th>\n",
       "      <th>total intl calls</th>\n",
       "      <th>total intl charge</th>\n",
       "      <th>customer service calls</th>\n",
       "    </tr>\n",
       "  </thead>\n",
       "  <tbody>\n",
       "    <tr>\n",
       "      <th>count</th>\n",
       "      <td>3333.000000</td>\n",
       "      <td>3333.000000</td>\n",
       "      <td>3333.000000</td>\n",
       "      <td>3333.000000</td>\n",
       "      <td>3333.000000</td>\n",
       "      <td>3333.000000</td>\n",
       "      <td>3333.000000</td>\n",
       "      <td>3333.000000</td>\n",
       "      <td>3333.000000</td>\n",
       "      <td>3333.000000</td>\n",
       "      <td>3333.000000</td>\n",
       "      <td>3333.000000</td>\n",
       "      <td>3333.000000</td>\n",
       "      <td>3333.000000</td>\n",
       "      <td>3333.000000</td>\n",
       "    </tr>\n",
       "    <tr>\n",
       "      <th>mean</th>\n",
       "      <td>101.064806</td>\n",
       "      <td>8.099010</td>\n",
       "      <td>179.775098</td>\n",
       "      <td>100.435644</td>\n",
       "      <td>30.562307</td>\n",
       "      <td>200.980348</td>\n",
       "      <td>100.114311</td>\n",
       "      <td>17.083540</td>\n",
       "      <td>200.872037</td>\n",
       "      <td>100.107711</td>\n",
       "      <td>9.039325</td>\n",
       "      <td>10.237294</td>\n",
       "      <td>4.479448</td>\n",
       "      <td>2.764581</td>\n",
       "      <td>1.562856</td>\n",
       "    </tr>\n",
       "    <tr>\n",
       "      <th>std</th>\n",
       "      <td>39.822106</td>\n",
       "      <td>13.688365</td>\n",
       "      <td>54.467389</td>\n",
       "      <td>20.069084</td>\n",
       "      <td>9.259435</td>\n",
       "      <td>50.713844</td>\n",
       "      <td>19.922625</td>\n",
       "      <td>4.310668</td>\n",
       "      <td>50.573847</td>\n",
       "      <td>19.568609</td>\n",
       "      <td>2.275873</td>\n",
       "      <td>2.791840</td>\n",
       "      <td>2.461214</td>\n",
       "      <td>0.753773</td>\n",
       "      <td>1.315491</td>\n",
       "    </tr>\n",
       "    <tr>\n",
       "      <th>min</th>\n",
       "      <td>1.000000</td>\n",
       "      <td>0.000000</td>\n",
       "      <td>0.000000</td>\n",
       "      <td>0.000000</td>\n",
       "      <td>0.000000</td>\n",
       "      <td>0.000000</td>\n",
       "      <td>0.000000</td>\n",
       "      <td>0.000000</td>\n",
       "      <td>23.200000</td>\n",
       "      <td>33.000000</td>\n",
       "      <td>1.040000</td>\n",
       "      <td>0.000000</td>\n",
       "      <td>0.000000</td>\n",
       "      <td>0.000000</td>\n",
       "      <td>0.000000</td>\n",
       "    </tr>\n",
       "    <tr>\n",
       "      <th>25%</th>\n",
       "      <td>74.000000</td>\n",
       "      <td>0.000000</td>\n",
       "      <td>143.700000</td>\n",
       "      <td>87.000000</td>\n",
       "      <td>24.430000</td>\n",
       "      <td>166.600000</td>\n",
       "      <td>87.000000</td>\n",
       "      <td>14.160000</td>\n",
       "      <td>167.000000</td>\n",
       "      <td>87.000000</td>\n",
       "      <td>7.520000</td>\n",
       "      <td>8.500000</td>\n",
       "      <td>3.000000</td>\n",
       "      <td>2.300000</td>\n",
       "      <td>1.000000</td>\n",
       "    </tr>\n",
       "    <tr>\n",
       "      <th>50%</th>\n",
       "      <td>101.000000</td>\n",
       "      <td>0.000000</td>\n",
       "      <td>179.400000</td>\n",
       "      <td>101.000000</td>\n",
       "      <td>30.500000</td>\n",
       "      <td>201.400000</td>\n",
       "      <td>100.000000</td>\n",
       "      <td>17.120000</td>\n",
       "      <td>201.200000</td>\n",
       "      <td>100.000000</td>\n",
       "      <td>9.050000</td>\n",
       "      <td>10.300000</td>\n",
       "      <td>4.000000</td>\n",
       "      <td>2.780000</td>\n",
       "      <td>1.000000</td>\n",
       "    </tr>\n",
       "    <tr>\n",
       "      <th>75%</th>\n",
       "      <td>127.000000</td>\n",
       "      <td>20.000000</td>\n",
       "      <td>216.400000</td>\n",
       "      <td>114.000000</td>\n",
       "      <td>36.790000</td>\n",
       "      <td>235.300000</td>\n",
       "      <td>114.000000</td>\n",
       "      <td>20.000000</td>\n",
       "      <td>235.300000</td>\n",
       "      <td>113.000000</td>\n",
       "      <td>10.590000</td>\n",
       "      <td>12.100000</td>\n",
       "      <td>6.000000</td>\n",
       "      <td>3.270000</td>\n",
       "      <td>2.000000</td>\n",
       "    </tr>\n",
       "    <tr>\n",
       "      <th>max</th>\n",
       "      <td>243.000000</td>\n",
       "      <td>51.000000</td>\n",
       "      <td>350.800000</td>\n",
       "      <td>165.000000</td>\n",
       "      <td>59.640000</td>\n",
       "      <td>363.700000</td>\n",
       "      <td>170.000000</td>\n",
       "      <td>30.910000</td>\n",
       "      <td>395.000000</td>\n",
       "      <td>175.000000</td>\n",
       "      <td>17.770000</td>\n",
       "      <td>20.000000</td>\n",
       "      <td>20.000000</td>\n",
       "      <td>5.400000</td>\n",
       "      <td>9.000000</td>\n",
       "    </tr>\n",
       "  </tbody>\n",
       "</table>\n",
       "</div>"
      ],
      "text/plain": [
       "       account length  number vmail messages  total day minutes  \\\n",
       "count     3333.000000            3333.000000        3333.000000   \n",
       "mean       101.064806               8.099010         179.775098   \n",
       "std         39.822106              13.688365          54.467389   \n",
       "min          1.000000               0.000000           0.000000   \n",
       "25%         74.000000               0.000000         143.700000   \n",
       "50%        101.000000               0.000000         179.400000   \n",
       "75%        127.000000              20.000000         216.400000   \n",
       "max        243.000000              51.000000         350.800000   \n",
       "\n",
       "       total day calls  total day charge  total eve minutes  total eve calls  \\\n",
       "count      3333.000000       3333.000000        3333.000000      3333.000000   \n",
       "mean        100.435644         30.562307         200.980348       100.114311   \n",
       "std          20.069084          9.259435          50.713844        19.922625   \n",
       "min           0.000000          0.000000           0.000000         0.000000   \n",
       "25%          87.000000         24.430000         166.600000        87.000000   \n",
       "50%         101.000000         30.500000         201.400000       100.000000   \n",
       "75%         114.000000         36.790000         235.300000       114.000000   \n",
       "max         165.000000         59.640000         363.700000       170.000000   \n",
       "\n",
       "       total eve charge  total night minutes  total night calls  \\\n",
       "count       3333.000000          3333.000000        3333.000000   \n",
       "mean          17.083540           200.872037         100.107711   \n",
       "std            4.310668            50.573847          19.568609   \n",
       "min            0.000000            23.200000          33.000000   \n",
       "25%           14.160000           167.000000          87.000000   \n",
       "50%           17.120000           201.200000         100.000000   \n",
       "75%           20.000000           235.300000         113.000000   \n",
       "max           30.910000           395.000000         175.000000   \n",
       "\n",
       "       total night charge  total intl minutes  total intl calls  \\\n",
       "count         3333.000000         3333.000000       3333.000000   \n",
       "mean             9.039325           10.237294          4.479448   \n",
       "std              2.275873            2.791840          2.461214   \n",
       "min              1.040000            0.000000          0.000000   \n",
       "25%              7.520000            8.500000          3.000000   \n",
       "50%              9.050000           10.300000          4.000000   \n",
       "75%             10.590000           12.100000          6.000000   \n",
       "max             17.770000           20.000000         20.000000   \n",
       "\n",
       "       total intl charge  customer service calls  \n",
       "count        3333.000000             3333.000000  \n",
       "mean            2.764581                1.562856  \n",
       "std             0.753773                1.315491  \n",
       "min             0.000000                0.000000  \n",
       "25%             2.300000                1.000000  \n",
       "50%             2.780000                1.000000  \n",
       "75%             3.270000                2.000000  \n",
       "max             5.400000                9.000000  "
      ]
     },
     "execution_count": 55,
     "metadata": {},
     "output_type": "execute_result"
    }
   ],
   "source": [
    "# view summary statistics in numerical variables\n",
    "df[numerical].describe()"
   ]
  },
  {
   "cell_type": "code",
   "execution_count": 56,
   "metadata": {},
   "outputs": [
    {
     "name": "stdout",
     "output_type": "stream",
     "text": [
      "       account length  number vmail messages  total day minutes  \\\n",
      "count          3333.0                 3333.0             3333.0   \n",
      "mean            101.0                    8.0              180.0   \n",
      "std              40.0                   14.0               54.0   \n",
      "min               1.0                    0.0                0.0   \n",
      "25%              74.0                    0.0              144.0   \n",
      "50%             101.0                    0.0              179.0   \n",
      "75%             127.0                   20.0              216.0   \n",
      "max             243.0                   51.0              351.0   \n",
      "\n",
      "       total day calls  total day charge  total eve minutes  total eve calls  \\\n",
      "count           3333.0            3333.0             3333.0           3333.0   \n",
      "mean             100.0              31.0              201.0            100.0   \n",
      "std               20.0               9.0               51.0             20.0   \n",
      "min                0.0               0.0                0.0              0.0   \n",
      "25%               87.0              24.0              167.0             87.0   \n",
      "50%              101.0              30.0              201.0            100.0   \n",
      "75%              114.0              37.0              235.0            114.0   \n",
      "max              165.0              60.0              364.0            170.0   \n",
      "\n",
      "       total eve charge  total night minutes  total night calls  \\\n",
      "count            3333.0               3333.0             3333.0   \n",
      "mean               17.0                201.0              100.0   \n",
      "std                 4.0                 51.0               20.0   \n",
      "min                 0.0                 23.0               33.0   \n",
      "25%                14.0                167.0               87.0   \n",
      "50%                17.0                201.0              100.0   \n",
      "75%                20.0                235.0              113.0   \n",
      "max                31.0                395.0              175.0   \n",
      "\n",
      "       total night charge  total intl minutes  total intl calls  \\\n",
      "count              3333.0              3333.0            3333.0   \n",
      "mean                  9.0                10.0               4.0   \n",
      "std                   2.0                 3.0               2.0   \n",
      "min                   1.0                 0.0               0.0   \n",
      "25%                   8.0                 8.0               3.0   \n",
      "50%                   9.0                10.0               4.0   \n",
      "75%                  11.0                12.0               6.0   \n",
      "max                  18.0                20.0              20.0   \n",
      "\n",
      "       total intl charge  customer service calls  \n",
      "count             3333.0                  3333.0  \n",
      "mean                 3.0                     2.0  \n",
      "std                  1.0                     1.0  \n",
      "min                  0.0                     0.0  \n",
      "25%                  2.0                     1.0  \n",
      "50%                  3.0                     1.0  \n",
      "75%                  3.0                     2.0  \n",
      "max                  5.0                     9.0   2\n"
     ]
    }
   ],
   "source": [
    "# view summary statistics in numerical variables. round off to nearest whole number\n",
    "print(round(df[numerical].describe()),2)"
   ]
  },
  {
   "cell_type": "markdown",
   "metadata": {},
   "source": [
    "### Explore the numerical variables for outliers"
   ]
  },
  {
   "cell_type": "code",
   "execution_count": 57,
   "metadata": {},
   "outputs": [
    {
     "data": {
      "text/plain": [
       "Text(0, 0.5, 'number vmail messages')"
      ]
     },
     "execution_count": 57,
     "metadata": {},
     "output_type": "execute_result"
    },
    {
     "data": {
      "image/png": "[encoded data removed]",
      "text/plain": [
       "<Figure size 1080x720 with 2 Axes>"
      ]
     },
     "metadata": {
      "needs_background": "light"
     },
     "output_type": "display_data"
    }
   ],
   "source": [
    "# draw boxplots to visualize outliers\n",
    "\n",
    "plt.figure(figsize=(15,10))\n",
    "\n",
    "plt.subplot(2, 2, 1)\n",
    "fig = df.boxplot(column='account length')\n",
    "fig.set_title('')\n",
    "fig.set_ylabel('account length')\n",
    "\n",
    "\n",
    "plt.subplot(2, 2, 2)\n",
    "fig = df.boxplot(column='number vmail messages')\n",
    "fig.set_title('')\n",
    "fig.set_ylabel('number vmail messages')"
   ]
  },
  {
   "cell_type": "code",
   "execution_count": 58,
   "metadata": {},
   "outputs": [
    {
     "data": {
      "text/plain": [
       "Text(0, 0.5, 'total day calls')"
      ]
     },
     "execution_count": 58,
     "metadata": {},
     "output_type": "execute_result"
    },
    {
     "data": {
      "image/png": "[encoded data removed]",
      "text/plain": [
       "<Figure size 1080x720 with 2 Axes>"
      ]
     },
     "metadata": {
      "needs_background": "light"
     },
     "output_type": "display_data"
    }
   ],
   "source": [
    "# draw boxplots to visualize outliers\n",
    "\n",
    "plt.figure(figsize=(15,10))\n",
    "\n",
    "plt.subplot(2, 2, 3)\n",
    "fig = df.boxplot(column='total day minutes')\n",
    "fig.set_title('')\n",
    "fig.set_ylabel('total day minutes')\n",
    "\n",
    "\n",
    "plt.subplot(2, 2, 4)\n",
    "fig = df.boxplot(column='total day calls')\n",
    "fig.set_title('')\n",
    "fig.set_ylabel('total day calls')"
   ]
  },
  {
   "cell_type": "code",
   "execution_count": 59,
   "metadata": {},
   "outputs": [
    {
     "data": {
      "text/plain": [
       "Text(0, 0.5, 'total eve minutes')"
      ]
     },
     "execution_count": 59,
     "metadata": {},
     "output_type": "execute_result"
    },
    {
     "data": {
      "image/png": "[encoded data removed]",
      "text/plain": [
       "<Figure size 1080x720 with 2 Axes>"
      ]
     },
     "metadata": {
      "needs_background": "light"
     },
     "output_type": "display_data"
    }
   ],
   "source": [
    "# draw boxplots to visualize outliers\n",
    "\n",
    "plt.figure(figsize=(15,10))\n",
    "\n",
    "plt.subplot(2, 2, 3)\n",
    "fig = df.boxplot(column='total day charge')\n",
    "fig.set_title('')\n",
    "fig.set_ylabel('total day charge')\n",
    "\n",
    "\n",
    "plt.subplot(2, 2, 4)\n",
    "fig = df.boxplot(column='total eve minutes')\n",
    "fig.set_title('')\n",
    "fig.set_ylabel('total eve minutes')"
   ]
  },
  {
   "cell_type": "code",
   "execution_count": 60,
   "metadata": {},
   "outputs": [
    {
     "data": {
      "text/plain": [
       "Text(0, 0.5, 'total eve charge')"
      ]
     },
     "execution_count": 60,
     "metadata": {},
     "output_type": "execute_result"
    },
    {
     "data": {
      "image/png": "[encoded data removed]",
      "text/plain": [
       "<Figure size 1080x720 with 2 Axes>"
      ]
     },
     "metadata": {
      "needs_background": "light"
     },
     "output_type": "display_data"
    }
   ],
   "source": [
    "plt.figure(figsize=(15,10))\n",
    "\n",
    "plt.subplot(2, 2, 3)\n",
    "fig = df.boxplot(column='total eve calls')\n",
    "fig.set_title('')\n",
    "fig.set_ylabel('total eve calls')\n",
    "\n",
    "\n",
    "plt.subplot(2, 2, 4)\n",
    "fig = df.boxplot(column='total eve charge')\n",
    "fig.set_title('')\n",
    "fig.set_ylabel('total eve charge')"
   ]
  },
  {
   "cell_type": "code",
   "execution_count": 61,
   "metadata": {},
   "outputs": [
    {
     "data": {
      "text/plain": [
       "Text(0, 0.5, 'total night calls')"
      ]
     },
     "execution_count": 61,
     "metadata": {},
     "output_type": "execute_result"
    },
    {
     "data": {
      "image/png": "[encoded data removed]",
      "text/plain": [
       "<Figure size 1080x720 with 2 Axes>"
      ]
     },
     "metadata": {
      "needs_background": "light"
     },
     "output_type": "display_data"
    }
   ],
   "source": [
    "# draw boxplots to visualize outliers\n",
    "\n",
    "plt.figure(figsize=(15,10))\n",
    "\n",
    "\n",
    "plt.subplot(2, 2, 1)\n",
    "fig = df.boxplot(column='total night minutes')\n",
    "fig.set_title('')\n",
    "fig.set_ylabel('total night minutes')\n",
    "\n",
    "plt.subplot(2, 2, 2)\n",
    "fig = df.boxplot(column='total night calls')\n",
    "fig.set_title('')\n",
    "fig.set_ylabel('total night calls')"
   ]
  },
  {
   "cell_type": "code",
   "execution_count": 62,
   "metadata": {},
   "outputs": [
    {
     "data": {
      "text/plain": [
       "Text(0, 0.5, 'total night charge')"
      ]
     },
     "execution_count": 62,
     "metadata": {},
     "output_type": "execute_result"
    },
    {
     "data": {
      "image/png": "[encoded data removed]",
      "text/plain": [
       "<Figure size 1080x720 with 1 Axes>"
      ]
     },
     "metadata": {
      "needs_background": "light"
     },
     "output_type": "display_data"
    }
   ],
   "source": [
    "# draw boxplots to visualize outliers\n",
    "\n",
    "plt.figure(figsize=(15,10))\n",
    "\n",
    "plt.subplot(2, 2, 3)\n",
    "fig = df.boxplot(column='total night charge')\n",
    "fig.set_title('')\n",
    "fig.set_ylabel('total night charge')\n"
   ]
  },
  {
   "cell_type": "code",
   "execution_count": 63,
   "metadata": {},
   "outputs": [
    {
     "data": {
      "text/plain": [
       "Text(0, 0.5, 'total night calls')"
      ]
     },
     "execution_count": 63,
     "metadata": {},
     "output_type": "execute_result"
    },
    {
     "data": {
      "image/png": "[encoded data removed]",
      "text/plain": [
       "<Figure size 1080x720 with 2 Axes>"
      ]
     },
     "metadata": {
      "needs_background": "light"
     },
     "output_type": "display_data"
    }
   ],
   "source": [
    "# draw boxplots to visualize outliers\n",
    "\n",
    "plt.figure(figsize=(15,10))\n",
    "\n",
    "plt.subplot(2, 2, 1)\n",
    "fig = df.boxplot(column='total night minutes')\n",
    "fig.set_title('')\n",
    "fig.set_ylabel('total night minutes')\n",
    "\n",
    "\n",
    "plt.subplot(2, 2, 2)\n",
    "fig = df.boxplot(column='total night calls')\n",
    "fig.set_title('')\n",
    "fig.set_ylabel('total night calls')"
   ]
  },
  {
   "cell_type": "code",
   "execution_count": 64,
   "metadata": {},
   "outputs": [
    {
     "data": {
      "text/plain": [
       "Text(0, 0.5, 'total night charge')"
      ]
     },
     "execution_count": 64,
     "metadata": {},
     "output_type": "execute_result"
    },
    {
     "data": {
      "image/png": "[encoded data removed]",
      "text/plain": [
       "<Figure size 1080x720 with 1 Axes>"
      ]
     },
     "metadata": {
      "needs_background": "light"
     },
     "output_type": "display_data"
    }
   ],
   "source": [
    "# draw boxplots to visualize outliers\n",
    "\n",
    "plt.figure(figsize=(15,10))\n",
    "\n",
    "plt.subplot(2, 2, 1)\n",
    "fig = df.boxplot(column='total night charge')\n",
    "fig.set_title('')\n",
    "fig.set_ylabel('total night charge')"
   ]
  },
  {
   "cell_type": "code",
   "execution_count": 65,
   "metadata": {},
   "outputs": [
    {
     "data": {
      "text/plain": [
       "Text(0, 0.5, 'customer service calls')"
      ]
     },
     "execution_count": 65,
     "metadata": {},
     "output_type": "execute_result"
    },
    {
     "data": {
      "image/png": "[encoded data removed]",
      "text/plain": [
       "<Figure size 1080x720 with 2 Axes>"
      ]
     },
     "metadata": {
      "needs_background": "light"
     },
     "output_type": "display_data"
    }
   ],
   "source": [
    "# draw boxplots to visualize outliers\n",
    "\n",
    "plt.figure(figsize=(15,10))\n",
    "\n",
    "plt.subplot(2, 2, 3)\n",
    "fig = df.boxplot(column='total intl charge')\n",
    "fig.set_title('')\n",
    "fig.set_ylabel('total intl charge')\n",
    "\n",
    "\n",
    "plt.subplot(2, 2, 4)\n",
    "fig = df.boxplot(column='customer service calls')\n",
    "fig.set_title('')\n",
    "fig.set_ylabel('customer service calls')"
   ]
  },
  {
   "cell_type": "markdown",
   "metadata": {},
   "source": [
    "The above boxplots confirm that there are lot of outliers in these variables."
   ]
  },
  {
   "cell_type": "markdown",
   "metadata": {},
   "source": [
    "### Check the distribution of variables\n",
    "\n",
    "\n",
    "Plot the histograms to check distributions to find out if they are normal or skewed. If the distributions are skewed, find IQR (Interquantile range)"
   ]
  },
  {
   "cell_type": "code",
   "execution_count": 66,
   "metadata": {},
   "outputs": [
    {
     "data": {
      "text/plain": [
       "Text(0, 0.5, 'churn')"
      ]
     },
     "execution_count": 66,
     "metadata": {},
     "output_type": "execute_result"
    },
    {
     "data": {
      "image/png": "[encoded data removed]",
      "text/plain": [
       "<Figure size 1080x720 with 2 Axes>"
      ]
     },
     "metadata": {
      "needs_background": "light"
     },
     "output_type": "display_data"
    }
   ],
   "source": [
    "# plot histogram to check distribution\n",
    "\n",
    "plt.figure(figsize=(15,10))\n",
    "\n",
    "\n",
    "plt.subplot(2, 2, 1)\n",
    "fig = df[\"account length\"].hist(bins=10)\n",
    "fig.set_xlabel('account length')\n",
    "fig.set_ylabel('churn')\n",
    "\n",
    "\n",
    "plt.subplot(2, 2, 2)\n",
    "fig = df[\"area code\"].hist(bins=10)\n",
    "fig.set_xlabel('area code')\n",
    "fig.set_ylabel('churn')"
   ]
  },
  {
   "cell_type": "code",
   "execution_count": 67,
   "metadata": {},
   "outputs": [
    {
     "data": {
      "text/plain": [
       "Text(0, 0.5, 'churn')"
      ]
     },
     "execution_count": 67,
     "metadata": {},
     "output_type": "execute_result"
    },
    {
     "data": {
      "image/png": "[encoded data removed]",
      "text/plain": [
       "<Figure size 1080x720 with 2 Axes>"
      ]
     },
     "metadata": {
      "needs_background": "light"
     },
     "output_type": "display_data"
    }
   ],
   "source": [
    "# plot histogram to check distribution\n",
    "\n",
    "plt.figure(figsize=(15,10))\n",
    "\n",
    "plt.subplot(2, 2, 1)\n",
    "fig = df[\"number vmail messages\"].hist(bins=10)\n",
    "fig.set_xlabel('number vmail messages')\n",
    "fig.set_ylabel('churn')\n",
    "\n",
    "plt.subplot(2, 2, 2)\n",
    "fig = df[\"total day minutes\"].hist(bins=10)\n",
    "fig.set_xlabel('total day minutes')\n",
    "fig.set_ylabel('churn')"
   ]
  },
  {
   "cell_type": "code",
   "execution_count": 68,
   "metadata": {},
   "outputs": [
    {
     "data": {
      "text/plain": [
       "Text(0, 0.5, 'churn')"
      ]
     },
     "execution_count": 68,
     "metadata": {},
     "output_type": "execute_result"
    },
    {
     "data": {
      "image/png": "[encoded data removed]",
      "text/plain": [
       "<Figure size 1080x720 with 2 Axes>"
      ]
     },
     "metadata": {
      "needs_background": "light"
     },
     "output_type": "display_data"
    }
   ],
   "source": [
    "# plot histogram to check distribution\n",
    "\n",
    "plt.figure(figsize=(15,10))\n",
    "\n",
    "plt.subplot(2, 2, 1)\n",
    "fig = df[\"total day calls\"].hist(bins=10)\n",
    "fig.set_xlabel('total day calls')\n",
    "fig.set_ylabel('churn')\n",
    "\n",
    "plt.subplot(2, 2, 2)\n",
    "fig = df[\"total day charge\"].hist(bins=10)\n",
    "fig.set_xlabel('total day charge')\n",
    "fig.set_ylabel('churn')"
   ]
  },
  {
   "cell_type": "code",
   "execution_count": 69,
   "metadata": {},
   "outputs": [
    {
     "data": {
      "text/plain": [
       "Text(0, 0.5, 'churn')"
      ]
     },
     "execution_count": 69,
     "metadata": {},
     "output_type": "execute_result"
    },
    {
     "data": {
      "image/png": "[encoded data removed]",
      "text/plain": [
       "<Figure size 1080x720 with 2 Axes>"
      ]
     },
     "metadata": {
      "needs_background": "light"
     },
     "output_type": "display_data"
    }
   ],
   "source": [
    "# plot histogram to check distribution\n",
    "\n",
    "plt.figure(figsize=(15,10))\n",
    "\n",
    "plt.subplot(2, 2, 1)\n",
    "fig = df[\"total eve minutes\"].hist(bins=10)\n",
    "fig.set_xlabel('total eve minutes')\n",
    "fig.set_ylabel('churn')\n",
    "\n",
    "plt.subplot(2, 2, 2)\n",
    "fig = df[\"total eve calls\"].hist(bins=10)\n",
    "fig.set_xlabel('total eve calls')\n",
    "fig.set_ylabel('churn')"
   ]
  },
  {
   "cell_type": "code",
   "execution_count": 70,
   "metadata": {},
   "outputs": [
    {
     "data": {
      "text/plain": [
       "Text(0, 0.5, 'churn')"
      ]
     },
     "execution_count": 70,
     "metadata": {},
     "output_type": "execute_result"
    },
    {
     "data": {
      "image/png": "[encoded data removed]",
      "text/plain": [
       "<Figure size 1080x720 with 2 Axes>"
      ]
     },
     "metadata": {
      "needs_background": "light"
     },
     "output_type": "display_data"
    }
   ],
   "source": [
    "# plot histogram to check distribution\n",
    "\n",
    "plt.figure(figsize=(15,10))\n",
    "\n",
    "plt.subplot(2, 2, 1)\n",
    "fig = df[\"total night minutes\"].hist(bins=10)\n",
    "fig.set_xlabel('total night minutes')\n",
    "fig.set_ylabel('churn')\n",
    "\n",
    "plt.subplot(2, 2, 2)\n",
    "fig = df[\"total night calls\"].hist(bins=10)\n",
    "fig.set_xlabel('total night calls')\n",
    "fig.set_ylabel('churn')"
   ]
  },
  {
   "cell_type": "code",
   "execution_count": 71,
   "metadata": {},
   "outputs": [
    {
     "data": {
      "text/plain": [
       "Text(0, 0.5, 'churn')"
      ]
     },
     "execution_count": 71,
     "metadata": {},
     "output_type": "execute_result"
    },
    {
     "data": {
      "image/png": "[encoded data removed]",
      "text/plain": [
       "<Figure size 1080x720 with 2 Axes>"
      ]
     },
     "metadata": {
      "needs_background": "light"
     },
     "output_type": "display_data"
    }
   ],
   "source": [
    "# plot histogram to check distribution\n",
    "\n",
    "plt.figure(figsize=(15,10))\n",
    "\n",
    "plt.subplot(2, 2, 1)\n",
    "fig = df[\"total night charge\"].hist(bins=10)\n",
    "fig.set_xlabel('total night charge')\n",
    "fig.set_ylabel('churn')\n",
    "\n",
    "plt.subplot(2, 2, 2)\n",
    "fig = df[\"total intl minutes\"].hist(bins=10)\n",
    "fig.set_xlabel('total intl minutes')\n",
    "fig.set_ylabel('churn')"
   ]
  },
  {
   "cell_type": "code",
   "execution_count": 72,
   "metadata": {},
   "outputs": [
    {
     "data": {
      "text/plain": [
       "Text(0, 0.5, 'churn')"
      ]
     },
     "execution_count": 72,
     "metadata": {},
     "output_type": "execute_result"
    },
    {
     "data": {
      "image/png": "[encoded data removed]",
      "text/plain": [
       "<Figure size 1080x720 with 2 Axes>"
      ]
     },
     "metadata": {
      "needs_background": "light"
     },
     "output_type": "display_data"
    }
   ],
   "source": [
    "# plot histogram to check distribution\n",
    "\n",
    "plt.figure(figsize=(15,10))\n",
    "\n",
    "plt.subplot(2, 2, 1)\n",
    "fig = df[\"total intl calls\"].hist(bins=10)\n",
    "fig.set_xlabel('total intl calls')\n",
    "fig.set_ylabel('churn')\n",
    "\n",
    "plt.subplot(2, 2, 2)\n",
    "fig = df[\"total intl charge\"].hist(bins=10)\n",
    "fig.set_xlabel('total intl charge')\n",
    "fig.set_ylabel('churn')"
   ]
  },
  {
   "cell_type": "code",
   "execution_count": 73,
   "metadata": {},
   "outputs": [
    {
     "data": {
      "text/plain": [
       "Text(0, 0.5, 'churn')"
      ]
     },
     "execution_count": 73,
     "metadata": {},
     "output_type": "execute_result"
    },
    {
     "data": {
      "image/png": "[encoded data removed]",
      "text/plain": [
       "<Figure size 1080x720 with 1 Axes>"
      ]
     },
     "metadata": {
      "needs_background": "light"
     },
     "output_type": "display_data"
    }
   ],
   "source": [
    "# plot histogram to check distribution\n",
    "\n",
    "plt.figure(figsize=(15,10))\n",
    "\n",
    "plt.subplot(2, 2, 1)\n",
    "fig = df[\"customer service calls\"].hist(bins=10)\n",
    "fig.set_xlabel('customer service calls')\n",
    "fig.set_ylabel('churn')"
   ]
  },
  {
   "cell_type": "markdown",
   "metadata": {},
   "source": [
    "Use interquantile range to find outliers"
   ]
  },
  {
   "cell_type": "code",
   "execution_count": 74,
   "metadata": {},
   "outputs": [
    {
     "name": "stdout",
     "output_type": "stream",
     "text": [
      "account length outliers are values < -5.5 or > 206.5\n"
     ]
    }
   ],
   "source": [
    "# find outliers for account length variable\n",
    "\n",
    "IQR = df[\"account length\"].quantile(0.75) - df[\"account length\"].quantile(0.25)\n",
    "Lower_fence = df[\"account length\"].quantile(0.25) - (IQR * 1.5)\n",
    "Upper_fence = df[\"account length\"].quantile(0.75) + (IQR * 1.5)\n",
    "print('account length outliers are values < {lowerboundary} or > {upperboundary}'.format(lowerboundary=Lower_fence, upperboundary=Upper_fence))"
   ]
  },
  {
   "cell_type": "code",
   "execution_count": 75,
   "metadata": {},
   "outputs": [
    {
     "name": "stdout",
     "output_type": "stream",
     "text": [
      "number vmail messages are values < -30.0 or > 50.0\n"
     ]
    }
   ],
   "source": [
    "# find outliers for number vmail messages variable\n",
    "\n",
    "IQR = df[\"number vmail messages\"].quantile(0.75) - df[\"number vmail messages\"].quantile(0.25)\n",
    "Lower_fence = df[\"number vmail messages\"].quantile(0.25) - (IQR * 1.5)\n",
    "Upper_fence = df[\"number vmail messages\"].quantile(0.75) + (IQR * 1.5)\n",
    "print('number vmail messages are values < {lowerboundary} or > {upperboundary}'.format(lowerboundary=Lower_fence, upperboundary=Upper_fence))"
   ]
  },
  {
   "cell_type": "code",
   "execution_count": 76,
   "metadata": {},
   "outputs": [
    {
     "name": "stdout",
     "output_type": "stream",
     "text": [
      "total day minutes are values < 34.64999999999996 or > 325.45000000000005\n"
     ]
    }
   ],
   "source": [
    "# find outliers for total day minutes variable\n",
    "\n",
    "IQR = df[\"total day minutes\"].quantile(0.75) - df[\"total day minutes\"].quantile(0.25)\n",
    "Lower_fence = df[\"total day minutes\"].quantile(0.25) - (IQR * 1.5)\n",
    "Upper_fence = df[\"total day minutes\"].quantile(0.75) + (IQR * 1.5)\n",
    "print('total day minutes are values < {lowerboundary} or > {upperboundary}'.format(lowerboundary=Lower_fence, upperboundary=Upper_fence))"
   ]
  },
  {
   "cell_type": "code",
   "execution_count": 77,
   "metadata": {},
   "outputs": [
    {
     "name": "stdout",
     "output_type": "stream",
     "text": [
      "total day calls are values < 46.5 or > 154.5\n"
     ]
    }
   ],
   "source": [
    "# find outliers for total day calls variable\n",
    "\n",
    "IQR = df[\"total day calls\"].quantile(0.75) - df[\"total day calls\"].quantile(0.25)\n",
    "Lower_fence = df[\"total day calls\"].quantile(0.25) - (IQR * 1.5)\n",
    "Upper_fence = df[\"total day calls\"].quantile(0.75) + (IQR * 1.5)\n",
    "print('total day calls are values < {lowerboundary} or > {upperboundary}'.format(lowerboundary=Lower_fence, upperboundary=Upper_fence))"
   ]
  },
  {
   "cell_type": "code",
   "execution_count": 78,
   "metadata": {},
   "outputs": [
    {
     "name": "stdout",
     "output_type": "stream",
     "text": [
      "total day charge are values < 5.890000000000001 or > 55.33\n"
     ]
    }
   ],
   "source": [
    "# find outliers for total day charge variable\n",
    "\n",
    "IQR = df[\"total day charge\"].quantile(0.75) - df[\"total day charge\"].quantile(0.25)\n",
    "Lower_fence = df[\"total day charge\"].quantile(0.25) - (IQR * 1.5)\n",
    "Upper_fence = df[\"total day charge\"].quantile(0.75) + (IQR * 1.5)\n",
    "print('total day charge are values < {lowerboundary} or > {upperboundary}'.format(lowerboundary=Lower_fence, upperboundary=Upper_fence))"
   ]
  },
  {
   "cell_type": "code",
   "execution_count": 79,
   "metadata": {},
   "outputs": [
    {
     "name": "stdout",
     "output_type": "stream",
     "text": [
      "total eve minutes are values < 63.54999999999997 or > 338.35\n"
     ]
    }
   ],
   "source": [
    "# find outliers for total eve minutes variable\n",
    "\n",
    "IQR = df[\"total eve minutes\"].quantile(0.75) - df[\"total eve minutes\"].quantile(0.25)\n",
    "Lower_fence = df[\"total eve minutes\"].quantile(0.25) - (IQR * 1.5)\n",
    "Upper_fence = df[\"total eve minutes\"].quantile(0.75) + (IQR * 1.5)\n",
    "print('total eve minutes are values < {lowerboundary} or > {upperboundary}'.format(lowerboundary=Lower_fence, upperboundary=Upper_fence))"
   ]
  },
  {
   "cell_type": "code",
   "execution_count": 80,
   "metadata": {},
   "outputs": [
    {
     "name": "stdout",
     "output_type": "stream",
     "text": [
      "total eve calls are values < 46.5 or > 154.5\n"
     ]
    }
   ],
   "source": [
    "# find outliers for total eve calls variable\n",
    "\n",
    "IQR = df[\"total eve calls\"].quantile(0.75) - df[\"total eve calls\"].quantile(0.25)\n",
    "Lower_fence = df[\"total eve calls\"].quantile(0.25) - (IQR * 1.5)\n",
    "Upper_fence = df[\"total eve calls\"].quantile(0.75) + (IQR * 1.5)\n",
    "print('total eve calls are values < {lowerboundary} or > {upperboundary}'.format(lowerboundary=Lower_fence, upperboundary=Upper_fence))"
   ]
  },
  {
   "cell_type": "code",
   "execution_count": 81,
   "metadata": {},
   "outputs": [
    {
     "name": "stdout",
     "output_type": "stream",
     "text": [
      "total eve charge are values < 5.4 or > 28.759999999999998\n"
     ]
    }
   ],
   "source": [
    "# find outliers for total eve charge variable\n",
    "\n",
    "IQR = df[\"total eve charge\"].quantile(0.75) - df[\"total eve charge\"].quantile(0.25)\n",
    "Lower_fence = df[\"total eve charge\"].quantile(0.25) - (IQR * 1.5)\n",
    "Upper_fence = df[\"total eve charge\"].quantile(0.75) + (IQR * 1.5)\n",
    "print('total eve charge are values < {lowerboundary} or > {upperboundary}'.format(lowerboundary=Lower_fence, upperboundary=Upper_fence))"
   ]
  },
  {
   "cell_type": "code",
   "execution_count": 82,
   "metadata": {},
   "outputs": [
    {
     "name": "stdout",
     "output_type": "stream",
     "text": [
      "total night minutes are values < 64.54999999999998 or > 337.75\n"
     ]
    }
   ],
   "source": [
    "# find outliers for total night minutes variable\n",
    "\n",
    "IQR = df[\"total night minutes\"].quantile(0.75) - df[\"total night minutes\"].quantile(0.25)\n",
    "Lower_fence = df[\"total night minutes\"].quantile(0.25) - (IQR * 1.5)\n",
    "Upper_fence = df[\"total night minutes\"].quantile(0.75) + (IQR * 1.5)\n",
    "print('total night minutes are values < {lowerboundary} or > {upperboundary}'.format(lowerboundary=Lower_fence, upperboundary=Upper_fence))"
   ]
  },
  {
   "cell_type": "code",
   "execution_count": 83,
   "metadata": {},
   "outputs": [
    {
     "name": "stdout",
     "output_type": "stream",
     "text": [
      "total night calls are values < 48.0 or > 152.0\n"
     ]
    }
   ],
   "source": [
    "# find outliers for total night calls variable\n",
    "\n",
    "IQR = df[\"total night calls\"].quantile(0.75) - df[\"total night calls\"].quantile(0.25)\n",
    "Lower_fence = df[\"total night calls\"].quantile(0.25) - (IQR * 1.5)\n",
    "Upper_fence = df[\"total night calls\"].quantile(0.75) + (IQR * 1.5)\n",
    "print('total night calls are values < {lowerboundary} or > {upperboundary}'.format(lowerboundary=Lower_fence, upperboundary=Upper_fence))"
   ]
  },
  {
   "cell_type": "code",
   "execution_count": 84,
   "metadata": {},
   "outputs": [
    {
     "name": "stdout",
     "output_type": "stream",
     "text": [
      "total night charge are values < 2.914999999999999 or > 15.195\n"
     ]
    }
   ],
   "source": [
    "# find outliers for total night charge variable\n",
    "\n",
    "IQR = df[\"total night charge\"].quantile(0.75) - df[\"total night charge\"].quantile(0.25)\n",
    "Lower_fence = df[\"total night charge\"].quantile(0.25) - (IQR * 1.5)\n",
    "Upper_fence = df[\"total night charge\"].quantile(0.75) + (IQR * 1.5)\n",
    "print('total night charge are values < {lowerboundary} or > {upperboundary}'.format(lowerboundary=Lower_fence, upperboundary=Upper_fence))"
   ]
  },
  {
   "cell_type": "code",
   "execution_count": 85,
   "metadata": {},
   "outputs": [
    {
     "name": "stdout",
     "output_type": "stream",
     "text": [
      "total intl minutes are values < 3.1000000000000005 or > 17.5\n"
     ]
    }
   ],
   "source": [
    "# find outliers for total intl minutes variable\n",
    "\n",
    "IQR = df[\"total intl minutes\"].quantile(0.75) - df[\"total intl minutes\"].quantile(0.25)\n",
    "Lower_fence = df[\"total intl minutes\"].quantile(0.25) - (IQR * 1.5)\n",
    "Upper_fence = df[\"total intl minutes\"].quantile(0.75) + (IQR * 1.5)\n",
    "print('total intl minutes are values < {lowerboundary} or > {upperboundary}'.format(lowerboundary=Lower_fence, upperboundary=Upper_fence))"
   ]
  },
  {
   "cell_type": "code",
   "execution_count": 86,
   "metadata": {},
   "outputs": [
    {
     "name": "stdout",
     "output_type": "stream",
     "text": [
      "total intl calls are values < -1.5 or > 10.5\n"
     ]
    }
   ],
   "source": [
    "# find outliers for total intl calls variable\n",
    "\n",
    "IQR = df[\"total intl calls\"].quantile(0.75) - df[\"total intl calls\"].quantile(0.25)\n",
    "Lower_fence = df[\"total intl calls\"].quantile(0.25) - (IQR * 1.5)\n",
    "Upper_fence = df[\"total intl calls\"].quantile(0.75) + (IQR * 1.5)\n",
    "print('total intl calls are values < {lowerboundary} or > {upperboundary}'.format(lowerboundary=Lower_fence, upperboundary=Upper_fence))"
   ]
  },
  {
   "cell_type": "code",
   "execution_count": 87,
   "metadata": {},
   "outputs": [
    {
     "name": "stdout",
     "output_type": "stream",
     "text": [
      "total intl charge are values < 0.8449999999999995 or > 4.7250000000000005\n"
     ]
    }
   ],
   "source": [
    "# find outliers for total intl charge variable\n",
    "\n",
    "IQR = df[\"total intl charge\"].quantile(0.75) - df[\"total intl charge\"].quantile(0.25)\n",
    "Lower_fence = df[\"total intl charge\"].quantile(0.25) - (IQR * 1.5)\n",
    "Upper_fence = df[\"total intl charge\"].quantile(0.75) + (IQR * 1.5)\n",
    "print('total intl charge are values < {lowerboundary} or > {upperboundary}'.format(lowerboundary=Lower_fence, upperboundary=Upper_fence))"
   ]
  },
  {
   "cell_type": "code",
   "execution_count": 88,
   "metadata": {},
   "outputs": [
    {
     "name": "stdout",
     "output_type": "stream",
     "text": [
      "customer service calls are values < -0.5 or > 3.5\n"
     ]
    }
   ],
   "source": [
    "# find outliers for customer service calls variable\n",
    "\n",
    "IQR = df[\"customer service calls\"].quantile(0.75) - df[\"customer service calls\"].quantile(0.25)\n",
    "Lower_fence = df[\"customer service calls\"].quantile(0.25) - (IQR * 1.5)\n",
    "Upper_fence = df[\"customer service calls\"].quantile(0.75) + (IQR * 1.5)\n",
    "print('customer service calls are values < {lowerboundary} or > {upperboundary}'.format(lowerboundary=Lower_fence, upperboundary=Upper_fence))"
   ]
  },
  {
   "cell_type": "markdown",
   "metadata": {},
   "source": [
    "### Exploratory data analysis summary\n",
    "phone mumber is a categorical variable with high cardinality - 3333. Each instance has a separate phone number.\n",
    "Therefore, a decision is made to drop the phone number variable at the end of EDA and create a new df i.e df_2"
   ]
  },
  {
   "cell_type": "code",
   "execution_count": 89,
   "metadata": {},
   "outputs": [
    {
     "data": {
      "text/html": [
       "<div>\n",
       "<style scoped>\n",
       "    .dataframe tbody tr th:only-of-type {\n",
       "        vertical-align: middle;\n",
       "    }\n",
       "\n",
       "    .dataframe tbody tr th {\n",
       "        vertical-align: top;\n",
       "    }\n",
       "\n",
       "    .dataframe thead th {\n",
       "        text-align: right;\n",
       "    }\n",
       "</style>\n",
       "<table border=\"1\" class=\"dataframe\">\n",
       "  <thead>\n",
       "    <tr style=\"text-align: right;\">\n",
       "      <th></th>\n",
       "      <th>state</th>\n",
       "      <th>account length</th>\n",
       "      <th>area code</th>\n",
       "      <th>phone number</th>\n",
       "      <th>international plan</th>\n",
       "      <th>voice mail plan</th>\n",
       "      <th>number vmail messages</th>\n",
       "      <th>total day minutes</th>\n",
       "      <th>total day calls</th>\n",
       "      <th>total day charge</th>\n",
       "      <th>...</th>\n",
       "      <th>total eve calls</th>\n",
       "      <th>total eve charge</th>\n",
       "      <th>total night minutes</th>\n",
       "      <th>total night calls</th>\n",
       "      <th>total night charge</th>\n",
       "      <th>total intl minutes</th>\n",
       "      <th>total intl calls</th>\n",
       "      <th>total intl charge</th>\n",
       "      <th>customer service calls</th>\n",
       "      <th>churn</th>\n",
       "    </tr>\n",
       "  </thead>\n",
       "  <tbody>\n",
       "    <tr>\n",
       "      <th>0</th>\n",
       "      <td>KS</td>\n",
       "      <td>128</td>\n",
       "      <td>415</td>\n",
       "      <td>382-4657</td>\n",
       "      <td>no</td>\n",
       "      <td>yes</td>\n",
       "      <td>25</td>\n",
       "      <td>265.1</td>\n",
       "      <td>110</td>\n",
       "      <td>45.07</td>\n",
       "      <td>...</td>\n",
       "      <td>99</td>\n",
       "      <td>16.78</td>\n",
       "      <td>244.7</td>\n",
       "      <td>91</td>\n",
       "      <td>11.01</td>\n",
       "      <td>10.0</td>\n",
       "      <td>3</td>\n",
       "      <td>2.70</td>\n",
       "      <td>1</td>\n",
       "      <td>False</td>\n",
       "    </tr>\n",
       "    <tr>\n",
       "      <th>1</th>\n",
       "      <td>OH</td>\n",
       "      <td>107</td>\n",
       "      <td>415</td>\n",
       "      <td>371-7191</td>\n",
       "      <td>no</td>\n",
       "      <td>yes</td>\n",
       "      <td>26</td>\n",
       "      <td>161.6</td>\n",
       "      <td>123</td>\n",
       "      <td>27.47</td>\n",
       "      <td>...</td>\n",
       "      <td>103</td>\n",
       "      <td>16.62</td>\n",
       "      <td>254.4</td>\n",
       "      <td>103</td>\n",
       "      <td>11.45</td>\n",
       "      <td>13.7</td>\n",
       "      <td>3</td>\n",
       "      <td>3.70</td>\n",
       "      <td>1</td>\n",
       "      <td>False</td>\n",
       "    </tr>\n",
       "    <tr>\n",
       "      <th>2</th>\n",
       "      <td>NJ</td>\n",
       "      <td>137</td>\n",
       "      <td>415</td>\n",
       "      <td>358-1921</td>\n",
       "      <td>no</td>\n",
       "      <td>no</td>\n",
       "      <td>0</td>\n",
       "      <td>243.4</td>\n",
       "      <td>114</td>\n",
       "      <td>41.38</td>\n",
       "      <td>...</td>\n",
       "      <td>110</td>\n",
       "      <td>10.30</td>\n",
       "      <td>162.6</td>\n",
       "      <td>104</td>\n",
       "      <td>7.32</td>\n",
       "      <td>12.2</td>\n",
       "      <td>5</td>\n",
       "      <td>3.29</td>\n",
       "      <td>0</td>\n",
       "      <td>False</td>\n",
       "    </tr>\n",
       "    <tr>\n",
       "      <th>3</th>\n",
       "      <td>OH</td>\n",
       "      <td>84</td>\n",
       "      <td>408</td>\n",
       "      <td>375-9999</td>\n",
       "      <td>yes</td>\n",
       "      <td>no</td>\n",
       "      <td>0</td>\n",
       "      <td>299.4</td>\n",
       "      <td>71</td>\n",
       "      <td>50.90</td>\n",
       "      <td>...</td>\n",
       "      <td>88</td>\n",
       "      <td>5.26</td>\n",
       "      <td>196.9</td>\n",
       "      <td>89</td>\n",
       "      <td>8.86</td>\n",
       "      <td>6.6</td>\n",
       "      <td>7</td>\n",
       "      <td>1.78</td>\n",
       "      <td>2</td>\n",
       "      <td>False</td>\n",
       "    </tr>\n",
       "    <tr>\n",
       "      <th>4</th>\n",
       "      <td>OK</td>\n",
       "      <td>75</td>\n",
       "      <td>415</td>\n",
       "      <td>330-6626</td>\n",
       "      <td>yes</td>\n",
       "      <td>no</td>\n",
       "      <td>0</td>\n",
       "      <td>166.7</td>\n",
       "      <td>113</td>\n",
       "      <td>28.34</td>\n",
       "      <td>...</td>\n",
       "      <td>122</td>\n",
       "      <td>12.61</td>\n",
       "      <td>186.9</td>\n",
       "      <td>121</td>\n",
       "      <td>8.41</td>\n",
       "      <td>10.1</td>\n",
       "      <td>3</td>\n",
       "      <td>2.73</td>\n",
       "      <td>3</td>\n",
       "      <td>False</td>\n",
       "    </tr>\n",
       "  </tbody>\n",
       "</table>\n",
       "<p>5 rows × 21 columns</p>\n",
       "</div>"
      ],
      "text/plain": [
       "  state  account length area code phone number international plan  \\\n",
       "0    KS             128       415     382-4657                 no   \n",
       "1    OH             107       415     371-7191                 no   \n",
       "2    NJ             137       415     358-1921                 no   \n",
       "3    OH              84       408     375-9999                yes   \n",
       "4    OK              75       415     330-6626                yes   \n",
       "\n",
       "  voice mail plan  number vmail messages  total day minutes  total day calls  \\\n",
       "0             yes                     25              265.1              110   \n",
       "1             yes                     26              161.6              123   \n",
       "2              no                      0              243.4              114   \n",
       "3              no                      0              299.4               71   \n",
       "4              no                      0              166.7              113   \n",
       "\n",
       "   total day charge  ...  total eve calls  total eve charge  \\\n",
       "0             45.07  ...               99             16.78   \n",
       "1             27.47  ...              103             16.62   \n",
       "2             41.38  ...              110             10.30   \n",
       "3             50.90  ...               88              5.26   \n",
       "4             28.34  ...              122             12.61   \n",
       "\n",
       "   total night minutes  total night calls  total night charge  \\\n",
       "0                244.7                 91               11.01   \n",
       "1                254.4                103               11.45   \n",
       "2                162.6                104                7.32   \n",
       "3                196.9                 89                8.86   \n",
       "4                186.9                121                8.41   \n",
       "\n",
       "   total intl minutes  total intl calls  total intl charge  \\\n",
       "0                10.0                 3               2.70   \n",
       "1                13.7                 3               3.70   \n",
       "2                12.2                 5               3.29   \n",
       "3                 6.6                 7               1.78   \n",
       "4                10.1                 3               2.73   \n",
       "\n",
       "   customer service calls  churn  \n",
       "0                       1  False  \n",
       "1                       1  False  \n",
       "2                       0  False  \n",
       "3                       2  False  \n",
       "4                       3  False  \n",
       "\n",
       "[5 rows x 21 columns]"
      ]
     },
     "execution_count": 89,
     "metadata": {},
     "output_type": "execute_result"
    }
   ],
   "source": [
    "df.head()"
   ]
  },
  {
   "cell_type": "code",
   "execution_count": 90,
   "metadata": {},
   "outputs": [],
   "source": [
    "df.drop('phone number', axis = 1, inplace = True)"
   ]
  },
  {
   "cell_type": "code",
   "execution_count": 91,
   "metadata": {},
   "outputs": [
    {
     "data": {
      "text/html": [
       "<div>\n",
       "<style scoped>\n",
       "    .dataframe tbody tr th:only-of-type {\n",
       "        vertical-align: middle;\n",
       "    }\n",
       "\n",
       "    .dataframe tbody tr th {\n",
       "        vertical-align: top;\n",
       "    }\n",
       "\n",
       "    .dataframe thead th {\n",
       "        text-align: right;\n",
       "    }\n",
       "</style>\n",
       "<table border=\"1\" class=\"dataframe\">\n",
       "  <thead>\n",
       "    <tr style=\"text-align: right;\">\n",
       "      <th></th>\n",
       "      <th>state</th>\n",
       "      <th>account length</th>\n",
       "      <th>area code</th>\n",
       "      <th>international plan</th>\n",
       "      <th>voice mail plan</th>\n",
       "      <th>number vmail messages</th>\n",
       "      <th>total day minutes</th>\n",
       "      <th>total day calls</th>\n",
       "      <th>total day charge</th>\n",
       "      <th>total eve minutes</th>\n",
       "      <th>total eve calls</th>\n",
       "      <th>total eve charge</th>\n",
       "      <th>total night minutes</th>\n",
       "      <th>total night calls</th>\n",
       "      <th>total night charge</th>\n",
       "      <th>total intl minutes</th>\n",
       "      <th>total intl calls</th>\n",
       "      <th>total intl charge</th>\n",
       "      <th>customer service calls</th>\n",
       "      <th>churn</th>\n",
       "    </tr>\n",
       "  </thead>\n",
       "  <tbody>\n",
       "    <tr>\n",
       "      <th>0</th>\n",
       "      <td>KS</td>\n",
       "      <td>128</td>\n",
       "      <td>415</td>\n",
       "      <td>no</td>\n",
       "      <td>yes</td>\n",
       "      <td>25</td>\n",
       "      <td>265.1</td>\n",
       "      <td>110</td>\n",
       "      <td>45.07</td>\n",
       "      <td>197.4</td>\n",
       "      <td>99</td>\n",
       "      <td>16.78</td>\n",
       "      <td>244.7</td>\n",
       "      <td>91</td>\n",
       "      <td>11.01</td>\n",
       "      <td>10.0</td>\n",
       "      <td>3</td>\n",
       "      <td>2.70</td>\n",
       "      <td>1</td>\n",
       "      <td>False</td>\n",
       "    </tr>\n",
       "    <tr>\n",
       "      <th>1</th>\n",
       "      <td>OH</td>\n",
       "      <td>107</td>\n",
       "      <td>415</td>\n",
       "      <td>no</td>\n",
       "      <td>yes</td>\n",
       "      <td>26</td>\n",
       "      <td>161.6</td>\n",
       "      <td>123</td>\n",
       "      <td>27.47</td>\n",
       "      <td>195.5</td>\n",
       "      <td>103</td>\n",
       "      <td>16.62</td>\n",
       "      <td>254.4</td>\n",
       "      <td>103</td>\n",
       "      <td>11.45</td>\n",
       "      <td>13.7</td>\n",
       "      <td>3</td>\n",
       "      <td>3.70</td>\n",
       "      <td>1</td>\n",
       "      <td>False</td>\n",
       "    </tr>\n",
       "    <tr>\n",
       "      <th>2</th>\n",
       "      <td>NJ</td>\n",
       "      <td>137</td>\n",
       "      <td>415</td>\n",
       "      <td>no</td>\n",
       "      <td>no</td>\n",
       "      <td>0</td>\n",
       "      <td>243.4</td>\n",
       "      <td>114</td>\n",
       "      <td>41.38</td>\n",
       "      <td>121.2</td>\n",
       "      <td>110</td>\n",
       "      <td>10.30</td>\n",
       "      <td>162.6</td>\n",
       "      <td>104</td>\n",
       "      <td>7.32</td>\n",
       "      <td>12.2</td>\n",
       "      <td>5</td>\n",
       "      <td>3.29</td>\n",
       "      <td>0</td>\n",
       "      <td>False</td>\n",
       "    </tr>\n",
       "    <tr>\n",
       "      <th>3</th>\n",
       "      <td>OH</td>\n",
       "      <td>84</td>\n",
       "      <td>408</td>\n",
       "      <td>yes</td>\n",
       "      <td>no</td>\n",
       "      <td>0</td>\n",
       "      <td>299.4</td>\n",
       "      <td>71</td>\n",
       "      <td>50.90</td>\n",
       "      <td>61.9</td>\n",
       "      <td>88</td>\n",
       "      <td>5.26</td>\n",
       "      <td>196.9</td>\n",
       "      <td>89</td>\n",
       "      <td>8.86</td>\n",
       "      <td>6.6</td>\n",
       "      <td>7</td>\n",
       "      <td>1.78</td>\n",
       "      <td>2</td>\n",
       "      <td>False</td>\n",
       "    </tr>\n",
       "    <tr>\n",
       "      <th>4</th>\n",
       "      <td>OK</td>\n",
       "      <td>75</td>\n",
       "      <td>415</td>\n",
       "      <td>yes</td>\n",
       "      <td>no</td>\n",
       "      <td>0</td>\n",
       "      <td>166.7</td>\n",
       "      <td>113</td>\n",
       "      <td>28.34</td>\n",
       "      <td>148.3</td>\n",
       "      <td>122</td>\n",
       "      <td>12.61</td>\n",
       "      <td>186.9</td>\n",
       "      <td>121</td>\n",
       "      <td>8.41</td>\n",
       "      <td>10.1</td>\n",
       "      <td>3</td>\n",
       "      <td>2.73</td>\n",
       "      <td>3</td>\n",
       "      <td>False</td>\n",
       "    </tr>\n",
       "  </tbody>\n",
       "</table>\n",
       "</div>"
      ],
      "text/plain": [
       "  state  account length area code international plan voice mail plan  \\\n",
       "0    KS             128       415                 no             yes   \n",
       "1    OH             107       415                 no             yes   \n",
       "2    NJ             137       415                 no              no   \n",
       "3    OH              84       408                yes              no   \n",
       "4    OK              75       415                yes              no   \n",
       "\n",
       "   number vmail messages  total day minutes  total day calls  \\\n",
       "0                     25              265.1              110   \n",
       "1                     26              161.6              123   \n",
       "2                      0              243.4              114   \n",
       "3                      0              299.4               71   \n",
       "4                      0              166.7              113   \n",
       "\n",
       "   total day charge  total eve minutes  total eve calls  total eve charge  \\\n",
       "0             45.07              197.4               99             16.78   \n",
       "1             27.47              195.5              103             16.62   \n",
       "2             41.38              121.2              110             10.30   \n",
       "3             50.90               61.9               88              5.26   \n",
       "4             28.34              148.3              122             12.61   \n",
       "\n",
       "   total night minutes  total night calls  total night charge  \\\n",
       "0                244.7                 91               11.01   \n",
       "1                254.4                103               11.45   \n",
       "2                162.6                104                7.32   \n",
       "3                196.9                 89                8.86   \n",
       "4                186.9                121                8.41   \n",
       "\n",
       "   total intl minutes  total intl calls  total intl charge  \\\n",
       "0                10.0                 3               2.70   \n",
       "1                13.7                 3               3.70   \n",
       "2                12.2                 5               3.29   \n",
       "3                 6.6                 7               1.78   \n",
       "4                10.1                 3               2.73   \n",
       "\n",
       "   customer service calls  churn  \n",
       "0                       1  False  \n",
       "1                       1  False  \n",
       "2                       0  False  \n",
       "3                       2  False  \n",
       "4                       3  False  "
      ]
     },
     "execution_count": 91,
     "metadata": {},
     "output_type": "execute_result"
    }
   ],
   "source": [
    "# changes made to the df and now has no phone number column\n",
    "df.head()"
   ]
  },
  {
   "cell_type": "markdown",
   "metadata": {},
   "source": [
    "### Explore the Target outcome: Churn"
   ]
  },
  {
   "cell_type": "code",
   "execution_count": 92,
   "metadata": {},
   "outputs": [
    {
     "data": {
      "text/plain": [
       "False    2850\n",
       "True      483\n",
       "Name: churn, dtype: int64"
      ]
     },
     "execution_count": 92,
     "metadata": {},
     "output_type": "execute_result"
    }
   ],
   "source": [
    "# confirm churn column has boolean variable type\n",
    "df['churn'].value_counts()"
   ]
  },
  {
   "cell_type": "code",
   "execution_count": 93,
   "metadata": {},
   "outputs": [
    {
     "data": {
      "text/html": [
       "<div>\n",
       "<style scoped>\n",
       "    .dataframe tbody tr th:only-of-type {\n",
       "        vertical-align: middle;\n",
       "    }\n",
       "\n",
       "    .dataframe tbody tr th {\n",
       "        vertical-align: top;\n",
       "    }\n",
       "\n",
       "    .dataframe thead th {\n",
       "        text-align: right;\n",
       "    }\n",
       "</style>\n",
       "<table border=\"1\" class=\"dataframe\">\n",
       "  <thead>\n",
       "    <tr style=\"text-align: right;\">\n",
       "      <th></th>\n",
       "      <th>state</th>\n",
       "      <th>account length</th>\n",
       "      <th>area code</th>\n",
       "      <th>international plan</th>\n",
       "      <th>voice mail plan</th>\n",
       "      <th>number vmail messages</th>\n",
       "      <th>total day minutes</th>\n",
       "      <th>total day calls</th>\n",
       "      <th>total day charge</th>\n",
       "      <th>total eve minutes</th>\n",
       "      <th>total eve calls</th>\n",
       "      <th>total eve charge</th>\n",
       "      <th>total night minutes</th>\n",
       "      <th>total night calls</th>\n",
       "      <th>total night charge</th>\n",
       "      <th>total intl minutes</th>\n",
       "      <th>total intl calls</th>\n",
       "      <th>total intl charge</th>\n",
       "      <th>customer service calls</th>\n",
       "      <th>churn</th>\n",
       "    </tr>\n",
       "  </thead>\n",
       "  <tbody>\n",
       "    <tr>\n",
       "      <th>0</th>\n",
       "      <td>KS</td>\n",
       "      <td>128</td>\n",
       "      <td>415</td>\n",
       "      <td>no</td>\n",
       "      <td>yes</td>\n",
       "      <td>25</td>\n",
       "      <td>265.1</td>\n",
       "      <td>110</td>\n",
       "      <td>45.07</td>\n",
       "      <td>197.4</td>\n",
       "      <td>99</td>\n",
       "      <td>16.78</td>\n",
       "      <td>244.7</td>\n",
       "      <td>91</td>\n",
       "      <td>11.01</td>\n",
       "      <td>10.0</td>\n",
       "      <td>3</td>\n",
       "      <td>2.70</td>\n",
       "      <td>1</td>\n",
       "      <td>No</td>\n",
       "    </tr>\n",
       "    <tr>\n",
       "      <th>1</th>\n",
       "      <td>OH</td>\n",
       "      <td>107</td>\n",
       "      <td>415</td>\n",
       "      <td>no</td>\n",
       "      <td>yes</td>\n",
       "      <td>26</td>\n",
       "      <td>161.6</td>\n",
       "      <td>123</td>\n",
       "      <td>27.47</td>\n",
       "      <td>195.5</td>\n",
       "      <td>103</td>\n",
       "      <td>16.62</td>\n",
       "      <td>254.4</td>\n",
       "      <td>103</td>\n",
       "      <td>11.45</td>\n",
       "      <td>13.7</td>\n",
       "      <td>3</td>\n",
       "      <td>3.70</td>\n",
       "      <td>1</td>\n",
       "      <td>No</td>\n",
       "    </tr>\n",
       "    <tr>\n",
       "      <th>2</th>\n",
       "      <td>NJ</td>\n",
       "      <td>137</td>\n",
       "      <td>415</td>\n",
       "      <td>no</td>\n",
       "      <td>no</td>\n",
       "      <td>0</td>\n",
       "      <td>243.4</td>\n",
       "      <td>114</td>\n",
       "      <td>41.38</td>\n",
       "      <td>121.2</td>\n",
       "      <td>110</td>\n",
       "      <td>10.30</td>\n",
       "      <td>162.6</td>\n",
       "      <td>104</td>\n",
       "      <td>7.32</td>\n",
       "      <td>12.2</td>\n",
       "      <td>5</td>\n",
       "      <td>3.29</td>\n",
       "      <td>0</td>\n",
       "      <td>No</td>\n",
       "    </tr>\n",
       "    <tr>\n",
       "      <th>3</th>\n",
       "      <td>OH</td>\n",
       "      <td>84</td>\n",
       "      <td>408</td>\n",
       "      <td>yes</td>\n",
       "      <td>no</td>\n",
       "      <td>0</td>\n",
       "      <td>299.4</td>\n",
       "      <td>71</td>\n",
       "      <td>50.90</td>\n",
       "      <td>61.9</td>\n",
       "      <td>88</td>\n",
       "      <td>5.26</td>\n",
       "      <td>196.9</td>\n",
       "      <td>89</td>\n",
       "      <td>8.86</td>\n",
       "      <td>6.6</td>\n",
       "      <td>7</td>\n",
       "      <td>1.78</td>\n",
       "      <td>2</td>\n",
       "      <td>No</td>\n",
       "    </tr>\n",
       "    <tr>\n",
       "      <th>4</th>\n",
       "      <td>OK</td>\n",
       "      <td>75</td>\n",
       "      <td>415</td>\n",
       "      <td>yes</td>\n",
       "      <td>no</td>\n",
       "      <td>0</td>\n",
       "      <td>166.7</td>\n",
       "      <td>113</td>\n",
       "      <td>28.34</td>\n",
       "      <td>148.3</td>\n",
       "      <td>122</td>\n",
       "      <td>12.61</td>\n",
       "      <td>186.9</td>\n",
       "      <td>121</td>\n",
       "      <td>8.41</td>\n",
       "      <td>10.1</td>\n",
       "      <td>3</td>\n",
       "      <td>2.73</td>\n",
       "      <td>3</td>\n",
       "      <td>No</td>\n",
       "    </tr>\n",
       "  </tbody>\n",
       "</table>\n",
       "</div>"
      ],
      "text/plain": [
       "  state  account length area code international plan voice mail plan  \\\n",
       "0    KS             128       415                 no             yes   \n",
       "1    OH             107       415                 no             yes   \n",
       "2    NJ             137       415                 no              no   \n",
       "3    OH              84       408                yes              no   \n",
       "4    OK              75       415                yes              no   \n",
       "\n",
       "   number vmail messages  total day minutes  total day calls  \\\n",
       "0                     25              265.1              110   \n",
       "1                     26              161.6              123   \n",
       "2                      0              243.4              114   \n",
       "3                      0              299.4               71   \n",
       "4                      0              166.7              113   \n",
       "\n",
       "   total day charge  total eve minutes  total eve calls  total eve charge  \\\n",
       "0             45.07              197.4               99             16.78   \n",
       "1             27.47              195.5              103             16.62   \n",
       "2             41.38              121.2              110             10.30   \n",
       "3             50.90               61.9               88              5.26   \n",
       "4             28.34              148.3              122             12.61   \n",
       "\n",
       "   total night minutes  total night calls  total night charge  \\\n",
       "0                244.7                 91               11.01   \n",
       "1                254.4                103               11.45   \n",
       "2                162.6                104                7.32   \n",
       "3                196.9                 89                8.86   \n",
       "4                186.9                121                8.41   \n",
       "\n",
       "   total intl minutes  total intl calls  total intl charge  \\\n",
       "0                10.0                 3               2.70   \n",
       "1                13.7                 3               3.70   \n",
       "2                12.2                 5               3.29   \n",
       "3                 6.6                 7               1.78   \n",
       "4                10.1                 3               2.73   \n",
       "\n",
       "   customer service calls churn  \n",
       "0                       1    No  \n",
       "1                       1    No  \n",
       "2                       0    No  \n",
       "3                       2    No  \n",
       "4                       3    No  "
      ]
     },
     "execution_count": 93,
     "metadata": {},
     "output_type": "execute_result"
    }
   ],
   "source": [
    "# Convert the boolean variable in churn column to binary  'Yes'/'No'\n",
    "df['churn'] = df['churn'].apply(lambda x: 'Yes' if x else 'No')\n",
    "\n",
    "# Check the first few rows to ensure the change has been made\n",
    "df.head(5)"
   ]
  },
  {
   "cell_type": "markdown",
   "metadata": {},
   "source": [
    "churn column converted to a categorical variable\n",
    "confirm churn is a categorical variable"
   ]
  },
  {
   "cell_type": "code",
   "execution_count": 94,
   "metadata": {},
   "outputs": [
    {
     "name": "stdout",
     "output_type": "stream",
     "text": [
      "There are 5 categorical variables\n",
      "\n",
      "The categorical variables are : ['state', 'area code', 'international plan', 'voice mail plan', 'churn']\n"
     ]
    }
   ],
   "source": [
    "# find categorical variables after: phone number dropped from dataframe and churn changed from boolean to binary datatype\n",
    "\n",
    "categorical = [var for var in df.columns if df[var].dtype=='O']\n",
    "\n",
    "print('There are {} categorical variables\\n'.format(len(categorical)))\n",
    "\n",
    "print('The categorical variables are :', categorical)\n"
   ]
  },
  {
   "cell_type": "code",
   "execution_count": 95,
   "metadata": {},
   "outputs": [
    {
     "data": {
      "text/html": [
       "<div>\n",
       "<style scoped>\n",
       "    .dataframe tbody tr th:only-of-type {\n",
       "        vertical-align: middle;\n",
       "    }\n",
       "\n",
       "    .dataframe tbody tr th {\n",
       "        vertical-align: top;\n",
       "    }\n",
       "\n",
       "    .dataframe thead th {\n",
       "        text-align: right;\n",
       "    }\n",
       "</style>\n",
       "<table border=\"1\" class=\"dataframe\">\n",
       "  <thead>\n",
       "    <tr style=\"text-align: right;\">\n",
       "      <th></th>\n",
       "      <th>state</th>\n",
       "      <th>area code</th>\n",
       "      <th>international plan</th>\n",
       "      <th>voice mail plan</th>\n",
       "      <th>churn</th>\n",
       "    </tr>\n",
       "  </thead>\n",
       "  <tbody>\n",
       "    <tr>\n",
       "      <th>0</th>\n",
       "      <td>KS</td>\n",
       "      <td>415</td>\n",
       "      <td>no</td>\n",
       "      <td>yes</td>\n",
       "      <td>No</td>\n",
       "    </tr>\n",
       "    <tr>\n",
       "      <th>1</th>\n",
       "      <td>OH</td>\n",
       "      <td>415</td>\n",
       "      <td>no</td>\n",
       "      <td>yes</td>\n",
       "      <td>No</td>\n",
       "    </tr>\n",
       "    <tr>\n",
       "      <th>2</th>\n",
       "      <td>NJ</td>\n",
       "      <td>415</td>\n",
       "      <td>no</td>\n",
       "      <td>no</td>\n",
       "      <td>No</td>\n",
       "    </tr>\n",
       "    <tr>\n",
       "      <th>3</th>\n",
       "      <td>OH</td>\n",
       "      <td>408</td>\n",
       "      <td>yes</td>\n",
       "      <td>no</td>\n",
       "      <td>No</td>\n",
       "    </tr>\n",
       "    <tr>\n",
       "      <th>4</th>\n",
       "      <td>OK</td>\n",
       "      <td>415</td>\n",
       "      <td>yes</td>\n",
       "      <td>no</td>\n",
       "      <td>No</td>\n",
       "    </tr>\n",
       "  </tbody>\n",
       "</table>\n",
       "</div>"
      ],
      "text/plain": [
       "  state area code international plan voice mail plan churn\n",
       "0    KS       415                 no             yes    No\n",
       "1    OH       415                 no             yes    No\n",
       "2    NJ       415                 no              no    No\n",
       "3    OH       408                yes              no    No\n",
       "4    OK       415                yes              no    No"
      ]
     },
     "execution_count": 95,
     "metadata": {},
     "output_type": "execute_result"
    }
   ],
   "source": [
    "# view the categorical variables\n",
    "\n",
    "df[categorical].head()"
   ]
  },
  {
   "cell_type": "code",
   "execution_count": 96,
   "metadata": {},
   "outputs": [
    {
     "name": "stdout",
     "output_type": "stream",
     "text": [
      "No     2850\n",
      "Yes     483\n",
      "Name: churn, dtype: int64\n"
     ]
    }
   ],
   "source": [
    "# view frequency of target categorical variable - churn\n",
    "\n",
    "print(df['churn'].value_counts())"
   ]
  },
  {
   "cell_type": "code",
   "execution_count": 97,
   "metadata": {},
   "outputs": [
    {
     "name": "stdout",
     "output_type": "stream",
     "text": [
      "No     0.855086\n",
      "Yes    0.144914\n",
      "Name: churn, dtype: float64\n"
     ]
    }
   ],
   "source": [
    "# view frequency distribution of target categorical variables: churn\n",
    "\n",
    "print(df['churn'].value_counts()/np.float64(len(df)))"
   ]
  },
  {
   "cell_type": "code",
   "execution_count": 98,
   "metadata": {},
   "outputs": [
    {
     "name": "stdout",
     "output_type": "stream",
     "text": [
      "churn contains 2 labels\n"
     ]
    }
   ],
   "source": [
    "# print number of labels in churn variable\n",
    "print('churn contains', len(df[\"churn\"].unique()), 'labels')"
   ]
  },
  {
   "cell_type": "code",
   "execution_count": 99,
   "metadata": {},
   "outputs": [
    {
     "data": {
      "text/plain": [
       "array(['No', 'Yes'], dtype=object)"
      ]
     },
     "execution_count": 99,
     "metadata": {},
     "output_type": "execute_result"
    }
   ],
   "source": [
    "# check labels in churn variable\n",
    "df.churn.unique()"
   ]
  },
  {
   "cell_type": "code",
   "execution_count": 100,
   "metadata": {},
   "outputs": [],
   "source": [
    "# let's do One Hot Encoding of churn variable\n",
    "# get k-1 dummy variables after One Hot Encoding \n",
    "# also add an additional dummy variable to indicate there was missing data\n",
    "# preview the dataset with head() method\n",
    "\n",
    "#pd.get_dummies(df['churn'], drop_first=True, dummy_na=True,dtype='int').head()"
   ]
  },
  {
   "cell_type": "code",
   "execution_count": 101,
   "metadata": {},
   "outputs": [],
   "source": [
    "# sum the number of 1s per boolean variable over the rows of the dataset\n",
    "# it will tell us how many observations we have for each category\n",
    "\n",
    "#pd.get_dummies(df['churn'], drop_first=True, dummy_na=True).sum(axis=0)"
   ]
  },
  {
   "cell_type": "markdown",
   "metadata": {},
   "source": [
    "## Declare feature variables and target variables"
   ]
  },
  {
   "cell_type": "code",
   "execution_count": 102,
   "metadata": {},
   "outputs": [],
   "source": [
    "# drop churn variable from the feature variables \n",
    "# create a series with the target variable churn\n",
    "X = df.drop('churn', axis=1)  \n",
    "\n",
    "y = df['churn']"
   ]
  },
  {
   "cell_type": "markdown",
   "metadata": {},
   "source": [
    "## Split data into training and test set"
   ]
  },
  {
   "cell_type": "code",
   "execution_count": 103,
   "metadata": {},
   "outputs": [],
   "source": [
    "# split X and y into training and testing sets\n",
    "\n",
    "from sklearn.model_selection import train_test_split\n",
    "\n",
    "X_train, X_test, y_train, y_test = train_test_split(X, y, test_size = 0.2, random_state = 0)"
   ]
  },
  {
   "cell_type": "code",
   "execution_count": 104,
   "metadata": {},
   "outputs": [
    {
     "data": {
      "text/plain": [
       "((2666, 19), (667, 19))"
      ]
     },
     "execution_count": 104,
     "metadata": {},
     "output_type": "execute_result"
    }
   ],
   "source": [
    "# check the shape of X_train and X_test\n",
    "\n",
    "X_train.shape, X_test.shape"
   ]
  },
  {
   "cell_type": "markdown",
   "metadata": {},
   "source": [
    "Explore the split data for missing variables"
   ]
  },
  {
   "cell_type": "code",
   "execution_count": 105,
   "metadata": {},
   "outputs": [
    {
     "data": {
      "text/html": [
       "<div>\n",
       "<style scoped>\n",
       "    .dataframe tbody tr th:only-of-type {\n",
       "        vertical-align: middle;\n",
       "    }\n",
       "\n",
       "    .dataframe tbody tr th {\n",
       "        vertical-align: top;\n",
       "    }\n",
       "\n",
       "    .dataframe thead th {\n",
       "        text-align: right;\n",
       "    }\n",
       "</style>\n",
       "<table border=\"1\" class=\"dataframe\">\n",
       "  <thead>\n",
       "    <tr style=\"text-align: right;\">\n",
       "      <th></th>\n",
       "      <th>state</th>\n",
       "      <th>account length</th>\n",
       "      <th>area code</th>\n",
       "      <th>international plan</th>\n",
       "      <th>voice mail plan</th>\n",
       "      <th>number vmail messages</th>\n",
       "      <th>total day minutes</th>\n",
       "      <th>total day calls</th>\n",
       "      <th>total day charge</th>\n",
       "      <th>total eve minutes</th>\n",
       "      <th>total eve calls</th>\n",
       "      <th>total eve charge</th>\n",
       "      <th>total night minutes</th>\n",
       "      <th>total night calls</th>\n",
       "      <th>total night charge</th>\n",
       "      <th>total intl minutes</th>\n",
       "      <th>total intl calls</th>\n",
       "      <th>total intl charge</th>\n",
       "      <th>customer service calls</th>\n",
       "    </tr>\n",
       "  </thead>\n",
       "  <tbody>\n",
       "    <tr>\n",
       "      <th>1460</th>\n",
       "      <td>MT</td>\n",
       "      <td>80</td>\n",
       "      <td>415</td>\n",
       "      <td>no</td>\n",
       "      <td>no</td>\n",
       "      <td>0</td>\n",
       "      <td>198.1</td>\n",
       "      <td>160</td>\n",
       "      <td>33.68</td>\n",
       "      <td>156.7</td>\n",
       "      <td>87</td>\n",
       "      <td>13.32</td>\n",
       "      <td>182.1</td>\n",
       "      <td>76</td>\n",
       "      <td>8.19</td>\n",
       "      <td>9.3</td>\n",
       "      <td>3</td>\n",
       "      <td>2.51</td>\n",
       "      <td>3</td>\n",
       "    </tr>\n",
       "    <tr>\n",
       "      <th>2000</th>\n",
       "      <td>PA</td>\n",
       "      <td>28</td>\n",
       "      <td>415</td>\n",
       "      <td>no</td>\n",
       "      <td>no</td>\n",
       "      <td>0</td>\n",
       "      <td>168.2</td>\n",
       "      <td>87</td>\n",
       "      <td>28.59</td>\n",
       "      <td>161.7</td>\n",
       "      <td>92</td>\n",
       "      <td>13.74</td>\n",
       "      <td>192.4</td>\n",
       "      <td>112</td>\n",
       "      <td>8.66</td>\n",
       "      <td>10.1</td>\n",
       "      <td>3</td>\n",
       "      <td>2.73</td>\n",
       "      <td>3</td>\n",
       "    </tr>\n",
       "    <tr>\n",
       "      <th>666</th>\n",
       "      <td>OR</td>\n",
       "      <td>120</td>\n",
       "      <td>415</td>\n",
       "      <td>no</td>\n",
       "      <td>no</td>\n",
       "      <td>0</td>\n",
       "      <td>252.0</td>\n",
       "      <td>120</td>\n",
       "      <td>42.84</td>\n",
       "      <td>150.2</td>\n",
       "      <td>106</td>\n",
       "      <td>12.77</td>\n",
       "      <td>151.8</td>\n",
       "      <td>96</td>\n",
       "      <td>6.83</td>\n",
       "      <td>9.6</td>\n",
       "      <td>1</td>\n",
       "      <td>2.59</td>\n",
       "      <td>2</td>\n",
       "    </tr>\n",
       "    <tr>\n",
       "      <th>2962</th>\n",
       "      <td>SD</td>\n",
       "      <td>105</td>\n",
       "      <td>415</td>\n",
       "      <td>no</td>\n",
       "      <td>no</td>\n",
       "      <td>0</td>\n",
       "      <td>251.6</td>\n",
       "      <td>88</td>\n",
       "      <td>42.77</td>\n",
       "      <td>175.1</td>\n",
       "      <td>103</td>\n",
       "      <td>14.88</td>\n",
       "      <td>184.4</td>\n",
       "      <td>112</td>\n",
       "      <td>8.30</td>\n",
       "      <td>5.4</td>\n",
       "      <td>5</td>\n",
       "      <td>1.46</td>\n",
       "      <td>1</td>\n",
       "    </tr>\n",
       "    <tr>\n",
       "      <th>2773</th>\n",
       "      <td>NJ</td>\n",
       "      <td>134</td>\n",
       "      <td>510</td>\n",
       "      <td>no</td>\n",
       "      <td>yes</td>\n",
       "      <td>34</td>\n",
       "      <td>247.2</td>\n",
       "      <td>105</td>\n",
       "      <td>42.02</td>\n",
       "      <td>225.5</td>\n",
       "      <td>133</td>\n",
       "      <td>19.17</td>\n",
       "      <td>186.3</td>\n",
       "      <td>76</td>\n",
       "      <td>8.38</td>\n",
       "      <td>6.1</td>\n",
       "      <td>5</td>\n",
       "      <td>1.65</td>\n",
       "      <td>2</td>\n",
       "    </tr>\n",
       "  </tbody>\n",
       "</table>\n",
       "</div>"
      ],
      "text/plain": [
       "     state  account length area code international plan voice mail plan  \\\n",
       "1460    MT              80       415                 no              no   \n",
       "2000    PA              28       415                 no              no   \n",
       "666     OR             120       415                 no              no   \n",
       "2962    SD             105       415                 no              no   \n",
       "2773    NJ             134       510                 no             yes   \n",
       "\n",
       "      number vmail messages  total day minutes  total day calls  \\\n",
       "1460                      0              198.1              160   \n",
       "2000                      0              168.2               87   \n",
       "666                       0              252.0              120   \n",
       "2962                      0              251.6               88   \n",
       "2773                     34              247.2              105   \n",
       "\n",
       "      total day charge  total eve minutes  total eve calls  total eve charge  \\\n",
       "1460             33.68              156.7               87             13.32   \n",
       "2000             28.59              161.7               92             13.74   \n",
       "666              42.84              150.2              106             12.77   \n",
       "2962             42.77              175.1              103             14.88   \n",
       "2773             42.02              225.5              133             19.17   \n",
       "\n",
       "      total night minutes  total night calls  total night charge  \\\n",
       "1460                182.1                 76                8.19   \n",
       "2000                192.4                112                8.66   \n",
       "666                 151.8                 96                6.83   \n",
       "2962                184.4                112                8.30   \n",
       "2773                186.3                 76                8.38   \n",
       "\n",
       "      total intl minutes  total intl calls  total intl charge  \\\n",
       "1460                 9.3                 3               2.51   \n",
       "2000                10.1                 3               2.73   \n",
       "666                  9.6                 1               2.59   \n",
       "2962                 5.4                 5               1.46   \n",
       "2773                 6.1                 5               1.65   \n",
       "\n",
       "      customer service calls  \n",
       "1460                       3  \n",
       "2000                       3  \n",
       "666                        2  \n",
       "2962                       1  \n",
       "2773                       2  "
      ]
     },
     "execution_count": 105,
     "metadata": {},
     "output_type": "execute_result"
    }
   ],
   "source": [
    "X_train.head(5)"
   ]
  },
  {
   "cell_type": "code",
   "execution_count": 106,
   "metadata": {},
   "outputs": [
    {
     "data": {
      "text/plain": [
       "Index(['state', 'account length', 'area code', 'international plan',\n",
       "       'voice mail plan', 'number vmail messages', 'total day minutes',\n",
       "       'total day calls', 'total day charge', 'total eve minutes',\n",
       "       'total eve calls', 'total eve charge', 'total night minutes',\n",
       "       'total night calls', 'total night charge', 'total intl minutes',\n",
       "       'total intl calls', 'total intl charge', 'customer service calls'],\n",
       "      dtype='object')"
      ]
     },
     "execution_count": 106,
     "metadata": {},
     "output_type": "execute_result"
    }
   ],
   "source": [
    "X_train.columns"
   ]
  },
  {
   "cell_type": "markdown",
   "metadata": {},
   "source": [
    "## Feature Engineering\n",
    "\n",
    "**Feature Engineering** is the process of transforming raw data into useful features that help us to understand our model better and increase its predictive power. \n",
    "I will carry out feature engineering on different types of variables.\n",
    "\n",
    "First, display the categorical and numerical variables again separately"
   ]
  },
  {
   "cell_type": "code",
   "execution_count": 107,
   "metadata": {},
   "outputs": [
    {
     "data": {
      "text/plain": [
       "state                      object\n",
       "account length              int64\n",
       "area code                  object\n",
       "international plan         object\n",
       "voice mail plan            object\n",
       "number vmail messages       int64\n",
       "total day minutes         float64\n",
       "total day calls             int64\n",
       "total day charge          float64\n",
       "total eve minutes         float64\n",
       "total eve calls             int64\n",
       "total eve charge          float64\n",
       "total night minutes       float64\n",
       "total night calls           int64\n",
       "total night charge        float64\n",
       "total intl minutes        float64\n",
       "total intl calls            int64\n",
       "total intl charge         float64\n",
       "customer service calls      int64\n",
       "dtype: object"
      ]
     },
     "execution_count": 107,
     "metadata": {},
     "output_type": "execute_result"
    }
   ],
   "source": [
    "# check data types in X_train\n",
    "\n",
    "X_train.dtypes"
   ]
  },
  {
   "cell_type": "code",
   "execution_count": 108,
   "metadata": {},
   "outputs": [
    {
     "data": {
      "text/plain": [
       "['state', 'area code', 'international plan', 'voice mail plan']"
      ]
     },
     "execution_count": 108,
     "metadata": {},
     "output_type": "execute_result"
    }
   ],
   "source": [
    "# display categorical variables\n",
    "\n",
    "categorical = [col for col in X_train.columns if X_train[col].dtypes == 'O']\n",
    "\n",
    "categorical"
   ]
  },
  {
   "cell_type": "code",
   "execution_count": 109,
   "metadata": {},
   "outputs": [
    {
     "data": {
      "text/plain": [
       "['account length',\n",
       " 'number vmail messages',\n",
       " 'total day minutes',\n",
       " 'total day calls',\n",
       " 'total day charge',\n",
       " 'total eve minutes',\n",
       " 'total eve calls',\n",
       " 'total eve charge',\n",
       " 'total night minutes',\n",
       " 'total night calls',\n",
       " 'total night charge',\n",
       " 'total intl minutes',\n",
       " 'total intl calls',\n",
       " 'total intl charge',\n",
       " 'customer service calls']"
      ]
     },
     "execution_count": 109,
     "metadata": {},
     "output_type": "execute_result"
    }
   ],
   "source": [
    "# display numerical variables\n",
    "\n",
    "numerical = [col for col in X_train.columns if X_train[col].dtypes != 'O']\n",
    "\n",
    "numerical"
   ]
  },
  {
   "cell_type": "markdown",
   "metadata": {},
   "source": [
    "### Engineering missing values in numerical variables"
   ]
  },
  {
   "cell_type": "code",
   "execution_count": 110,
   "metadata": {},
   "outputs": [
    {
     "data": {
      "text/plain": [
       "account length            0\n",
       "number vmail messages     0\n",
       "total day minutes         0\n",
       "total day calls           0\n",
       "total day charge          0\n",
       "total eve minutes         0\n",
       "total eve calls           0\n",
       "total eve charge          0\n",
       "total night minutes       0\n",
       "total night calls         0\n",
       "total night charge        0\n",
       "total intl minutes        0\n",
       "total intl calls          0\n",
       "total intl charge         0\n",
       "customer service calls    0\n",
       "dtype: int64"
      ]
     },
     "execution_count": 110,
     "metadata": {},
     "output_type": "execute_result"
    }
   ],
   "source": [
    "# check missing values in numerical variables in X_train\n",
    "\n",
    "X_train[numerical].isnull().sum()"
   ]
  },
  {
   "cell_type": "markdown",
   "metadata": {},
   "source": [
    "There are no missing values in the numerical variables in X_train dataset"
   ]
  },
  {
   "cell_type": "code",
   "execution_count": 111,
   "metadata": {},
   "outputs": [
    {
     "data": {
      "text/plain": [
       "account length            0\n",
       "number vmail messages     0\n",
       "total day minutes         0\n",
       "total day calls           0\n",
       "total day charge          0\n",
       "total eve minutes         0\n",
       "total eve calls           0\n",
       "total eve charge          0\n",
       "total night minutes       0\n",
       "total night calls         0\n",
       "total night charge        0\n",
       "total intl minutes        0\n",
       "total intl calls          0\n",
       "total intl charge         0\n",
       "customer service calls    0\n",
       "dtype: int64"
      ]
     },
     "execution_count": 111,
     "metadata": {},
     "output_type": "execute_result"
    }
   ],
   "source": [
    "# check missing values in numerical variables in X_test\n",
    "\n",
    "X_test[numerical].isnull().sum()"
   ]
  },
  {
   "cell_type": "markdown",
   "metadata": {},
   "source": [
    "There are no missing values in the numerical variables in X_test dataset"
   ]
  },
  {
   "cell_type": "markdown",
   "metadata": {},
   "source": [
    "### Engineering missing values in categorical variables"
   ]
  },
  {
   "cell_type": "code",
   "execution_count": 112,
   "metadata": {},
   "outputs": [
    {
     "data": {
      "text/plain": [
       "state                 0\n",
       "area code             0\n",
       "international plan    0\n",
       "voice mail plan       0\n",
       "dtype: int64"
      ]
     },
     "execution_count": 112,
     "metadata": {},
     "output_type": "execute_result"
    }
   ],
   "source": [
    "# check missing values in categorical variables in X_train\n",
    "\n",
    "X_train[categorical].isnull().sum()"
   ]
  },
  {
   "cell_type": "markdown",
   "metadata": {},
   "source": [
    "There are no missing values in the categorical variables in X_train dataset"
   ]
  },
  {
   "cell_type": "code",
   "execution_count": 113,
   "metadata": {},
   "outputs": [
    {
     "data": {
      "text/plain": [
       "state                 0\n",
       "area code             0\n",
       "international plan    0\n",
       "voice mail plan       0\n",
       "dtype: int64"
      ]
     },
     "execution_count": 113,
     "metadata": {},
     "output_type": "execute_result"
    }
   ],
   "source": [
    "# check missing values in categorical variables in X_test\n",
    "\n",
    "X_test[categorical].isnull().sum()"
   ]
  },
  {
   "cell_type": "markdown",
   "metadata": {},
   "source": [
    "There are no missing values in the categorical variables in X_test dataset"
   ]
  },
  {
   "cell_type": "markdown",
   "metadata": {},
   "source": [
    "### Engineering outliers in numerical variables\n",
    "\n",
    "\n",
    "The numerical variables have outliers: 'account length', 'number vmail messages', 'total day minutes', 'total day calls', 'total day charge', 'total eve minutes', 'total eve calls',  \n",
    "'total eve charge', 'total night minutes', 'total night calls','total night charge','total intl minutes', 'total intl calls','total intl charge', 'customer service calls',"
   ]
  },
  {
   "cell_type": "markdown",
   "metadata": {},
   "source": [
    "### Engineering outliers - upper thresholds "
   ]
  },
  {
   "cell_type": "code",
   "execution_count": 114,
   "metadata": {},
   "outputs": [],
   "source": [
    "upper_thresholds = {\n",
    "    'account length': 206.5,\n",
    "    'number vmail messages': 50,\n",
    "    'total day minutes': 325.45,\n",
    "    'total day calls': 154.5,\n",
    "    'total day charge': 55.33,\n",
    "    'total eve minutes': 338.35,\n",
    "    'total eve calls': 154.5,\n",
    "    'total eve charge': 28.76,\n",
    "    'total night minutes': 337.75,\n",
    "    'total night calls': 152,\n",
    "    'total night charge': 15.2,\n",
    "    'total intl minutes': 17.5,\n",
    "    'total intl calls': 10.5,\n",
    "    'total intl charge': 4.73,\n",
    "    'customer service calls': 3.5,\n",
    "}\n",
    "\n",
    "for df1 in [X_train, X_test]:\n",
    "    for column, top in upper_thresholds.items():\n",
    "        df1[column] = df1[column].clip(upper=top)"
   ]
  },
  {
   "cell_type": "code",
   "execution_count": 115,
   "metadata": {},
   "outputs": [
    {
     "data": {
      "text/plain": [
       "(206.5, 206.5)"
      ]
     },
     "execution_count": 115,
     "metadata": {},
     "output_type": "execute_result"
    }
   ],
   "source": [
    "X_train['account length'].max(), X_test['account length'].max()"
   ]
  },
  {
   "cell_type": "code",
   "execution_count": 116,
   "metadata": {},
   "outputs": [
    {
     "data": {
      "text/plain": [
       "(50, 50)"
      ]
     },
     "execution_count": 116,
     "metadata": {},
     "output_type": "execute_result"
    }
   ],
   "source": [
    "X_train['number vmail messages'].max(), X_test['number vmail messages'].max()"
   ]
  },
  {
   "cell_type": "code",
   "execution_count": 117,
   "metadata": {},
   "outputs": [
    {
     "data": {
      "text/plain": [
       "(325.45, 325.45)"
      ]
     },
     "execution_count": 117,
     "metadata": {},
     "output_type": "execute_result"
    }
   ],
   "source": [
    "X_train['total day minutes'].max(), X_test['total day minutes'].max()"
   ]
  },
  {
   "cell_type": "code",
   "execution_count": 118,
   "metadata": {},
   "outputs": [
    {
     "data": {
      "text/plain": [
       "(154.5, 150)"
      ]
     },
     "execution_count": 118,
     "metadata": {},
     "output_type": "execute_result"
    }
   ],
   "source": [
    "X_train['total day calls'].max(), X_test['total day calls'].max()"
   ]
  },
  {
   "cell_type": "code",
   "execution_count": 119,
   "metadata": {},
   "outputs": [
    {
     "data": {
      "text/plain": [
       "(55.33, 55.33)"
      ]
     },
     "execution_count": 119,
     "metadata": {},
     "output_type": "execute_result"
    }
   ],
   "source": [
    "X_train['total day charge'].max(), X_test['total day charge'].max()\n"
   ]
  },
  {
   "cell_type": "code",
   "execution_count": 120,
   "metadata": {},
   "outputs": [
    {
     "data": {
      "text/plain": [
       "(338.35, 338.35)"
      ]
     },
     "execution_count": 120,
     "metadata": {},
     "output_type": "execute_result"
    }
   ],
   "source": [
    "X_train['total eve minutes'].max(), X_test['total eve minutes'].max()"
   ]
  },
  {
   "cell_type": "code",
   "execution_count": 121,
   "metadata": {},
   "outputs": [
    {
     "data": {
      "text/plain": [
       "(154.5, 152)"
      ]
     },
     "execution_count": 121,
     "metadata": {},
     "output_type": "execute_result"
    }
   ],
   "source": [
    "X_train['total eve calls'].max(), X_test['total eve calls'].max()"
   ]
  },
  {
   "cell_type": "code",
   "execution_count": 122,
   "metadata": {},
   "outputs": [
    {
     "data": {
      "text/plain": [
       "(28.76, 28.76)"
      ]
     },
     "execution_count": 122,
     "metadata": {},
     "output_type": "execute_result"
    }
   ],
   "source": [
    "X_train['total eve charge'].max(), X_test['total eve charge'].max()"
   ]
  },
  {
   "cell_type": "code",
   "execution_count": 123,
   "metadata": {},
   "outputs": [
    {
     "data": {
      "text/plain": [
       "(337.75, 337.75)"
      ]
     },
     "execution_count": 123,
     "metadata": {},
     "output_type": "execute_result"
    }
   ],
   "source": [
    "X_train['total night minutes'].max(), X_test['total night minutes'].max()"
   ]
  },
  {
   "cell_type": "code",
   "execution_count": 124,
   "metadata": {},
   "outputs": [
    {
     "data": {
      "text/plain": [
       "(152, 152)"
      ]
     },
     "execution_count": 124,
     "metadata": {},
     "output_type": "execute_result"
    }
   ],
   "source": [
    "X_train['total night calls'].max(), X_test['total night calls'].max()"
   ]
  },
  {
   "cell_type": "code",
   "execution_count": 125,
   "metadata": {},
   "outputs": [
    {
     "data": {
      "text/plain": [
       "(15.2, 15.2)"
      ]
     },
     "execution_count": 125,
     "metadata": {},
     "output_type": "execute_result"
    }
   ],
   "source": [
    "X_train['total night charge'].max(), X_test['total night charge'].max()"
   ]
  },
  {
   "cell_type": "code",
   "execution_count": 126,
   "metadata": {},
   "outputs": [
    {
     "data": {
      "text/plain": [
       "(17.5, 17.5)"
      ]
     },
     "execution_count": 126,
     "metadata": {},
     "output_type": "execute_result"
    }
   ],
   "source": [
    "X_train['total intl minutes'].max(), X_test['total intl minutes'].max()"
   ]
  },
  {
   "cell_type": "code",
   "execution_count": 127,
   "metadata": {},
   "outputs": [
    {
     "data": {
      "text/plain": [
       "(10.5, 10.5)"
      ]
     },
     "execution_count": 127,
     "metadata": {},
     "output_type": "execute_result"
    }
   ],
   "source": [
    "X_train['total intl calls'].max(), X_test['total intl calls'].max()"
   ]
  },
  {
   "cell_type": "code",
   "execution_count": 128,
   "metadata": {},
   "outputs": [
    {
     "data": {
      "text/plain": [
       "(4.73, 4.73)"
      ]
     },
     "execution_count": 128,
     "metadata": {},
     "output_type": "execute_result"
    }
   ],
   "source": [
    "X_train['total intl charge'].max(), X_test['total intl charge'].max()"
   ]
  },
  {
   "cell_type": "code",
   "execution_count": 129,
   "metadata": {},
   "outputs": [
    {
     "data": {
      "text/plain": [
       "(3.5, 3.5)"
      ]
     },
     "execution_count": 129,
     "metadata": {},
     "output_type": "execute_result"
    }
   ],
   "source": [
    "X_train['customer service calls'].max(), X_test['customer service calls'].max()"
   ]
  },
  {
   "cell_type": "markdown",
   "metadata": {},
   "source": [
    "### Engineering outliers - lower thresholds "
   ]
  },
  {
   "cell_type": "code",
   "execution_count": 130,
   "metadata": {},
   "outputs": [],
   "source": [
    "lower_thresholds = {\n",
    "    'account length': 0,\n",
    "    'number vmail messages': 0,\n",
    "    'total day minutes': 34.65,\n",
    "    'total day calls': 46.5,\n",
    "    'total day charge': 5.89,\n",
    "    'total eve minutes': 63.55,\n",
    "    'total eve calls': 46.5,\n",
    "    'total eve charge': 5.4,\n",
    "    'total night minutes': 64.55,\n",
    "    'total night calls': 48,\n",
    "    'total night charge': 2.91,\n",
    "    'total intl minutes': 3.1,\n",
    "    'total intl calls': 0,\n",
    "    'total intl charge': 0.84,\n",
    "    'customer service calls': 0,\n",
    "}\n",
    "\n",
    "for df1 in [X_train, X_test]:\n",
    "    for column, bottom in lower_thresholds.items():\n",
    "        df1[column] = df1[column].clip(lower=bottom)"
   ]
  },
  {
   "cell_type": "code",
   "execution_count": 131,
   "metadata": {},
   "outputs": [
    {
     "data": {
      "text/plain": [
       "(1.0, 1.0)"
      ]
     },
     "execution_count": 131,
     "metadata": {},
     "output_type": "execute_result"
    }
   ],
   "source": [
    "X_train['account length'].min(), X_test['account length'].min()"
   ]
  },
  {
   "cell_type": "code",
   "execution_count": 132,
   "metadata": {},
   "outputs": [
    {
     "data": {
      "text/plain": [
       "(0, 0)"
      ]
     },
     "execution_count": 132,
     "metadata": {},
     "output_type": "execute_result"
    }
   ],
   "source": [
    "X_train['number vmail messages'].min(), X_test['number vmail messages'].min()"
   ]
  },
  {
   "cell_type": "code",
   "execution_count": 133,
   "metadata": {},
   "outputs": [
    {
     "data": {
      "text/plain": [
       "(34.65, 34.65)"
      ]
     },
     "execution_count": 133,
     "metadata": {},
     "output_type": "execute_result"
    }
   ],
   "source": [
    "X_train['total day minutes'].min(), X_test['total day minutes'].min()\n"
   ]
  },
  {
   "cell_type": "code",
   "execution_count": 134,
   "metadata": {},
   "outputs": [
    {
     "data": {
      "text/plain": [
       "(46.5, 46.5)"
      ]
     },
     "execution_count": 134,
     "metadata": {},
     "output_type": "execute_result"
    }
   ],
   "source": [
    "X_train['total day calls'].min(), X_test['total day calls'].min()"
   ]
  },
  {
   "cell_type": "code",
   "execution_count": 135,
   "metadata": {},
   "outputs": [
    {
     "data": {
      "text/plain": [
       "(5.89, 5.89)"
      ]
     },
     "execution_count": 135,
     "metadata": {},
     "output_type": "execute_result"
    }
   ],
   "source": [
    "X_train['total day charge'].min(), X_test['total day charge'].min()"
   ]
  },
  {
   "cell_type": "code",
   "execution_count": 136,
   "metadata": {},
   "outputs": [
    {
     "data": {
      "text/plain": [
       "(63.55, 63.55)"
      ]
     },
     "execution_count": 136,
     "metadata": {},
     "output_type": "execute_result"
    }
   ],
   "source": [
    "X_train['total eve minutes'].min(), X_test['total eve minutes'].min()"
   ]
  },
  {
   "cell_type": "code",
   "execution_count": 137,
   "metadata": {},
   "outputs": [
    {
     "data": {
      "text/plain": [
       "(46.5, 46.5)"
      ]
     },
     "execution_count": 137,
     "metadata": {},
     "output_type": "execute_result"
    }
   ],
   "source": [
    "X_train['total eve calls'].min(), X_test['total eve calls'].min()"
   ]
  },
  {
   "cell_type": "code",
   "execution_count": 138,
   "metadata": {},
   "outputs": [
    {
     "data": {
      "text/plain": [
       "(5.4, 5.4)"
      ]
     },
     "execution_count": 138,
     "metadata": {},
     "output_type": "execute_result"
    }
   ],
   "source": [
    "X_train['total eve charge'].min(), X_test['total eve charge'].min()"
   ]
  },
  {
   "cell_type": "code",
   "execution_count": 139,
   "metadata": {},
   "outputs": [
    {
     "data": {
      "text/plain": [
       "(64.55, 64.55)"
      ]
     },
     "execution_count": 139,
     "metadata": {},
     "output_type": "execute_result"
    }
   ],
   "source": [
    "X_train['total night minutes'].min(), X_test['total night minutes'].min()"
   ]
  },
  {
   "cell_type": "code",
   "execution_count": 140,
   "metadata": {},
   "outputs": [
    {
     "data": {
      "text/plain": [
       "(48, 50)"
      ]
     },
     "execution_count": 140,
     "metadata": {},
     "output_type": "execute_result"
    }
   ],
   "source": [
    "X_train['total night calls'].min(), X_test['total night calls'].min()"
   ]
  },
  {
   "cell_type": "code",
   "execution_count": 141,
   "metadata": {},
   "outputs": [
    {
     "data": {
      "text/plain": [
       "(2.91, 2.91)"
      ]
     },
     "execution_count": 141,
     "metadata": {},
     "output_type": "execute_result"
    }
   ],
   "source": [
    "X_train['total night charge'].min(), X_test['total night charge'].min()"
   ]
  },
  {
   "cell_type": "code",
   "execution_count": 142,
   "metadata": {},
   "outputs": [
    {
     "data": {
      "text/plain": [
       "(3.1, 3.1)"
      ]
     },
     "execution_count": 142,
     "metadata": {},
     "output_type": "execute_result"
    }
   ],
   "source": [
    "X_train['total intl minutes'].min(), X_test['total intl minutes'].min()"
   ]
  },
  {
   "cell_type": "code",
   "execution_count": 143,
   "metadata": {},
   "outputs": [
    {
     "data": {
      "text/plain": [
       "(0.0, 0.0)"
      ]
     },
     "execution_count": 143,
     "metadata": {},
     "output_type": "execute_result"
    }
   ],
   "source": [
    "X_train['total intl calls'].min(), X_test['total intl calls'].min()"
   ]
  },
  {
   "cell_type": "code",
   "execution_count": 144,
   "metadata": {},
   "outputs": [
    {
     "data": {
      "text/plain": [
       "(0.84, 0.84)"
      ]
     },
     "execution_count": 144,
     "metadata": {},
     "output_type": "execute_result"
    }
   ],
   "source": [
    "X_train['total intl charge'].min(), X_test['total intl charge'].min()"
   ]
  },
  {
   "cell_type": "code",
   "execution_count": 145,
   "metadata": {},
   "outputs": [
    {
     "data": {
      "text/plain": [
       "(0.0, 0.0)"
      ]
     },
     "execution_count": 145,
     "metadata": {},
     "output_type": "execute_result"
    }
   ],
   "source": [
    "X_train['customer service calls'].min(), X_test['customer service calls'].min()"
   ]
  },
  {
   "cell_type": "markdown",
   "metadata": {},
   "source": [
    "## Encode categorical variables"
   ]
  },
  {
   "cell_type": "code",
   "execution_count": 146,
   "metadata": {},
   "outputs": [
    {
     "data": {
      "text/plain": [
       "['state', 'area code', 'international plan', 'voice mail plan']"
      ]
     },
     "execution_count": 146,
     "metadata": {},
     "output_type": "execute_result"
    }
   ],
   "source": [
    "categorical "
   ]
  },
  {
   "cell_type": "code",
   "execution_count": 147,
   "metadata": {},
   "outputs": [
    {
     "data": {
      "text/html": [
       "<div>\n",
       "<style scoped>\n",
       "    .dataframe tbody tr th:only-of-type {\n",
       "        vertical-align: middle;\n",
       "    }\n",
       "\n",
       "    .dataframe tbody tr th {\n",
       "        vertical-align: top;\n",
       "    }\n",
       "\n",
       "    .dataframe thead th {\n",
       "        text-align: right;\n",
       "    }\n",
       "</style>\n",
       "<table border=\"1\" class=\"dataframe\">\n",
       "  <thead>\n",
       "    <tr style=\"text-align: right;\">\n",
       "      <th></th>\n",
       "      <th>state</th>\n",
       "      <th>area code</th>\n",
       "      <th>international plan</th>\n",
       "      <th>voice mail plan</th>\n",
       "    </tr>\n",
       "  </thead>\n",
       "  <tbody>\n",
       "    <tr>\n",
       "      <th>1460</th>\n",
       "      <td>MT</td>\n",
       "      <td>415</td>\n",
       "      <td>no</td>\n",
       "      <td>no</td>\n",
       "    </tr>\n",
       "    <tr>\n",
       "      <th>2000</th>\n",
       "      <td>PA</td>\n",
       "      <td>415</td>\n",
       "      <td>no</td>\n",
       "      <td>no</td>\n",
       "    </tr>\n",
       "    <tr>\n",
       "      <th>666</th>\n",
       "      <td>OR</td>\n",
       "      <td>415</td>\n",
       "      <td>no</td>\n",
       "      <td>no</td>\n",
       "    </tr>\n",
       "    <tr>\n",
       "      <th>2962</th>\n",
       "      <td>SD</td>\n",
       "      <td>415</td>\n",
       "      <td>no</td>\n",
       "      <td>no</td>\n",
       "    </tr>\n",
       "    <tr>\n",
       "      <th>2773</th>\n",
       "      <td>NJ</td>\n",
       "      <td>510</td>\n",
       "      <td>no</td>\n",
       "      <td>yes</td>\n",
       "    </tr>\n",
       "  </tbody>\n",
       "</table>\n",
       "</div>"
      ],
      "text/plain": [
       "     state area code international plan voice mail plan\n",
       "1460    MT       415                 no              no\n",
       "2000    PA       415                 no              no\n",
       "666     OR       415                 no              no\n",
       "2962    SD       415                 no              no\n",
       "2773    NJ       510                 no             yes"
      ]
     },
     "execution_count": 147,
     "metadata": {},
     "output_type": "execute_result"
    }
   ],
   "source": [
    "X_train[categorical].head(5)"
   ]
  },
  {
   "cell_type": "markdown",
   "metadata": {},
   "source": [
    "### Encode binary categorical variables: international plan & voice mail plan"
   ]
  },
  {
   "cell_type": "code",
   "execution_count": 148,
   "metadata": {},
   "outputs": [],
   "source": [
    "# installed category encoders \n",
    "# encode international plan variable\n",
    "\n",
    "import category_encoders as ce\n",
    "\n",
    "binary_encoder = ce.BinaryEncoder(cols=['international plan'])\n",
    "\n",
    "X_train = binary_encoder.fit_transform(X_train)\n",
    "\n",
    "X_test = binary_encoder.transform(X_test)"
   ]
  },
  {
   "cell_type": "code",
   "execution_count": 149,
   "metadata": {},
   "outputs": [
    {
     "data": {
      "text/html": [
       "<div>\n",
       "<style scoped>\n",
       "    .dataframe tbody tr th:only-of-type {\n",
       "        vertical-align: middle;\n",
       "    }\n",
       "\n",
       "    .dataframe tbody tr th {\n",
       "        vertical-align: top;\n",
       "    }\n",
       "\n",
       "    .dataframe thead th {\n",
       "        text-align: right;\n",
       "    }\n",
       "</style>\n",
       "<table border=\"1\" class=\"dataframe\">\n",
       "  <thead>\n",
       "    <tr style=\"text-align: right;\">\n",
       "      <th></th>\n",
       "      <th>state</th>\n",
       "      <th>account length</th>\n",
       "      <th>area code</th>\n",
       "      <th>international plan_0</th>\n",
       "      <th>international plan_1</th>\n",
       "      <th>voice mail plan</th>\n",
       "      <th>number vmail messages</th>\n",
       "      <th>total day minutes</th>\n",
       "      <th>total day calls</th>\n",
       "      <th>total day charge</th>\n",
       "      <th>total eve minutes</th>\n",
       "      <th>total eve calls</th>\n",
       "      <th>total eve charge</th>\n",
       "      <th>total night minutes</th>\n",
       "      <th>total night calls</th>\n",
       "      <th>total night charge</th>\n",
       "      <th>total intl minutes</th>\n",
       "      <th>total intl calls</th>\n",
       "      <th>total intl charge</th>\n",
       "      <th>customer service calls</th>\n",
       "    </tr>\n",
       "  </thead>\n",
       "  <tbody>\n",
       "    <tr>\n",
       "      <th>1460</th>\n",
       "      <td>MT</td>\n",
       "      <td>80.0</td>\n",
       "      <td>415</td>\n",
       "      <td>0</td>\n",
       "      <td>1</td>\n",
       "      <td>no</td>\n",
       "      <td>0</td>\n",
       "      <td>198.1</td>\n",
       "      <td>154.5</td>\n",
       "      <td>33.68</td>\n",
       "      <td>156.7</td>\n",
       "      <td>87.0</td>\n",
       "      <td>13.32</td>\n",
       "      <td>182.1</td>\n",
       "      <td>76</td>\n",
       "      <td>8.19</td>\n",
       "      <td>9.3</td>\n",
       "      <td>3.0</td>\n",
       "      <td>2.51</td>\n",
       "      <td>3.0</td>\n",
       "    </tr>\n",
       "    <tr>\n",
       "      <th>2000</th>\n",
       "      <td>PA</td>\n",
       "      <td>28.0</td>\n",
       "      <td>415</td>\n",
       "      <td>0</td>\n",
       "      <td>1</td>\n",
       "      <td>no</td>\n",
       "      <td>0</td>\n",
       "      <td>168.2</td>\n",
       "      <td>87.0</td>\n",
       "      <td>28.59</td>\n",
       "      <td>161.7</td>\n",
       "      <td>92.0</td>\n",
       "      <td>13.74</td>\n",
       "      <td>192.4</td>\n",
       "      <td>112</td>\n",
       "      <td>8.66</td>\n",
       "      <td>10.1</td>\n",
       "      <td>3.0</td>\n",
       "      <td>2.73</td>\n",
       "      <td>3.0</td>\n",
       "    </tr>\n",
       "    <tr>\n",
       "      <th>666</th>\n",
       "      <td>OR</td>\n",
       "      <td>120.0</td>\n",
       "      <td>415</td>\n",
       "      <td>0</td>\n",
       "      <td>1</td>\n",
       "      <td>no</td>\n",
       "      <td>0</td>\n",
       "      <td>252.0</td>\n",
       "      <td>120.0</td>\n",
       "      <td>42.84</td>\n",
       "      <td>150.2</td>\n",
       "      <td>106.0</td>\n",
       "      <td>12.77</td>\n",
       "      <td>151.8</td>\n",
       "      <td>96</td>\n",
       "      <td>6.83</td>\n",
       "      <td>9.6</td>\n",
       "      <td>1.0</td>\n",
       "      <td>2.59</td>\n",
       "      <td>2.0</td>\n",
       "    </tr>\n",
       "    <tr>\n",
       "      <th>2962</th>\n",
       "      <td>SD</td>\n",
       "      <td>105.0</td>\n",
       "      <td>415</td>\n",
       "      <td>0</td>\n",
       "      <td>1</td>\n",
       "      <td>no</td>\n",
       "      <td>0</td>\n",
       "      <td>251.6</td>\n",
       "      <td>88.0</td>\n",
       "      <td>42.77</td>\n",
       "      <td>175.1</td>\n",
       "      <td>103.0</td>\n",
       "      <td>14.88</td>\n",
       "      <td>184.4</td>\n",
       "      <td>112</td>\n",
       "      <td>8.30</td>\n",
       "      <td>5.4</td>\n",
       "      <td>5.0</td>\n",
       "      <td>1.46</td>\n",
       "      <td>1.0</td>\n",
       "    </tr>\n",
       "    <tr>\n",
       "      <th>2773</th>\n",
       "      <td>NJ</td>\n",
       "      <td>134.0</td>\n",
       "      <td>510</td>\n",
       "      <td>0</td>\n",
       "      <td>1</td>\n",
       "      <td>yes</td>\n",
       "      <td>34</td>\n",
       "      <td>247.2</td>\n",
       "      <td>105.0</td>\n",
       "      <td>42.02</td>\n",
       "      <td>225.5</td>\n",
       "      <td>133.0</td>\n",
       "      <td>19.17</td>\n",
       "      <td>186.3</td>\n",
       "      <td>76</td>\n",
       "      <td>8.38</td>\n",
       "      <td>6.1</td>\n",
       "      <td>5.0</td>\n",
       "      <td>1.65</td>\n",
       "      <td>2.0</td>\n",
       "    </tr>\n",
       "  </tbody>\n",
       "</table>\n",
       "</div>"
      ],
      "text/plain": [
       "     state  account length area code  international plan_0  \\\n",
       "1460    MT            80.0       415                     0   \n",
       "2000    PA            28.0       415                     0   \n",
       "666     OR           120.0       415                     0   \n",
       "2962    SD           105.0       415                     0   \n",
       "2773    NJ           134.0       510                     0   \n",
       "\n",
       "      international plan_1 voice mail plan  number vmail messages  \\\n",
       "1460                     1              no                      0   \n",
       "2000                     1              no                      0   \n",
       "666                      1              no                      0   \n",
       "2962                     1              no                      0   \n",
       "2773                     1             yes                     34   \n",
       "\n",
       "      total day minutes  total day calls  total day charge  total eve minutes  \\\n",
       "1460              198.1            154.5             33.68              156.7   \n",
       "2000              168.2             87.0             28.59              161.7   \n",
       "666               252.0            120.0             42.84              150.2   \n",
       "2962              251.6             88.0             42.77              175.1   \n",
       "2773              247.2            105.0             42.02              225.5   \n",
       "\n",
       "      total eve calls  total eve charge  total night minutes  \\\n",
       "1460             87.0             13.32                182.1   \n",
       "2000             92.0             13.74                192.4   \n",
       "666             106.0             12.77                151.8   \n",
       "2962            103.0             14.88                184.4   \n",
       "2773            133.0             19.17                186.3   \n",
       "\n",
       "      total night calls  total night charge  total intl minutes  \\\n",
       "1460                 76                8.19                 9.3   \n",
       "2000                112                8.66                10.1   \n",
       "666                  96                6.83                 9.6   \n",
       "2962                112                8.30                 5.4   \n",
       "2773                 76                8.38                 6.1   \n",
       "\n",
       "      total intl calls  total intl charge  customer service calls  \n",
       "1460               3.0               2.51                     3.0  \n",
       "2000               3.0               2.73                     3.0  \n",
       "666                1.0               2.59                     2.0  \n",
       "2962               5.0               1.46                     1.0  \n",
       "2773               5.0               1.65                     2.0  "
      ]
     },
     "execution_count": 149,
     "metadata": {},
     "output_type": "execute_result"
    }
   ],
   "source": [
    "X_train.head(5)"
   ]
  },
  {
   "cell_type": "code",
   "execution_count": 150,
   "metadata": {},
   "outputs": [],
   "source": [
    "# encode voice mail plan variable\n",
    "\n",
    "import category_encoders as ce\n",
    "\n",
    "binary_encoder = ce.BinaryEncoder(cols=['voice mail plan'])\n",
    "\n",
    "X_train = binary_encoder.fit_transform(X_train)\n",
    "\n",
    "X_test = binary_encoder.transform(X_test)"
   ]
  },
  {
   "cell_type": "code",
   "execution_count": 151,
   "metadata": {},
   "outputs": [
    {
     "data": {
      "text/html": [
       "<div>\n",
       "<style scoped>\n",
       "    .dataframe tbody tr th:only-of-type {\n",
       "        vertical-align: middle;\n",
       "    }\n",
       "\n",
       "    .dataframe tbody tr th {\n",
       "        vertical-align: top;\n",
       "    }\n",
       "\n",
       "    .dataframe thead th {\n",
       "        text-align: right;\n",
       "    }\n",
       "</style>\n",
       "<table border=\"1\" class=\"dataframe\">\n",
       "  <thead>\n",
       "    <tr style=\"text-align: right;\">\n",
       "      <th></th>\n",
       "      <th>state</th>\n",
       "      <th>account length</th>\n",
       "      <th>area code</th>\n",
       "      <th>international plan_0</th>\n",
       "      <th>international plan_1</th>\n",
       "      <th>voice mail plan_0</th>\n",
       "      <th>voice mail plan_1</th>\n",
       "      <th>number vmail messages</th>\n",
       "      <th>total day minutes</th>\n",
       "      <th>total day calls</th>\n",
       "      <th>...</th>\n",
       "      <th>total eve minutes</th>\n",
       "      <th>total eve calls</th>\n",
       "      <th>total eve charge</th>\n",
       "      <th>total night minutes</th>\n",
       "      <th>total night calls</th>\n",
       "      <th>total night charge</th>\n",
       "      <th>total intl minutes</th>\n",
       "      <th>total intl calls</th>\n",
       "      <th>total intl charge</th>\n",
       "      <th>customer service calls</th>\n",
       "    </tr>\n",
       "  </thead>\n",
       "  <tbody>\n",
       "    <tr>\n",
       "      <th>1460</th>\n",
       "      <td>MT</td>\n",
       "      <td>80.0</td>\n",
       "      <td>415</td>\n",
       "      <td>0</td>\n",
       "      <td>1</td>\n",
       "      <td>0</td>\n",
       "      <td>1</td>\n",
       "      <td>0</td>\n",
       "      <td>198.1</td>\n",
       "      <td>154.5</td>\n",
       "      <td>...</td>\n",
       "      <td>156.7</td>\n",
       "      <td>87.0</td>\n",
       "      <td>13.32</td>\n",
       "      <td>182.1</td>\n",
       "      <td>76</td>\n",
       "      <td>8.19</td>\n",
       "      <td>9.3</td>\n",
       "      <td>3.0</td>\n",
       "      <td>2.51</td>\n",
       "      <td>3.0</td>\n",
       "    </tr>\n",
       "    <tr>\n",
       "      <th>2000</th>\n",
       "      <td>PA</td>\n",
       "      <td>28.0</td>\n",
       "      <td>415</td>\n",
       "      <td>0</td>\n",
       "      <td>1</td>\n",
       "      <td>0</td>\n",
       "      <td>1</td>\n",
       "      <td>0</td>\n",
       "      <td>168.2</td>\n",
       "      <td>87.0</td>\n",
       "      <td>...</td>\n",
       "      <td>161.7</td>\n",
       "      <td>92.0</td>\n",
       "      <td>13.74</td>\n",
       "      <td>192.4</td>\n",
       "      <td>112</td>\n",
       "      <td>8.66</td>\n",
       "      <td>10.1</td>\n",
       "      <td>3.0</td>\n",
       "      <td>2.73</td>\n",
       "      <td>3.0</td>\n",
       "    </tr>\n",
       "    <tr>\n",
       "      <th>666</th>\n",
       "      <td>OR</td>\n",
       "      <td>120.0</td>\n",
       "      <td>415</td>\n",
       "      <td>0</td>\n",
       "      <td>1</td>\n",
       "      <td>0</td>\n",
       "      <td>1</td>\n",
       "      <td>0</td>\n",
       "      <td>252.0</td>\n",
       "      <td>120.0</td>\n",
       "      <td>...</td>\n",
       "      <td>150.2</td>\n",
       "      <td>106.0</td>\n",
       "      <td>12.77</td>\n",
       "      <td>151.8</td>\n",
       "      <td>96</td>\n",
       "      <td>6.83</td>\n",
       "      <td>9.6</td>\n",
       "      <td>1.0</td>\n",
       "      <td>2.59</td>\n",
       "      <td>2.0</td>\n",
       "    </tr>\n",
       "    <tr>\n",
       "      <th>2962</th>\n",
       "      <td>SD</td>\n",
       "      <td>105.0</td>\n",
       "      <td>415</td>\n",
       "      <td>0</td>\n",
       "      <td>1</td>\n",
       "      <td>0</td>\n",
       "      <td>1</td>\n",
       "      <td>0</td>\n",
       "      <td>251.6</td>\n",
       "      <td>88.0</td>\n",
       "      <td>...</td>\n",
       "      <td>175.1</td>\n",
       "      <td>103.0</td>\n",
       "      <td>14.88</td>\n",
       "      <td>184.4</td>\n",
       "      <td>112</td>\n",
       "      <td>8.30</td>\n",
       "      <td>5.4</td>\n",
       "      <td>5.0</td>\n",
       "      <td>1.46</td>\n",
       "      <td>1.0</td>\n",
       "    </tr>\n",
       "    <tr>\n",
       "      <th>2773</th>\n",
       "      <td>NJ</td>\n",
       "      <td>134.0</td>\n",
       "      <td>510</td>\n",
       "      <td>0</td>\n",
       "      <td>1</td>\n",
       "      <td>1</td>\n",
       "      <td>0</td>\n",
       "      <td>34</td>\n",
       "      <td>247.2</td>\n",
       "      <td>105.0</td>\n",
       "      <td>...</td>\n",
       "      <td>225.5</td>\n",
       "      <td>133.0</td>\n",
       "      <td>19.17</td>\n",
       "      <td>186.3</td>\n",
       "      <td>76</td>\n",
       "      <td>8.38</td>\n",
       "      <td>6.1</td>\n",
       "      <td>5.0</td>\n",
       "      <td>1.65</td>\n",
       "      <td>2.0</td>\n",
       "    </tr>\n",
       "  </tbody>\n",
       "</table>\n",
       "<p>5 rows × 21 columns</p>\n",
       "</div>"
      ],
      "text/plain": [
       "     state  account length area code  international plan_0  \\\n",
       "1460    MT            80.0       415                     0   \n",
       "2000    PA            28.0       415                     0   \n",
       "666     OR           120.0       415                     0   \n",
       "2962    SD           105.0       415                     0   \n",
       "2773    NJ           134.0       510                     0   \n",
       "\n",
       "      international plan_1  voice mail plan_0  voice mail plan_1  \\\n",
       "1460                     1                  0                  1   \n",
       "2000                     1                  0                  1   \n",
       "666                      1                  0                  1   \n",
       "2962                     1                  0                  1   \n",
       "2773                     1                  1                  0   \n",
       "\n",
       "      number vmail messages  total day minutes  total day calls  ...  \\\n",
       "1460                      0              198.1            154.5  ...   \n",
       "2000                      0              168.2             87.0  ...   \n",
       "666                       0              252.0            120.0  ...   \n",
       "2962                      0              251.6             88.0  ...   \n",
       "2773                     34              247.2            105.0  ...   \n",
       "\n",
       "      total eve minutes  total eve calls  total eve charge  \\\n",
       "1460              156.7             87.0             13.32   \n",
       "2000              161.7             92.0             13.74   \n",
       "666               150.2            106.0             12.77   \n",
       "2962              175.1            103.0             14.88   \n",
       "2773              225.5            133.0             19.17   \n",
       "\n",
       "      total night minutes  total night calls  total night charge  \\\n",
       "1460                182.1                 76                8.19   \n",
       "2000                192.4                112                8.66   \n",
       "666                 151.8                 96                6.83   \n",
       "2962                184.4                112                8.30   \n",
       "2773                186.3                 76                8.38   \n",
       "\n",
       "      total intl minutes  total intl calls  total intl charge  \\\n",
       "1460                 9.3               3.0               2.51   \n",
       "2000                10.1               3.0               2.73   \n",
       "666                  9.6               1.0               2.59   \n",
       "2962                 5.4               5.0               1.46   \n",
       "2773                 6.1               5.0               1.65   \n",
       "\n",
       "      customer service calls  \n",
       "1460                     3.0  \n",
       "2000                     3.0  \n",
       "666                      2.0  \n",
       "2962                     1.0  \n",
       "2773                     2.0  \n",
       "\n",
       "[5 rows x 21 columns]"
      ]
     },
     "execution_count": 151,
     "metadata": {},
     "output_type": "execute_result"
    }
   ],
   "source": [
    "X_train.head(5)"
   ]
  },
  {
   "cell_type": "markdown",
   "metadata": {},
   "source": [
    "### Encode categorical variable state: use one hot encoder"
   ]
  },
  {
   "cell_type": "code",
   "execution_count": 152,
   "metadata": {},
   "outputs": [],
   "source": [
    "# Encode state categorical variable using ohe\n",
    "\n",
    "from sklearn.preprocessing import OneHotEncoder\n",
    "\n",
    "ohe = ce.OneHotEncoder(\"state\", handle_missing=\"value\",handle_unknown=\"ignore\")\n",
    "\n",
    "X_train = ohe.fit_transform(X_train)\n",
    "X_test = ohe.transform(X_test)"
   ]
  },
  {
   "cell_type": "code",
   "execution_count": 153,
   "metadata": {},
   "outputs": [
    {
     "data": {
      "text/html": [
       "<div>\n",
       "<style scoped>\n",
       "    .dataframe tbody tr th:only-of-type {\n",
       "        vertical-align: middle;\n",
       "    }\n",
       "\n",
       "    .dataframe tbody tr th {\n",
       "        vertical-align: top;\n",
       "    }\n",
       "\n",
       "    .dataframe thead th {\n",
       "        text-align: right;\n",
       "    }\n",
       "</style>\n",
       "<table border=\"1\" class=\"dataframe\">\n",
       "  <thead>\n",
       "    <tr style=\"text-align: right;\">\n",
       "      <th></th>\n",
       "      <th>state_1</th>\n",
       "      <th>state_2</th>\n",
       "      <th>state_3</th>\n",
       "      <th>state_4</th>\n",
       "      <th>state_5</th>\n",
       "      <th>state_6</th>\n",
       "      <th>state_7</th>\n",
       "      <th>state_8</th>\n",
       "      <th>state_9</th>\n",
       "      <th>state_10</th>\n",
       "      <th>...</th>\n",
       "      <th>total eve minutes</th>\n",
       "      <th>total eve calls</th>\n",
       "      <th>total eve charge</th>\n",
       "      <th>total night minutes</th>\n",
       "      <th>total night calls</th>\n",
       "      <th>total night charge</th>\n",
       "      <th>total intl minutes</th>\n",
       "      <th>total intl calls</th>\n",
       "      <th>total intl charge</th>\n",
       "      <th>customer service calls</th>\n",
       "    </tr>\n",
       "  </thead>\n",
       "  <tbody>\n",
       "    <tr>\n",
       "      <th>1460</th>\n",
       "      <td>1</td>\n",
       "      <td>0</td>\n",
       "      <td>0</td>\n",
       "      <td>0</td>\n",
       "      <td>0</td>\n",
       "      <td>0</td>\n",
       "      <td>0</td>\n",
       "      <td>0</td>\n",
       "      <td>0</td>\n",
       "      <td>0</td>\n",
       "      <td>...</td>\n",
       "      <td>156.7</td>\n",
       "      <td>87.0</td>\n",
       "      <td>13.32</td>\n",
       "      <td>182.1</td>\n",
       "      <td>76</td>\n",
       "      <td>8.19</td>\n",
       "      <td>9.3</td>\n",
       "      <td>3.0</td>\n",
       "      <td>2.51</td>\n",
       "      <td>3.0</td>\n",
       "    </tr>\n",
       "    <tr>\n",
       "      <th>2000</th>\n",
       "      <td>0</td>\n",
       "      <td>1</td>\n",
       "      <td>0</td>\n",
       "      <td>0</td>\n",
       "      <td>0</td>\n",
       "      <td>0</td>\n",
       "      <td>0</td>\n",
       "      <td>0</td>\n",
       "      <td>0</td>\n",
       "      <td>0</td>\n",
       "      <td>...</td>\n",
       "      <td>161.7</td>\n",
       "      <td>92.0</td>\n",
       "      <td>13.74</td>\n",
       "      <td>192.4</td>\n",
       "      <td>112</td>\n",
       "      <td>8.66</td>\n",
       "      <td>10.1</td>\n",
       "      <td>3.0</td>\n",
       "      <td>2.73</td>\n",
       "      <td>3.0</td>\n",
       "    </tr>\n",
       "    <tr>\n",
       "      <th>666</th>\n",
       "      <td>0</td>\n",
       "      <td>0</td>\n",
       "      <td>1</td>\n",
       "      <td>0</td>\n",
       "      <td>0</td>\n",
       "      <td>0</td>\n",
       "      <td>0</td>\n",
       "      <td>0</td>\n",
       "      <td>0</td>\n",
       "      <td>0</td>\n",
       "      <td>...</td>\n",
       "      <td>150.2</td>\n",
       "      <td>106.0</td>\n",
       "      <td>12.77</td>\n",
       "      <td>151.8</td>\n",
       "      <td>96</td>\n",
       "      <td>6.83</td>\n",
       "      <td>9.6</td>\n",
       "      <td>1.0</td>\n",
       "      <td>2.59</td>\n",
       "      <td>2.0</td>\n",
       "    </tr>\n",
       "    <tr>\n",
       "      <th>2962</th>\n",
       "      <td>0</td>\n",
       "      <td>0</td>\n",
       "      <td>0</td>\n",
       "      <td>1</td>\n",
       "      <td>0</td>\n",
       "      <td>0</td>\n",
       "      <td>0</td>\n",
       "      <td>0</td>\n",
       "      <td>0</td>\n",
       "      <td>0</td>\n",
       "      <td>...</td>\n",
       "      <td>175.1</td>\n",
       "      <td>103.0</td>\n",
       "      <td>14.88</td>\n",
       "      <td>184.4</td>\n",
       "      <td>112</td>\n",
       "      <td>8.30</td>\n",
       "      <td>5.4</td>\n",
       "      <td>5.0</td>\n",
       "      <td>1.46</td>\n",
       "      <td>1.0</td>\n",
       "    </tr>\n",
       "    <tr>\n",
       "      <th>2773</th>\n",
       "      <td>0</td>\n",
       "      <td>0</td>\n",
       "      <td>0</td>\n",
       "      <td>0</td>\n",
       "      <td>1</td>\n",
       "      <td>0</td>\n",
       "      <td>0</td>\n",
       "      <td>0</td>\n",
       "      <td>0</td>\n",
       "      <td>0</td>\n",
       "      <td>...</td>\n",
       "      <td>225.5</td>\n",
       "      <td>133.0</td>\n",
       "      <td>19.17</td>\n",
       "      <td>186.3</td>\n",
       "      <td>76</td>\n",
       "      <td>8.38</td>\n",
       "      <td>6.1</td>\n",
       "      <td>5.0</td>\n",
       "      <td>1.65</td>\n",
       "      <td>2.0</td>\n",
       "    </tr>\n",
       "  </tbody>\n",
       "</table>\n",
       "<p>5 rows × 73 columns</p>\n",
       "</div>"
      ],
      "text/plain": [
       "      state_1  state_2  state_3  state_4  state_5  state_6  state_7  state_8  \\\n",
       "1460        1        0        0        0        0        0        0        0   \n",
       "2000        0        1        0        0        0        0        0        0   \n",
       "666         0        0        1        0        0        0        0        0   \n",
       "2962        0        0        0        1        0        0        0        0   \n",
       "2773        0        0        0        0        1        0        0        0   \n",
       "\n",
       "      state_9  state_10  ...  total eve minutes  total eve calls  \\\n",
       "1460        0         0  ...              156.7             87.0   \n",
       "2000        0         0  ...              161.7             92.0   \n",
       "666         0         0  ...              150.2            106.0   \n",
       "2962        0         0  ...              175.1            103.0   \n",
       "2773        0         0  ...              225.5            133.0   \n",
       "\n",
       "      total eve charge  total night minutes  total night calls  \\\n",
       "1460             13.32                182.1                 76   \n",
       "2000             13.74                192.4                112   \n",
       "666              12.77                151.8                 96   \n",
       "2962             14.88                184.4                112   \n",
       "2773             19.17                186.3                 76   \n",
       "\n",
       "      total night charge  total intl minutes  total intl calls  \\\n",
       "1460                8.19                 9.3               3.0   \n",
       "2000                8.66                10.1               3.0   \n",
       "666                 6.83                 9.6               1.0   \n",
       "2962                8.30                 5.4               5.0   \n",
       "2773                8.38                 6.1               5.0   \n",
       "\n",
       "      total intl charge  customer service calls  \n",
       "1460               2.51                     3.0  \n",
       "2000               2.73                     3.0  \n",
       "666                2.59                     2.0  \n",
       "2962               1.46                     1.0  \n",
       "2773               1.65                     2.0  \n",
       "\n",
       "[5 rows x 73 columns]"
      ]
     },
     "execution_count": 153,
     "metadata": {},
     "output_type": "execute_result"
    }
   ],
   "source": [
    "X_train.head()"
   ]
  },
  {
   "cell_type": "code",
   "execution_count": 154,
   "metadata": {},
   "outputs": [
    {
     "data": {
      "text/html": [
       "<div>\n",
       "<style scoped>\n",
       "    .dataframe tbody tr th:only-of-type {\n",
       "        vertical-align: middle;\n",
       "    }\n",
       "\n",
       "    .dataframe tbody tr th {\n",
       "        vertical-align: top;\n",
       "    }\n",
       "\n",
       "    .dataframe thead th {\n",
       "        text-align: right;\n",
       "    }\n",
       "</style>\n",
       "<table border=\"1\" class=\"dataframe\">\n",
       "  <thead>\n",
       "    <tr style=\"text-align: right;\">\n",
       "      <th></th>\n",
       "      <th>state_1</th>\n",
       "      <th>state_2</th>\n",
       "      <th>state_3</th>\n",
       "      <th>state_4</th>\n",
       "      <th>state_5</th>\n",
       "      <th>state_6</th>\n",
       "      <th>state_7</th>\n",
       "      <th>state_8</th>\n",
       "      <th>state_9</th>\n",
       "      <th>state_10</th>\n",
       "      <th>...</th>\n",
       "      <th>total eve minutes</th>\n",
       "      <th>total eve calls</th>\n",
       "      <th>total eve charge</th>\n",
       "      <th>total night minutes</th>\n",
       "      <th>total night calls</th>\n",
       "      <th>total night charge</th>\n",
       "      <th>total intl minutes</th>\n",
       "      <th>total intl calls</th>\n",
       "      <th>total intl charge</th>\n",
       "      <th>customer service calls</th>\n",
       "    </tr>\n",
       "  </thead>\n",
       "  <tbody>\n",
       "    <tr>\n",
       "      <th>405</th>\n",
       "      <td>0</td>\n",
       "      <td>0</td>\n",
       "      <td>0</td>\n",
       "      <td>0</td>\n",
       "      <td>0</td>\n",
       "      <td>0</td>\n",
       "      <td>0</td>\n",
       "      <td>0</td>\n",
       "      <td>0</td>\n",
       "      <td>0</td>\n",
       "      <td>...</td>\n",
       "      <td>160.9</td>\n",
       "      <td>115.0</td>\n",
       "      <td>13.68</td>\n",
       "      <td>198.6</td>\n",
       "      <td>73</td>\n",
       "      <td>8.94</td>\n",
       "      <td>9.3</td>\n",
       "      <td>5.0</td>\n",
       "      <td>2.51</td>\n",
       "      <td>0.0</td>\n",
       "    </tr>\n",
       "    <tr>\n",
       "      <th>118</th>\n",
       "      <td>0</td>\n",
       "      <td>0</td>\n",
       "      <td>0</td>\n",
       "      <td>0</td>\n",
       "      <td>0</td>\n",
       "      <td>0</td>\n",
       "      <td>0</td>\n",
       "      <td>0</td>\n",
       "      <td>0</td>\n",
       "      <td>0</td>\n",
       "      <td>...</td>\n",
       "      <td>157.5</td>\n",
       "      <td>82.0</td>\n",
       "      <td>13.39</td>\n",
       "      <td>177.6</td>\n",
       "      <td>118</td>\n",
       "      <td>7.99</td>\n",
       "      <td>10.0</td>\n",
       "      <td>3.0</td>\n",
       "      <td>2.70</td>\n",
       "      <td>2.0</td>\n",
       "    </tr>\n",
       "    <tr>\n",
       "      <th>710</th>\n",
       "      <td>0</td>\n",
       "      <td>0</td>\n",
       "      <td>0</td>\n",
       "      <td>0</td>\n",
       "      <td>0</td>\n",
       "      <td>0</td>\n",
       "      <td>0</td>\n",
       "      <td>0</td>\n",
       "      <td>0</td>\n",
       "      <td>0</td>\n",
       "      <td>...</td>\n",
       "      <td>216.7</td>\n",
       "      <td>108.0</td>\n",
       "      <td>18.42</td>\n",
       "      <td>259.9</td>\n",
       "      <td>119</td>\n",
       "      <td>11.70</td>\n",
       "      <td>12.5</td>\n",
       "      <td>4.0</td>\n",
       "      <td>3.38</td>\n",
       "      <td>3.0</td>\n",
       "    </tr>\n",
       "    <tr>\n",
       "      <th>499</th>\n",
       "      <td>0</td>\n",
       "      <td>0</td>\n",
       "      <td>0</td>\n",
       "      <td>0</td>\n",
       "      <td>0</td>\n",
       "      <td>0</td>\n",
       "      <td>1</td>\n",
       "      <td>0</td>\n",
       "      <td>0</td>\n",
       "      <td>0</td>\n",
       "      <td>...</td>\n",
       "      <td>244.4</td>\n",
       "      <td>109.0</td>\n",
       "      <td>20.77</td>\n",
       "      <td>75.8</td>\n",
       "      <td>95</td>\n",
       "      <td>3.41</td>\n",
       "      <td>7.5</td>\n",
       "      <td>2.0</td>\n",
       "      <td>2.03</td>\n",
       "      <td>1.0</td>\n",
       "    </tr>\n",
       "    <tr>\n",
       "      <th>2594</th>\n",
       "      <td>0</td>\n",
       "      <td>0</td>\n",
       "      <td>0</td>\n",
       "      <td>0</td>\n",
       "      <td>0</td>\n",
       "      <td>0</td>\n",
       "      <td>0</td>\n",
       "      <td>0</td>\n",
       "      <td>0</td>\n",
       "      <td>0</td>\n",
       "      <td>...</td>\n",
       "      <td>203.4</td>\n",
       "      <td>106.0</td>\n",
       "      <td>17.29</td>\n",
       "      <td>217.5</td>\n",
       "      <td>107</td>\n",
       "      <td>9.79</td>\n",
       "      <td>11.8</td>\n",
       "      <td>8.0</td>\n",
       "      <td>3.19</td>\n",
       "      <td>1.0</td>\n",
       "    </tr>\n",
       "  </tbody>\n",
       "</table>\n",
       "<p>5 rows × 73 columns</p>\n",
       "</div>"
      ],
      "text/plain": [
       "      state_1  state_2  state_3  state_4  state_5  state_6  state_7  state_8  \\\n",
       "405         0        0        0        0        0        0        0        0   \n",
       "118         0        0        0        0        0        0        0        0   \n",
       "710         0        0        0        0        0        0        0        0   \n",
       "499         0        0        0        0        0        0        1        0   \n",
       "2594        0        0        0        0        0        0        0        0   \n",
       "\n",
       "      state_9  state_10  ...  total eve minutes  total eve calls  \\\n",
       "405         0         0  ...              160.9            115.0   \n",
       "118         0         0  ...              157.5             82.0   \n",
       "710         0         0  ...              216.7            108.0   \n",
       "499         0         0  ...              244.4            109.0   \n",
       "2594        0         0  ...              203.4            106.0   \n",
       "\n",
       "      total eve charge  total night minutes  total night calls  \\\n",
       "405              13.68                198.6                 73   \n",
       "118              13.39                177.6                118   \n",
       "710              18.42                259.9                119   \n",
       "499              20.77                 75.8                 95   \n",
       "2594             17.29                217.5                107   \n",
       "\n",
       "      total night charge  total intl minutes  total intl calls  \\\n",
       "405                 8.94                 9.3               5.0   \n",
       "118                 7.99                10.0               3.0   \n",
       "710                11.70                12.5               4.0   \n",
       "499                 3.41                 7.5               2.0   \n",
       "2594                9.79                11.8               8.0   \n",
       "\n",
       "      total intl charge  customer service calls  \n",
       "405                2.51                     0.0  \n",
       "118                2.70                     2.0  \n",
       "710                3.38                     3.0  \n",
       "499                2.03                     1.0  \n",
       "2594               3.19                     1.0  \n",
       "\n",
       "[5 rows x 73 columns]"
      ]
     },
     "execution_count": 154,
     "metadata": {},
     "output_type": "execute_result"
    }
   ],
   "source": [
    "X_test.head(5)"
   ]
  },
  {
   "cell_type": "markdown",
   "metadata": {},
   "source": [
    "Training and testing datsets ready for model building. "
   ]
  },
  {
   "cell_type": "markdown",
   "metadata": {},
   "source": [
    "# **Feature Scaling**\n",
    "\n",
    "Process of mapping all the feature variables onto the same scale"
   ]
  },
  {
   "cell_type": "code",
   "execution_count": 155,
   "metadata": {},
   "outputs": [
    {
     "data": {
      "text/html": [
       "<div>\n",
       "<style scoped>\n",
       "    .dataframe tbody tr th:only-of-type {\n",
       "        vertical-align: middle;\n",
       "    }\n",
       "\n",
       "    .dataframe tbody tr th {\n",
       "        vertical-align: top;\n",
       "    }\n",
       "\n",
       "    .dataframe thead th {\n",
       "        text-align: right;\n",
       "    }\n",
       "</style>\n",
       "<table border=\"1\" class=\"dataframe\">\n",
       "  <thead>\n",
       "    <tr style=\"text-align: right;\">\n",
       "      <th></th>\n",
       "      <th>state_1</th>\n",
       "      <th>state_2</th>\n",
       "      <th>state_3</th>\n",
       "      <th>state_4</th>\n",
       "      <th>state_5</th>\n",
       "      <th>state_6</th>\n",
       "      <th>state_7</th>\n",
       "      <th>state_8</th>\n",
       "      <th>state_9</th>\n",
       "      <th>state_10</th>\n",
       "      <th>...</th>\n",
       "      <th>total eve minutes</th>\n",
       "      <th>total eve calls</th>\n",
       "      <th>total eve charge</th>\n",
       "      <th>total night minutes</th>\n",
       "      <th>total night calls</th>\n",
       "      <th>total night charge</th>\n",
       "      <th>total intl minutes</th>\n",
       "      <th>total intl calls</th>\n",
       "      <th>total intl charge</th>\n",
       "      <th>customer service calls</th>\n",
       "    </tr>\n",
       "  </thead>\n",
       "  <tbody>\n",
       "    <tr>\n",
       "      <th>count</th>\n",
       "      <td>2666.000000</td>\n",
       "      <td>2666.000000</td>\n",
       "      <td>2666.000000</td>\n",
       "      <td>2666.000000</td>\n",
       "      <td>2666.000000</td>\n",
       "      <td>2666.000000</td>\n",
       "      <td>2666.000000</td>\n",
       "      <td>2666.000000</td>\n",
       "      <td>2666.000000</td>\n",
       "      <td>2666.000000</td>\n",
       "      <td>...</td>\n",
       "      <td>2666.000000</td>\n",
       "      <td>2666.000000</td>\n",
       "      <td>2666.000000</td>\n",
       "      <td>2666.000000</td>\n",
       "      <td>2666.000000</td>\n",
       "      <td>2666.000000</td>\n",
       "      <td>2666.000000</td>\n",
       "      <td>2666.000000</td>\n",
       "      <td>2666.000000</td>\n",
       "      <td>2666.000000</td>\n",
       "    </tr>\n",
       "    <tr>\n",
       "      <th>mean</th>\n",
       "      <td>0.022506</td>\n",
       "      <td>0.013878</td>\n",
       "      <td>0.023256</td>\n",
       "      <td>0.018005</td>\n",
       "      <td>0.019130</td>\n",
       "      <td>0.020255</td>\n",
       "      <td>0.030758</td>\n",
       "      <td>0.016879</td>\n",
       "      <td>0.018755</td>\n",
       "      <td>0.020630</td>\n",
       "      <td>...</td>\n",
       "      <td>201.614797</td>\n",
       "      <td>100.111215</td>\n",
       "      <td>17.137457</td>\n",
       "      <td>201.165060</td>\n",
       "      <td>100.052888</td>\n",
       "      <td>9.052532</td>\n",
       "      <td>10.258177</td>\n",
       "      <td>4.426482</td>\n",
       "      <td>2.770251</td>\n",
       "      <td>1.467367</td>\n",
       "    </tr>\n",
       "    <tr>\n",
       "      <th>std</th>\n",
       "      <td>0.148349</td>\n",
       "      <td>0.117009</td>\n",
       "      <td>0.150743</td>\n",
       "      <td>0.132992</td>\n",
       "      <td>0.137007</td>\n",
       "      <td>0.140898</td>\n",
       "      <td>0.172693</td>\n",
       "      <td>0.128843</td>\n",
       "      <td>0.135683</td>\n",
       "      <td>0.142169</td>\n",
       "      <td>...</td>\n",
       "      <td>50.688876</td>\n",
       "      <td>19.828389</td>\n",
       "      <td>4.308606</td>\n",
       "      <td>50.118223</td>\n",
       "      <td>19.681169</td>\n",
       "      <td>2.255313</td>\n",
       "      <td>2.739771</td>\n",
       "      <td>2.263388</td>\n",
       "      <td>0.739710</td>\n",
       "      <td>1.107312</td>\n",
       "    </tr>\n",
       "    <tr>\n",
       "      <th>min</th>\n",
       "      <td>0.000000</td>\n",
       "      <td>0.000000</td>\n",
       "      <td>0.000000</td>\n",
       "      <td>0.000000</td>\n",
       "      <td>0.000000</td>\n",
       "      <td>0.000000</td>\n",
       "      <td>0.000000</td>\n",
       "      <td>0.000000</td>\n",
       "      <td>0.000000</td>\n",
       "      <td>0.000000</td>\n",
       "      <td>...</td>\n",
       "      <td>63.550000</td>\n",
       "      <td>46.500000</td>\n",
       "      <td>5.400000</td>\n",
       "      <td>64.550000</td>\n",
       "      <td>48.000000</td>\n",
       "      <td>2.910000</td>\n",
       "      <td>3.100000</td>\n",
       "      <td>0.000000</td>\n",
       "      <td>0.840000</td>\n",
       "      <td>0.000000</td>\n",
       "    </tr>\n",
       "    <tr>\n",
       "      <th>25%</th>\n",
       "      <td>0.000000</td>\n",
       "      <td>0.000000</td>\n",
       "      <td>0.000000</td>\n",
       "      <td>0.000000</td>\n",
       "      <td>0.000000</td>\n",
       "      <td>0.000000</td>\n",
       "      <td>0.000000</td>\n",
       "      <td>0.000000</td>\n",
       "      <td>0.000000</td>\n",
       "      <td>0.000000</td>\n",
       "      <td>...</td>\n",
       "      <td>166.925000</td>\n",
       "      <td>87.000000</td>\n",
       "      <td>14.192500</td>\n",
       "      <td>167.100000</td>\n",
       "      <td>86.000000</td>\n",
       "      <td>7.520000</td>\n",
       "      <td>8.500000</td>\n",
       "      <td>3.000000</td>\n",
       "      <td>2.300000</td>\n",
       "      <td>1.000000</td>\n",
       "    </tr>\n",
       "    <tr>\n",
       "      <th>50%</th>\n",
       "      <td>0.000000</td>\n",
       "      <td>0.000000</td>\n",
       "      <td>0.000000</td>\n",
       "      <td>0.000000</td>\n",
       "      <td>0.000000</td>\n",
       "      <td>0.000000</td>\n",
       "      <td>0.000000</td>\n",
       "      <td>0.000000</td>\n",
       "      <td>0.000000</td>\n",
       "      <td>0.000000</td>\n",
       "      <td>...</td>\n",
       "      <td>202.450000</td>\n",
       "      <td>100.000000</td>\n",
       "      <td>17.205000</td>\n",
       "      <td>201.200000</td>\n",
       "      <td>100.000000</td>\n",
       "      <td>9.055000</td>\n",
       "      <td>10.300000</td>\n",
       "      <td>4.000000</td>\n",
       "      <td>2.780000</td>\n",
       "      <td>1.000000</td>\n",
       "    </tr>\n",
       "    <tr>\n",
       "      <th>75%</th>\n",
       "      <td>0.000000</td>\n",
       "      <td>0.000000</td>\n",
       "      <td>0.000000</td>\n",
       "      <td>0.000000</td>\n",
       "      <td>0.000000</td>\n",
       "      <td>0.000000</td>\n",
       "      <td>0.000000</td>\n",
       "      <td>0.000000</td>\n",
       "      <td>0.000000</td>\n",
       "      <td>0.000000</td>\n",
       "      <td>...</td>\n",
       "      <td>236.200000</td>\n",
       "      <td>114.000000</td>\n",
       "      <td>20.080000</td>\n",
       "      <td>235.675000</td>\n",
       "      <td>114.000000</td>\n",
       "      <td>10.607500</td>\n",
       "      <td>12.100000</td>\n",
       "      <td>6.000000</td>\n",
       "      <td>3.270000</td>\n",
       "      <td>2.000000</td>\n",
       "    </tr>\n",
       "    <tr>\n",
       "      <th>max</th>\n",
       "      <td>1.000000</td>\n",
       "      <td>1.000000</td>\n",
       "      <td>1.000000</td>\n",
       "      <td>1.000000</td>\n",
       "      <td>1.000000</td>\n",
       "      <td>1.000000</td>\n",
       "      <td>1.000000</td>\n",
       "      <td>1.000000</td>\n",
       "      <td>1.000000</td>\n",
       "      <td>1.000000</td>\n",
       "      <td>...</td>\n",
       "      <td>338.350000</td>\n",
       "      <td>154.500000</td>\n",
       "      <td>28.760000</td>\n",
       "      <td>337.750000</td>\n",
       "      <td>152.000000</td>\n",
       "      <td>15.200000</td>\n",
       "      <td>17.500000</td>\n",
       "      <td>10.500000</td>\n",
       "      <td>4.730000</td>\n",
       "      <td>3.500000</td>\n",
       "    </tr>\n",
       "  </tbody>\n",
       "</table>\n",
       "<p>8 rows × 73 columns</p>\n",
       "</div>"
      ],
      "text/plain": [
       "           state_1      state_2      state_3      state_4      state_5  \\\n",
       "count  2666.000000  2666.000000  2666.000000  2666.000000  2666.000000   \n",
       "mean      0.022506     0.013878     0.023256     0.018005     0.019130   \n",
       "std       0.148349     0.117009     0.150743     0.132992     0.137007   \n",
       "min       0.000000     0.000000     0.000000     0.000000     0.000000   \n",
       "25%       0.000000     0.000000     0.000000     0.000000     0.000000   \n",
       "50%       0.000000     0.000000     0.000000     0.000000     0.000000   \n",
       "75%       0.000000     0.000000     0.000000     0.000000     0.000000   \n",
       "max       1.000000     1.000000     1.000000     1.000000     1.000000   \n",
       "\n",
       "           state_6      state_7      state_8      state_9     state_10  ...  \\\n",
       "count  2666.000000  2666.000000  2666.000000  2666.000000  2666.000000  ...   \n",
       "mean      0.020255     0.030758     0.016879     0.018755     0.020630  ...   \n",
       "std       0.140898     0.172693     0.128843     0.135683     0.142169  ...   \n",
       "min       0.000000     0.000000     0.000000     0.000000     0.000000  ...   \n",
       "25%       0.000000     0.000000     0.000000     0.000000     0.000000  ...   \n",
       "50%       0.000000     0.000000     0.000000     0.000000     0.000000  ...   \n",
       "75%       0.000000     0.000000     0.000000     0.000000     0.000000  ...   \n",
       "max       1.000000     1.000000     1.000000     1.000000     1.000000  ...   \n",
       "\n",
       "       total eve minutes  total eve calls  total eve charge  \\\n",
       "count        2666.000000      2666.000000       2666.000000   \n",
       "mean          201.614797       100.111215         17.137457   \n",
       "std            50.688876        19.828389          4.308606   \n",
       "min            63.550000        46.500000          5.400000   \n",
       "25%           166.925000        87.000000         14.192500   \n",
       "50%           202.450000       100.000000         17.205000   \n",
       "75%           236.200000       114.000000         20.080000   \n",
       "max           338.350000       154.500000         28.760000   \n",
       "\n",
       "       total night minutes  total night calls  total night charge  \\\n",
       "count          2666.000000        2666.000000         2666.000000   \n",
       "mean            201.165060         100.052888            9.052532   \n",
       "std              50.118223          19.681169            2.255313   \n",
       "min              64.550000          48.000000            2.910000   \n",
       "25%             167.100000          86.000000            7.520000   \n",
       "50%             201.200000         100.000000            9.055000   \n",
       "75%             235.675000         114.000000           10.607500   \n",
       "max             337.750000         152.000000           15.200000   \n",
       "\n",
       "       total intl minutes  total intl calls  total intl charge  \\\n",
       "count         2666.000000       2666.000000        2666.000000   \n",
       "mean            10.258177          4.426482           2.770251   \n",
       "std              2.739771          2.263388           0.739710   \n",
       "min              3.100000          0.000000           0.840000   \n",
       "25%              8.500000          3.000000           2.300000   \n",
       "50%             10.300000          4.000000           2.780000   \n",
       "75%             12.100000          6.000000           3.270000   \n",
       "max             17.500000         10.500000           4.730000   \n",
       "\n",
       "       customer service calls  \n",
       "count             2666.000000  \n",
       "mean                 1.467367  \n",
       "std                  1.107312  \n",
       "min                  0.000000  \n",
       "25%                  1.000000  \n",
       "50%                  1.000000  \n",
       "75%                  2.000000  \n",
       "max                  3.500000  \n",
       "\n",
       "[8 rows x 73 columns]"
      ]
     },
     "execution_count": 155,
     "metadata": {},
     "output_type": "execute_result"
    }
   ],
   "source": [
    "X_train.describe()"
   ]
  },
  {
   "cell_type": "code",
   "execution_count": 156,
   "metadata": {},
   "outputs": [
    {
     "data": {
      "text/html": [
       "<style>#sk-container-id-1 {color: black;}#sk-container-id-1 pre{padding: 0;}#sk-container-id-1 div.sk-toggleable {background-color: white;}#sk-container-id-1 label.sk-toggleable__label {cursor: pointer;display: block;width: 100%;margin-bottom: 0;padding: 0.3em;box-sizing: border-box;text-align: center;}#sk-container-id-1 label.sk-toggleable__label-arrow:before {content: \"▸\";float: left;margin-right: 0.25em;color: #696969;}#sk-container-id-1 label.sk-toggleable__label-arrow:hover:before {color: black;}#sk-container-id-1 div.sk-estimator:hover label.sk-toggleable__label-arrow:before {color: black;}#sk-container-id-1 div.sk-toggleable__content {max-height: 0;max-width: 0;overflow: hidden;text-align: left;background-color: #f0f8ff;}#sk-container-id-1 div.sk-toggleable__content pre {margin: 0.2em;color: black;border-radius: 0.25em;background-color: #f0f8ff;}#sk-container-id-1 input.sk-toggleable__control:checked~div.sk-toggleable__content {max-height: 200px;max-width: 100%;overflow: auto;}#sk-container-id-1 input.sk-toggleable__control:checked~label.sk-toggleable__label-arrow:before {content: \"▾\";}#sk-container-id-1 div.sk-estimator input.sk-toggleable__control:checked~label.sk-toggleable__label {background-color: #d4ebff;}#sk-container-id-1 div.sk-label input.sk-toggleable__control:checked~label.sk-toggleable__label {background-color: #d4ebff;}#sk-container-id-1 input.sk-hidden--visually {border: 0;clip: rect(1px 1px 1px 1px);clip: rect(1px, 1px, 1px, 1px);height: 1px;margin: -1px;overflow: hidden;padding: 0;position: absolute;width: 1px;}#sk-container-id-1 div.sk-estimator {font-family: monospace;background-color: #f0f8ff;border: 1px dotted black;border-radius: 0.25em;box-sizing: border-box;margin-bottom: 0.5em;}#sk-container-id-1 div.sk-estimator:hover {background-color: #d4ebff;}#sk-container-id-1 div.sk-parallel-item::after {content: \"\";width: 100%;border-bottom: 1px solid gray;flex-grow: 1;}#sk-container-id-1 div.sk-label:hover label.sk-toggleable__label {background-color: #d4ebff;}#sk-container-id-1 div.sk-serial::before {content: \"\";position: absolute;border-left: 1px solid gray;box-sizing: border-box;top: 0;bottom: 0;left: 50%;z-index: 0;}#sk-container-id-1 div.sk-serial {display: flex;flex-direction: column;align-items: center;background-color: white;padding-right: 0.2em;padding-left: 0.2em;position: relative;}#sk-container-id-1 div.sk-item {position: relative;z-index: 1;}#sk-container-id-1 div.sk-parallel {display: flex;align-items: stretch;justify-content: center;background-color: white;position: relative;}#sk-container-id-1 div.sk-item::before, #sk-container-id-1 div.sk-parallel-item::before {content: \"\";position: absolute;border-left: 1px solid gray;box-sizing: border-box;top: 0;bottom: 0;left: 50%;z-index: -1;}#sk-container-id-1 div.sk-parallel-item {display: flex;flex-direction: column;z-index: 1;position: relative;background-color: white;}#sk-container-id-1 div.sk-parallel-item:first-child::after {align-self: flex-end;width: 50%;}#sk-container-id-1 div.sk-parallel-item:last-child::after {align-self: flex-start;width: 50%;}#sk-container-id-1 div.sk-parallel-item:only-child::after {width: 0;}#sk-container-id-1 div.sk-dashed-wrapped {border: 1px dashed gray;margin: 0 0.4em 0.5em 0.4em;box-sizing: border-box;padding-bottom: 0.4em;background-color: white;}#sk-container-id-1 div.sk-label label {font-family: monospace;font-weight: bold;display: inline-block;line-height: 1.2em;}#sk-container-id-1 div.sk-label-container {text-align: center;}#sk-container-id-1 div.sk-container {/* jupyter's `normalize.less` sets `[hidden] { display: none; }` but bootstrap.min.css set `[hidden] { display: none !important; }` so we also need the `!important` here to be able to override the default hidden behavior on the sphinx rendered scikit-learn.org. See: https://github.com/scikit-learn/scikit-learn/issues/21755 */display: inline-block !important;position: relative;}#sk-container-id-1 div.sk-text-repr-fallback {display: none;}</style><div id=\"sk-container-id-1\" class=\"sk-top-container\"><div class=\"sk-text-repr-fallback\"><pre>MinMaxScaler()</pre><b>In a Jupyter environment, please rerun this cell to show the HTML representation or trust the notebook. <br />On GitHub, the HTML representation is unable to render, please try loading this page with nbviewer.org.</b></div><div class=\"sk-container\" hidden><div class=\"sk-item\"><div class=\"sk-estimator sk-toggleable\"><input class=\"sk-toggleable__control sk-hidden--visually\" id=\"sk-estimator-id-1\" type=\"checkbox\" checked><label for=\"sk-estimator-id-1\" class=\"sk-toggleable__label sk-toggleable__label-arrow\">MinMaxScaler</label><div class=\"sk-toggleable__content\"><pre>MinMaxScaler()</pre></div></div></div></div></div>"
      ],
      "text/plain": [
       "MinMaxScaler()"
      ]
     },
     "execution_count": 156,
     "metadata": {},
     "output_type": "execute_result"
    }
   ],
   "source": [
    "from sklearn.preprocessing import MinMaxScaler\n",
    "\n",
    "# initialize the scaler\n",
    "scaler = MinMaxScaler()\n",
    "\n",
    "# fit the scaler on the training data\n",
    "scaler.fit(X_train)"
   ]
  },
  {
   "cell_type": "code",
   "execution_count": 157,
   "metadata": {},
   "outputs": [],
   "source": [
    "# Transform the training data and convert it back to a Dataframe\n",
    "X_train_scaled = pd.DataFrame(\n",
    "    scaler.transform(X_train),\n",
    "    columns=X_train.columns\n",
    "    )"
   ]
  },
  {
   "cell_type": "code",
   "execution_count": 158,
   "metadata": {},
   "outputs": [],
   "source": [
    "# Transform the testing data \n",
    "X_test_scaled = pd.DataFrame(\n",
    "    scaler.transform(X_test),\n",
    "    columns=X_test.columns\n",
    "    )"
   ]
  },
  {
   "cell_type": "code",
   "execution_count": 159,
   "metadata": {},
   "outputs": [
    {
     "data": {
      "text/html": [
       "<div>\n",
       "<style scoped>\n",
       "    .dataframe tbody tr th:only-of-type {\n",
       "        vertical-align: middle;\n",
       "    }\n",
       "\n",
       "    .dataframe tbody tr th {\n",
       "        vertical-align: top;\n",
       "    }\n",
       "\n",
       "    .dataframe thead th {\n",
       "        text-align: right;\n",
       "    }\n",
       "</style>\n",
       "<table border=\"1\" class=\"dataframe\">\n",
       "  <thead>\n",
       "    <tr style=\"text-align: right;\">\n",
       "      <th></th>\n",
       "      <th>state_1</th>\n",
       "      <th>state_2</th>\n",
       "      <th>state_3</th>\n",
       "      <th>state_4</th>\n",
       "      <th>state_5</th>\n",
       "      <th>state_6</th>\n",
       "      <th>state_7</th>\n",
       "      <th>state_8</th>\n",
       "      <th>state_9</th>\n",
       "      <th>state_10</th>\n",
       "      <th>...</th>\n",
       "      <th>total eve minutes</th>\n",
       "      <th>total eve calls</th>\n",
       "      <th>total eve charge</th>\n",
       "      <th>total night minutes</th>\n",
       "      <th>total night calls</th>\n",
       "      <th>total night charge</th>\n",
       "      <th>total intl minutes</th>\n",
       "      <th>total intl calls</th>\n",
       "      <th>total intl charge</th>\n",
       "      <th>customer service calls</th>\n",
       "    </tr>\n",
       "  </thead>\n",
       "  <tbody>\n",
       "    <tr>\n",
       "      <th>count</th>\n",
       "      <td>2666.000000</td>\n",
       "      <td>2666.000000</td>\n",
       "      <td>2666.000000</td>\n",
       "      <td>2666.000000</td>\n",
       "      <td>2666.000000</td>\n",
       "      <td>2666.000000</td>\n",
       "      <td>2666.000000</td>\n",
       "      <td>2666.000000</td>\n",
       "      <td>2666.000000</td>\n",
       "      <td>2666.000000</td>\n",
       "      <td>...</td>\n",
       "      <td>2666.000000</td>\n",
       "      <td>2666.000000</td>\n",
       "      <td>2666.000000</td>\n",
       "      <td>2666.000000</td>\n",
       "      <td>2666.000000</td>\n",
       "      <td>2666.000000</td>\n",
       "      <td>2666.000000</td>\n",
       "      <td>2666.000000</td>\n",
       "      <td>2666.000000</td>\n",
       "      <td>2666.000000</td>\n",
       "    </tr>\n",
       "    <tr>\n",
       "      <th>mean</th>\n",
       "      <td>0.022506</td>\n",
       "      <td>0.013878</td>\n",
       "      <td>0.023256</td>\n",
       "      <td>0.018005</td>\n",
       "      <td>0.019130</td>\n",
       "      <td>0.020255</td>\n",
       "      <td>0.030758</td>\n",
       "      <td>0.016879</td>\n",
       "      <td>0.018755</td>\n",
       "      <td>0.020630</td>\n",
       "      <td>...</td>\n",
       "      <td>0.502419</td>\n",
       "      <td>0.496400</td>\n",
       "      <td>0.502460</td>\n",
       "      <td>0.500055</td>\n",
       "      <td>0.500509</td>\n",
       "      <td>0.499799</td>\n",
       "      <td>0.497096</td>\n",
       "      <td>0.421570</td>\n",
       "      <td>0.496209</td>\n",
       "      <td>0.419248</td>\n",
       "    </tr>\n",
       "    <tr>\n",
       "      <th>std</th>\n",
       "      <td>0.148349</td>\n",
       "      <td>0.117009</td>\n",
       "      <td>0.150743</td>\n",
       "      <td>0.132992</td>\n",
       "      <td>0.137007</td>\n",
       "      <td>0.140898</td>\n",
       "      <td>0.172693</td>\n",
       "      <td>0.128843</td>\n",
       "      <td>0.135683</td>\n",
       "      <td>0.142169</td>\n",
       "      <td>...</td>\n",
       "      <td>0.184457</td>\n",
       "      <td>0.183596</td>\n",
       "      <td>0.184444</td>\n",
       "      <td>0.183449</td>\n",
       "      <td>0.189242</td>\n",
       "      <td>0.183508</td>\n",
       "      <td>0.190262</td>\n",
       "      <td>0.215561</td>\n",
       "      <td>0.190157</td>\n",
       "      <td>0.316375</td>\n",
       "    </tr>\n",
       "    <tr>\n",
       "      <th>min</th>\n",
       "      <td>0.000000</td>\n",
       "      <td>0.000000</td>\n",
       "      <td>0.000000</td>\n",
       "      <td>0.000000</td>\n",
       "      <td>0.000000</td>\n",
       "      <td>0.000000</td>\n",
       "      <td>0.000000</td>\n",
       "      <td>0.000000</td>\n",
       "      <td>0.000000</td>\n",
       "      <td>0.000000</td>\n",
       "      <td>...</td>\n",
       "      <td>0.000000</td>\n",
       "      <td>0.000000</td>\n",
       "      <td>0.000000</td>\n",
       "      <td>0.000000</td>\n",
       "      <td>0.000000</td>\n",
       "      <td>0.000000</td>\n",
       "      <td>0.000000</td>\n",
       "      <td>0.000000</td>\n",
       "      <td>0.000000</td>\n",
       "      <td>0.000000</td>\n",
       "    </tr>\n",
       "    <tr>\n",
       "      <th>25%</th>\n",
       "      <td>0.000000</td>\n",
       "      <td>0.000000</td>\n",
       "      <td>0.000000</td>\n",
       "      <td>0.000000</td>\n",
       "      <td>0.000000</td>\n",
       "      <td>0.000000</td>\n",
       "      <td>0.000000</td>\n",
       "      <td>0.000000</td>\n",
       "      <td>0.000000</td>\n",
       "      <td>0.000000</td>\n",
       "      <td>...</td>\n",
       "      <td>0.376183</td>\n",
       "      <td>0.375000</td>\n",
       "      <td>0.376391</td>\n",
       "      <td>0.375366</td>\n",
       "      <td>0.365385</td>\n",
       "      <td>0.375102</td>\n",
       "      <td>0.375000</td>\n",
       "      <td>0.285714</td>\n",
       "      <td>0.375321</td>\n",
       "      <td>0.285714</td>\n",
       "    </tr>\n",
       "    <tr>\n",
       "      <th>50%</th>\n",
       "      <td>0.000000</td>\n",
       "      <td>0.000000</td>\n",
       "      <td>0.000000</td>\n",
       "      <td>0.000000</td>\n",
       "      <td>0.000000</td>\n",
       "      <td>0.000000</td>\n",
       "      <td>0.000000</td>\n",
       "      <td>0.000000</td>\n",
       "      <td>0.000000</td>\n",
       "      <td>0.000000</td>\n",
       "      <td>...</td>\n",
       "      <td>0.505459</td>\n",
       "      <td>0.495370</td>\n",
       "      <td>0.505351</td>\n",
       "      <td>0.500183</td>\n",
       "      <td>0.500000</td>\n",
       "      <td>0.500000</td>\n",
       "      <td>0.500000</td>\n",
       "      <td>0.380952</td>\n",
       "      <td>0.498715</td>\n",
       "      <td>0.285714</td>\n",
       "    </tr>\n",
       "    <tr>\n",
       "      <th>75%</th>\n",
       "      <td>0.000000</td>\n",
       "      <td>0.000000</td>\n",
       "      <td>0.000000</td>\n",
       "      <td>0.000000</td>\n",
       "      <td>0.000000</td>\n",
       "      <td>0.000000</td>\n",
       "      <td>0.000000</td>\n",
       "      <td>0.000000</td>\n",
       "      <td>0.000000</td>\n",
       "      <td>0.000000</td>\n",
       "      <td>...</td>\n",
       "      <td>0.628275</td>\n",
       "      <td>0.625000</td>\n",
       "      <td>0.628425</td>\n",
       "      <td>0.626373</td>\n",
       "      <td>0.634615</td>\n",
       "      <td>0.626322</td>\n",
       "      <td>0.625000</td>\n",
       "      <td>0.571429</td>\n",
       "      <td>0.624679</td>\n",
       "      <td>0.571429</td>\n",
       "    </tr>\n",
       "    <tr>\n",
       "      <th>max</th>\n",
       "      <td>1.000000</td>\n",
       "      <td>1.000000</td>\n",
       "      <td>1.000000</td>\n",
       "      <td>1.000000</td>\n",
       "      <td>1.000000</td>\n",
       "      <td>1.000000</td>\n",
       "      <td>1.000000</td>\n",
       "      <td>1.000000</td>\n",
       "      <td>1.000000</td>\n",
       "      <td>1.000000</td>\n",
       "      <td>...</td>\n",
       "      <td>1.000000</td>\n",
       "      <td>1.000000</td>\n",
       "      <td>1.000000</td>\n",
       "      <td>1.000000</td>\n",
       "      <td>1.000000</td>\n",
       "      <td>1.000000</td>\n",
       "      <td>1.000000</td>\n",
       "      <td>1.000000</td>\n",
       "      <td>1.000000</td>\n",
       "      <td>1.000000</td>\n",
       "    </tr>\n",
       "  </tbody>\n",
       "</table>\n",
       "<p>8 rows × 73 columns</p>\n",
       "</div>"
      ],
      "text/plain": [
       "           state_1      state_2      state_3      state_4      state_5  \\\n",
       "count  2666.000000  2666.000000  2666.000000  2666.000000  2666.000000   \n",
       "mean      0.022506     0.013878     0.023256     0.018005     0.019130   \n",
       "std       0.148349     0.117009     0.150743     0.132992     0.137007   \n",
       "min       0.000000     0.000000     0.000000     0.000000     0.000000   \n",
       "25%       0.000000     0.000000     0.000000     0.000000     0.000000   \n",
       "50%       0.000000     0.000000     0.000000     0.000000     0.000000   \n",
       "75%       0.000000     0.000000     0.000000     0.000000     0.000000   \n",
       "max       1.000000     1.000000     1.000000     1.000000     1.000000   \n",
       "\n",
       "           state_6      state_7      state_8      state_9     state_10  ...  \\\n",
       "count  2666.000000  2666.000000  2666.000000  2666.000000  2666.000000  ...   \n",
       "mean      0.020255     0.030758     0.016879     0.018755     0.020630  ...   \n",
       "std       0.140898     0.172693     0.128843     0.135683     0.142169  ...   \n",
       "min       0.000000     0.000000     0.000000     0.000000     0.000000  ...   \n",
       "25%       0.000000     0.000000     0.000000     0.000000     0.000000  ...   \n",
       "50%       0.000000     0.000000     0.000000     0.000000     0.000000  ...   \n",
       "75%       0.000000     0.000000     0.000000     0.000000     0.000000  ...   \n",
       "max       1.000000     1.000000     1.000000     1.000000     1.000000  ...   \n",
       "\n",
       "       total eve minutes  total eve calls  total eve charge  \\\n",
       "count        2666.000000      2666.000000       2666.000000   \n",
       "mean            0.502419         0.496400          0.502460   \n",
       "std             0.184457         0.183596          0.184444   \n",
       "min             0.000000         0.000000          0.000000   \n",
       "25%             0.376183         0.375000          0.376391   \n",
       "50%             0.505459         0.495370          0.505351   \n",
       "75%             0.628275         0.625000          0.628425   \n",
       "max             1.000000         1.000000          1.000000   \n",
       "\n",
       "       total night minutes  total night calls  total night charge  \\\n",
       "count          2666.000000        2666.000000         2666.000000   \n",
       "mean              0.500055           0.500509            0.499799   \n",
       "std               0.183449           0.189242            0.183508   \n",
       "min               0.000000           0.000000            0.000000   \n",
       "25%               0.375366           0.365385            0.375102   \n",
       "50%               0.500183           0.500000            0.500000   \n",
       "75%               0.626373           0.634615            0.626322   \n",
       "max               1.000000           1.000000            1.000000   \n",
       "\n",
       "       total intl minutes  total intl calls  total intl charge  \\\n",
       "count         2666.000000       2666.000000        2666.000000   \n",
       "mean             0.497096          0.421570           0.496209   \n",
       "std              0.190262          0.215561           0.190157   \n",
       "min              0.000000          0.000000           0.000000   \n",
       "25%              0.375000          0.285714           0.375321   \n",
       "50%              0.500000          0.380952           0.498715   \n",
       "75%              0.625000          0.571429           0.624679   \n",
       "max              1.000000          1.000000           1.000000   \n",
       "\n",
       "       customer service calls  \n",
       "count             2666.000000  \n",
       "mean                 0.419248  \n",
       "std                  0.316375  \n",
       "min                  0.000000  \n",
       "25%                  0.285714  \n",
       "50%                  0.285714  \n",
       "75%                  0.571429  \n",
       "max                  1.000000  \n",
       "\n",
       "[8 rows x 73 columns]"
      ]
     },
     "execution_count": 159,
     "metadata": {},
     "output_type": "execute_result"
    }
   ],
   "source": [
    "X_train_scaled.describe()"
   ]
  },
  {
   "cell_type": "markdown",
   "metadata": {},
   "source": [
    "# **Model training** \n",
    "\n",
    "### Train a logistic regression model on the training set\n"
   ]
  },
  {
   "cell_type": "code",
   "execution_count": 160,
   "metadata": {},
   "outputs": [
    {
     "data": {
      "text/html": [
       "<style>#sk-container-id-2 {color: black;}#sk-container-id-2 pre{padding: 0;}#sk-container-id-2 div.sk-toggleable {background-color: white;}#sk-container-id-2 label.sk-toggleable__label {cursor: pointer;display: block;width: 100%;margin-bottom: 0;padding: 0.3em;box-sizing: border-box;text-align: center;}#sk-container-id-2 label.sk-toggleable__label-arrow:before {content: \"▸\";float: left;margin-right: 0.25em;color: #696969;}#sk-container-id-2 label.sk-toggleable__label-arrow:hover:before {color: black;}#sk-container-id-2 div.sk-estimator:hover label.sk-toggleable__label-arrow:before {color: black;}#sk-container-id-2 div.sk-toggleable__content {max-height: 0;max-width: 0;overflow: hidden;text-align: left;background-color: #f0f8ff;}#sk-container-id-2 div.sk-toggleable__content pre {margin: 0.2em;color: black;border-radius: 0.25em;background-color: #f0f8ff;}#sk-container-id-2 input.sk-toggleable__control:checked~div.sk-toggleable__content {max-height: 200px;max-width: 100%;overflow: auto;}#sk-container-id-2 input.sk-toggleable__control:checked~label.sk-toggleable__label-arrow:before {content: \"▾\";}#sk-container-id-2 div.sk-estimator input.sk-toggleable__control:checked~label.sk-toggleable__label {background-color: #d4ebff;}#sk-container-id-2 div.sk-label input.sk-toggleable__control:checked~label.sk-toggleable__label {background-color: #d4ebff;}#sk-container-id-2 input.sk-hidden--visually {border: 0;clip: rect(1px 1px 1px 1px);clip: rect(1px, 1px, 1px, 1px);height: 1px;margin: -1px;overflow: hidden;padding: 0;position: absolute;width: 1px;}#sk-container-id-2 div.sk-estimator {font-family: monospace;background-color: #f0f8ff;border: 1px dotted black;border-radius: 0.25em;box-sizing: border-box;margin-bottom: 0.5em;}#sk-container-id-2 div.sk-estimator:hover {background-color: #d4ebff;}#sk-container-id-2 div.sk-parallel-item::after {content: \"\";width: 100%;border-bottom: 1px solid gray;flex-grow: 1;}#sk-container-id-2 div.sk-label:hover label.sk-toggleable__label {background-color: #d4ebff;}#sk-container-id-2 div.sk-serial::before {content: \"\";position: absolute;border-left: 1px solid gray;box-sizing: border-box;top: 0;bottom: 0;left: 50%;z-index: 0;}#sk-container-id-2 div.sk-serial {display: flex;flex-direction: column;align-items: center;background-color: white;padding-right: 0.2em;padding-left: 0.2em;position: relative;}#sk-container-id-2 div.sk-item {position: relative;z-index: 1;}#sk-container-id-2 div.sk-parallel {display: flex;align-items: stretch;justify-content: center;background-color: white;position: relative;}#sk-container-id-2 div.sk-item::before, #sk-container-id-2 div.sk-parallel-item::before {content: \"\";position: absolute;border-left: 1px solid gray;box-sizing: border-box;top: 0;bottom: 0;left: 50%;z-index: -1;}#sk-container-id-2 div.sk-parallel-item {display: flex;flex-direction: column;z-index: 1;position: relative;background-color: white;}#sk-container-id-2 div.sk-parallel-item:first-child::after {align-self: flex-end;width: 50%;}#sk-container-id-2 div.sk-parallel-item:last-child::after {align-self: flex-start;width: 50%;}#sk-container-id-2 div.sk-parallel-item:only-child::after {width: 0;}#sk-container-id-2 div.sk-dashed-wrapped {border: 1px dashed gray;margin: 0 0.4em 0.5em 0.4em;box-sizing: border-box;padding-bottom: 0.4em;background-color: white;}#sk-container-id-2 div.sk-label label {font-family: monospace;font-weight: bold;display: inline-block;line-height: 1.2em;}#sk-container-id-2 div.sk-label-container {text-align: center;}#sk-container-id-2 div.sk-container {/* jupyter's `normalize.less` sets `[hidden] { display: none; }` but bootstrap.min.css set `[hidden] { display: none !important; }` so we also need the `!important` here to be able to override the default hidden behavior on the sphinx rendered scikit-learn.org. See: https://github.com/scikit-learn/scikit-learn/issues/21755 */display: inline-block !important;position: relative;}#sk-container-id-2 div.sk-text-repr-fallback {display: none;}</style><div id=\"sk-container-id-2\" class=\"sk-top-container\"><div class=\"sk-text-repr-fallback\"><pre>LogisticRegression(random_state=0, solver=&#x27;liblinear&#x27;)</pre><b>In a Jupyter environment, please rerun this cell to show the HTML representation or trust the notebook. <br />On GitHub, the HTML representation is unable to render, please try loading this page with nbviewer.org.</b></div><div class=\"sk-container\" hidden><div class=\"sk-item\"><div class=\"sk-estimator sk-toggleable\"><input class=\"sk-toggleable__control sk-hidden--visually\" id=\"sk-estimator-id-2\" type=\"checkbox\" checked><label for=\"sk-estimator-id-2\" class=\"sk-toggleable__label sk-toggleable__label-arrow\">LogisticRegression</label><div class=\"sk-toggleable__content\"><pre>LogisticRegression(random_state=0, solver=&#x27;liblinear&#x27;)</pre></div></div></div></div></div>"
      ],
      "text/plain": [
       "LogisticRegression(random_state=0, solver='liblinear')"
      ]
     },
     "execution_count": 160,
     "metadata": {},
     "output_type": "execute_result"
    }
   ],
   "source": [
    "# import the necessary library\n",
    "from sklearn.linear_model import LogisticRegression\n",
    "\n",
    "# instantiate the model\n",
    "logreg = LogisticRegression(solver='liblinear', random_state=0)\n",
    "\n",
    "# fit the model\n",
    "logreg.fit(X_train_scaled, y_train)\n"
   ]
  },
  {
   "cell_type": "markdown",
   "metadata": {},
   "source": [
    "# **Predict results** \n"
   ]
  },
  {
   "cell_type": "code",
   "execution_count": 161,
   "metadata": {},
   "outputs": [
    {
     "name": "stdout",
     "output_type": "stream",
     "text": [
      "Predicted labels: ['No' 'No' 'No' 'No' 'Yes' 'Yes' 'No' 'No' 'No' 'No' 'No' 'No' 'No' 'No'\n",
      " 'No' 'No' 'No' 'No' 'No' 'No' 'No' 'No' 'No' 'No' 'No' 'No' 'No' 'No'\n",
      " 'No' 'No' 'No' 'No' 'No' 'No' 'No' 'No' 'Yes' 'No' 'No' 'No' 'No' 'No'\n",
      " 'No' 'No' 'No' 'No' 'No' 'No' 'No' 'No' 'No' 'No' 'No' 'No' 'No' 'No'\n",
      " 'No' 'No' 'No' 'Yes' 'No' 'No' 'No' 'No' 'No' 'No' 'No' 'No' 'No' 'No'\n",
      " 'No' 'No' 'No' 'No' 'No' 'No' 'No' 'No' 'No' 'No' 'No' 'No' 'No' 'No'\n",
      " 'No' 'No' 'No' 'No' 'No' 'No' 'No' 'No' 'No' 'No' 'No' 'No' 'No' 'No'\n",
      " 'No' 'No' 'No' 'No' 'No' 'No' 'No' 'No' 'No' 'No' 'Yes' 'No' 'No' 'No'\n",
      " 'No' 'No' 'No' 'No' 'No' 'No' 'No' 'No' 'No' 'No' 'No' 'No' 'No' 'No'\n",
      " 'No' 'No' 'No' 'No' 'No' 'No' 'No' 'No' 'No' 'No' 'No' 'No' 'No' 'No'\n",
      " 'No' 'No' 'No' 'No' 'No' 'No' 'No' 'Yes' 'No' 'No' 'No' 'No' 'No' 'No'\n",
      " 'No' 'No' 'No' 'No' 'No' 'No' 'No' 'No' 'No' 'No' 'No' 'No' 'Yes' 'No'\n",
      " 'No' 'No' 'No' 'No' 'No' 'No' 'No' 'Yes' 'No' 'No' 'No' 'No' 'Yes' 'No'\n",
      " 'No' 'No' 'No' 'No' 'No' 'No' 'No' 'Yes' 'No' 'No' 'No' 'No' 'No' 'No'\n",
      " 'No' 'No' 'No' 'No' 'No' 'No' 'No' 'No' 'No' 'No' 'No' 'No' 'No' 'No'\n",
      " 'No' 'No' 'No' 'No' 'No' 'No' 'No' 'No' 'No' 'No' 'No' 'No' 'No' 'No'\n",
      " 'No' 'No' 'No' 'No' 'No' 'No' 'No' 'No' 'No' 'No' 'No' 'No' 'No' 'No'\n",
      " 'Yes' 'No' 'No' 'No' 'No' 'No' 'No' 'No' 'No' 'No' 'No' 'No' 'No' 'No'\n",
      " 'No' 'No' 'No' 'No' 'No' 'No' 'No' 'No' 'No' 'No' 'No' 'No' 'No' 'No'\n",
      " 'No' 'No' 'No' 'No' 'No' 'No' 'No' 'No' 'Yes' 'No' 'No' 'No' 'No' 'No'\n",
      " 'No' 'No' 'No' 'No' 'No' 'No' 'No' 'No' 'No' 'No' 'No' 'No' 'No' 'No'\n",
      " 'No' 'No' 'No' 'No' 'No' 'No' 'No' 'No' 'No' 'No' 'No' 'No' 'Yes' 'No'\n",
      " 'Yes' 'No' 'No' 'No' 'No' 'No' 'No' 'Yes' 'No' 'No' 'No' 'No' 'No' 'No'\n",
      " 'No' 'No' 'No' 'No' 'No' 'No' 'No' 'No' 'No' 'No' 'No' 'No' 'No' 'No'\n",
      " 'No' 'No' 'No' 'No' 'No' 'No' 'No' 'No' 'No' 'No' 'No' 'No' 'No' 'No'\n",
      " 'Yes' 'No' 'No' 'Yes' 'No' 'No' 'No' 'No' 'No' 'No' 'No' 'No' 'No' 'No'\n",
      " 'No' 'No' 'No' 'No' 'No' 'No' 'No' 'No' 'No' 'No' 'No' 'No' 'No' 'No'\n",
      " 'No' 'No' 'No' 'No' 'Yes' 'No' 'Yes' 'No' 'Yes' 'No' 'No' 'No' 'No' 'Yes'\n",
      " 'No' 'No' 'Yes' 'No' 'No' 'No' 'No' 'No' 'No' 'No' 'No' 'No' 'No' 'No'\n",
      " 'Yes' 'No' 'No' 'No' 'No' 'No' 'No' 'No' 'No' 'No' 'No' 'No' 'Yes' 'No'\n",
      " 'No' 'No' 'No' 'No' 'No' 'No' 'No' 'No' 'No' 'No' 'No' 'No' 'No' 'No'\n",
      " 'No' 'No' 'No' 'No' 'No' 'No' 'No' 'No' 'No' 'No' 'No' 'No' 'No' 'No'\n",
      " 'No' 'Yes' 'No' 'No' 'No' 'No' 'No' 'No' 'No' 'No' 'Yes' 'No' 'No' 'No'\n",
      " 'No' 'No' 'No' 'No' 'No' 'No' 'No' 'No' 'No' 'No' 'No' 'No' 'No' 'No'\n",
      " 'No' 'Yes' 'No' 'No' 'No' 'No' 'No' 'No' 'No' 'No' 'No' 'No' 'No' 'No'\n",
      " 'No' 'No' 'No' 'No' 'No' 'No' 'No' 'Yes' 'No' 'No' 'No' 'No' 'No' 'No'\n",
      " 'No' 'No' 'No' 'No' 'No' 'No' 'No' 'No' 'No' 'No' 'No' 'No' 'No' 'No'\n",
      " 'No' 'No' 'No' 'No' 'No' 'No' 'No' 'No' 'No' 'No' 'No' 'No' 'No' 'No'\n",
      " 'No' 'No' 'No' 'No' 'No' 'No' 'No' 'No' 'No' 'No' 'No' 'No' 'No' 'No'\n",
      " 'No' 'No' 'No' 'Yes' 'No' 'No' 'Yes' 'No' 'No' 'No' 'No' 'No' 'No' 'No'\n",
      " 'No' 'No' 'No' 'No' 'No' 'No' 'No' 'No' 'No' 'No' 'No' 'No' 'No' 'No'\n",
      " 'No' 'No' 'No' 'No' 'Yes' 'No' 'Yes' 'No' 'No' 'No' 'No' 'No' 'No' 'No'\n",
      " 'No' 'No' 'No' 'No' 'No' 'No' 'No' 'No' 'No' 'No' 'No' 'No' 'No' 'Yes'\n",
      " 'No' 'No' 'No' 'No' 'No' 'No' 'No' 'No' 'No' 'Yes' 'No' 'No' 'No' 'No'\n",
      " 'No' 'No' 'No' 'No' 'No' 'No' 'No' 'No' 'No' 'No' 'Yes' 'No' 'Yes' 'No'\n",
      " 'No' 'No' 'No' 'Yes' 'No' 'No' 'No' 'No' 'No' 'No' 'No' 'No' 'No' 'No'\n",
      " 'No' 'No' 'No' 'No' 'No' 'No' 'No' 'No' 'No' 'No' 'No' 'No' 'No' 'No'\n",
      " 'No' 'No' 'No' 'No' 'No' 'No' 'No' 'No' 'No']\n"
     ]
    }
   ],
   "source": [
    "# Make predictions on the test dataset based on the training dataset\n",
    "y_pred_test = logreg.predict(X_test_scaled)\n",
    "\n",
    "# output the predictions\n",
    "print(\"Predicted labels:\", y_pred_test)\n"
   ]
  },
  {
   "cell_type": "markdown",
   "metadata": {},
   "source": [
    "### predict_proba method\n",
    "\n",
    "**predict_proba** method gives the probabilities for the target variable(1 and 1) as an array form\n",
    "\n",
    "`1 is for probability of the customer leaving the telecom company` and `0 of the customer not leaving the telecom company.`"
   ]
  },
  {
   "cell_type": "code",
   "execution_count": 162,
   "metadata": {},
   "outputs": [
    {
     "data": {
      "text/plain": [
       "array([0.67326116, 0.97921713, 0.78212057, 0.9274381 , 0.22690531,\n",
       "       0.14519623, 0.70565969, 0.93108981, 0.73273298, 0.52451762,\n",
       "       0.96453864, 0.92935764, 0.82536672, 0.99279539, 0.72191029,\n",
       "       0.76773672, 0.83828873, 0.89826517, 0.92641393, 0.95100774,\n",
       "       0.93130765, 0.96311538, 0.94067252, 0.97634186, 0.91928854,\n",
       "       0.92095069, 0.89614639, 0.93486011, 0.72281283, 0.81436135,\n",
       "       0.88088764, 0.97161726, 0.66851659, 0.98417639, 0.96492157,\n",
       "       0.92508283, 0.25955872, 0.95506189, 0.96642908, 0.6517974 ,\n",
       "       0.93512292, 0.83279644, 0.56779687, 0.71392463, 0.97611003,\n",
       "       0.98643398, 0.9336951 , 0.95686399, 0.92423066, 0.95028075,\n",
       "       0.97906349, 0.88551428, 0.78562115, 0.8222774 , 0.98562194,\n",
       "       0.96208979, 0.94983003, 0.96697355, 0.86296706, 0.35083074,\n",
       "       0.91928151, 0.95404833, 0.99148989, 0.93529841, 0.83081596,\n",
       "       0.74088289, 0.87763446, 0.86167831, 0.96660161, 0.94751903,\n",
       "       0.99530356, 0.9860471 , 0.95763099, 0.59217821, 0.69477626,\n",
       "       0.61727427, 0.9090347 , 0.9915237 , 0.59372743, 0.96715349,\n",
       "       0.98790189, 0.50025549, 0.9286941 , 0.94493816, 0.84978577,\n",
       "       0.82984221, 0.60931515, 0.96672847, 0.74174517, 0.97081362,\n",
       "       0.966067  , 0.62394128, 0.90965463, 0.95565422, 0.87971338,\n",
       "       0.64285313, 0.79772628, 0.94753273, 0.96387124, 0.95870634,\n",
       "       0.94278463, 0.95584996, 0.93987193, 0.97515681, 0.51783919,\n",
       "       0.95377334, 0.85851591, 0.81232545, 0.47953531, 0.90211422,\n",
       "       0.84190444, 0.95737394, 0.93418188, 0.93910896, 0.62676768,\n",
       "       0.68406708, 0.94934104, 0.82733803, 0.92205532, 0.8554011 ,\n",
       "       0.81050096, 0.94615002, 0.93057875, 0.94299292, 0.74641248,\n",
       "       0.89800228, 0.94432793, 0.97734045, 0.95683109, 0.76382887,\n",
       "       0.95805997, 0.97717367, 0.91219737, 0.9324648 , 0.93537686,\n",
       "       0.82865807, 0.86591508, 0.8958321 , 0.87749997, 0.89023597,\n",
       "       0.98015089, 0.8989319 , 0.71973903, 0.90111071, 0.96590094,\n",
       "       0.97795053, 0.98755919, 0.44767693, 0.94397679, 0.89617368,\n",
       "       0.96071476, 0.92917369, 0.97968671, 0.90184614, 0.87520835,\n",
       "       0.88389442, 0.9629039 , 0.94763549, 0.86333003, 0.91533229,\n",
       "       0.90501534, 0.92732412, 0.93163028, 0.9490263 , 0.88757032,\n",
       "       0.91109299, 0.2832575 , 0.90567781, 0.84218062, 0.84571943,\n",
       "       0.93579478, 0.84782357, 0.79003211, 0.98192755, 0.96284169,\n",
       "       0.34866432, 0.502032  , 0.79151018, 0.64224295, 0.80029934,\n",
       "       0.37045698, 0.72073285, 0.9607809 , 0.97037687, 0.94969428,\n",
       "       0.82168346, 0.93954399, 0.9489154 , 0.93666886, 0.3497434 ,\n",
       "       0.94058239, 0.98893371, 0.89401752, 0.97996279, 0.93976247,\n",
       "       0.96038641, 0.66776113, 0.9814922 , 0.93435332, 0.85381428,\n",
       "       0.92034951, 0.74624984, 0.89861529, 0.91987207, 0.97912234,\n",
       "       0.91821873, 0.9653565 , 0.86113192, 0.97070981, 0.70458881,\n",
       "       0.91828215, 0.93703858, 0.62366713, 0.98573369, 0.96521918,\n",
       "       0.84076968, 0.95198378, 0.88420971, 0.82495152, 0.95640261,\n",
       "       0.89931081, 0.75365538, 0.9079178 , 0.97638322, 0.87492673,\n",
       "       0.95394972, 0.9598816 , 0.76678045, 0.83386953, 0.95428242,\n",
       "       0.93259794, 0.98033136, 0.87623912, 0.94455045, 0.93819195,\n",
       "       0.6473639 , 0.67709336, 0.99098646, 0.26986098, 0.90204487,\n",
       "       0.9622908 , 0.96484248, 0.97818195, 0.96048651, 0.79721817,\n",
       "       0.88511793, 0.60947447, 0.95964162, 0.80212002, 0.53302383,\n",
       "       0.97713016, 0.92219387, 0.79826762, 0.89148799, 0.98099777,\n",
       "       0.97143586, 0.52144502, 0.67857826, 0.88498886, 0.90227286,\n",
       "       0.92838489, 0.94288013, 0.86962822, 0.88828553, 0.97693534,\n",
       "       0.94119622, 0.98333695, 0.88858311, 0.81392304, 0.92023344,\n",
       "       0.96750336, 0.97558672, 0.74009856, 0.83083461, 0.35483215,\n",
       "       0.98142492, 0.94813281, 0.94803405, 0.97360187, 0.98735789,\n",
       "       0.98759392, 0.75931799, 0.772295  , 0.88804523, 0.99825395,\n",
       "       0.89662744, 0.57248985, 0.94051333, 0.79586548, 0.90669177,\n",
       "       0.92224129, 0.84788185, 0.92794652, 0.86969763, 0.72689745,\n",
       "       0.57698117, 0.81304752, 0.94731927, 0.97422899, 0.94435673,\n",
       "       0.69342971, 0.51906832, 0.98599873, 0.91409483, 0.95316358,\n",
       "       0.85864983, 0.37262605, 0.76293416, 0.36279157, 0.74420842,\n",
       "       0.95646285, 0.9634088 , 0.92708928, 0.73455251, 0.95329302,\n",
       "       0.40879223, 0.77988304, 0.99312265, 0.96103241, 0.99550646,\n",
       "       0.89365276, 0.90882911, 0.91874974, 0.93962706, 0.75459806,\n",
       "       0.83629558, 0.91531159, 0.97167628, 0.64078363, 0.73994202,\n",
       "       0.94227789, 0.97192061, 0.60417605, 0.90028823, 0.90325998,\n",
       "       0.98810241, 0.88000889, 0.98972571, 0.96315777, 0.82848767,\n",
       "       0.92682394, 0.8977861 , 0.87366189, 0.5983596 , 0.85087293,\n",
       "       0.94026671, 0.78431906, 0.99059028, 0.9419538 , 0.91274761,\n",
       "       0.4279489 , 0.94319825, 0.68548697, 0.30390424, 0.70075239,\n",
       "       0.9435459 , 0.98155229, 0.62803205, 0.86427559, 0.93647796,\n",
       "       0.94540734, 0.79573129, 0.93262735, 0.80662117, 0.85759917,\n",
       "       0.91229707, 0.78399968, 0.82298549, 0.94019201, 0.60925741,\n",
       "       0.82483434, 0.91376938, 0.73071263, 0.88540091, 0.96255294,\n",
       "       0.93759928, 0.92619529, 0.88330233, 0.97152859, 0.84359205,\n",
       "       0.86935095, 0.61097618, 0.40786029, 0.95369943, 0.34698912,\n",
       "       0.9557268 , 0.48120169, 0.95765663, 0.87125423, 0.97092518,\n",
       "       0.74442999, 0.44450058, 0.84225119, 0.93765833, 0.4709558 ,\n",
       "       0.7962392 , 0.85027061, 0.77542942, 0.96907664, 0.97894068,\n",
       "       0.67072744, 0.73001711, 0.99286099, 0.98426762, 0.86815941,\n",
       "       0.89173559, 0.30659082, 0.82831389, 0.89664449, 0.94652742,\n",
       "       0.79663344, 0.98048227, 0.99385186, 0.62233862, 0.77172178,\n",
       "       0.92224289, 0.95329007, 0.89382178, 0.37976223, 0.87475388,\n",
       "       0.97858839, 0.74848162, 0.95253777, 0.80057419, 0.91903749,\n",
       "       0.99563789, 0.97131582, 0.96589745, 0.9462257 , 0.88508265,\n",
       "       0.97789482, 0.93992019, 0.98598682, 0.98134653, 0.8547825 ,\n",
       "       0.62688392, 0.92116837, 0.99129027, 0.55456199, 0.93587384,\n",
       "       0.98262579, 0.78553071, 0.80373413, 0.87992549, 0.62150343,\n",
       "       0.96155533, 0.57397315, 0.96932174, 0.97323755, 0.21732908,\n",
       "       0.86721914, 0.96547668, 0.97743822, 0.78393938, 0.73636374,\n",
       "       0.51895454, 0.98922913, 0.89554112, 0.41578951, 0.93695578,\n",
       "       0.96288457, 0.96400209, 0.81709152, 0.58184286, 0.96732324,\n",
       "       0.87359507, 0.93424907, 0.59757007, 0.95403022, 0.87956714,\n",
       "       0.92898381, 0.95337834, 0.97974117, 0.86895799, 0.91917247,\n",
       "       0.94844806, 0.91646262, 0.40568774, 0.92242621, 0.96579619,\n",
       "       0.88698085, 0.97315521, 0.82642836, 0.9804503 , 0.97348184,\n",
       "       0.76433395, 0.95142994, 0.98566795, 0.73905942, 0.98476987,\n",
       "       0.74352664, 0.64628108, 0.73262336, 0.89678128, 0.98748901,\n",
       "       0.96194734, 0.952327  , 0.4333775 , 0.65770653, 0.82910962,\n",
       "       0.87926915, 0.86966153, 0.52577009, 0.84727221, 0.96277195,\n",
       "       0.88300983, 0.78376705, 0.83566623, 0.80085418, 0.9744158 ,\n",
       "       0.9460235 , 0.96583226, 0.88435159, 0.92697329, 0.89639382,\n",
       "       0.94390465, 0.92907148, 0.97895702, 0.77042712, 0.88482973,\n",
       "       0.92761471, 0.97832431, 0.8895854 , 0.83590604, 0.83373214,\n",
       "       0.81760485, 0.9794474 , 0.97947185, 0.58637295, 0.92324612,\n",
       "       0.92108004, 0.97672378, 0.95347923, 0.98472192, 0.9312338 ,\n",
       "       0.97183053, 0.97391867, 0.94973301, 0.90698065, 0.79857865,\n",
       "       0.95811367, 0.72607282, 0.85360801, 0.98176493, 0.95303801,\n",
       "       0.98110689, 0.94291985, 0.6604148 , 0.9600107 , 0.42946782,\n",
       "       0.87795881, 0.99243595, 0.47143223, 0.78797831, 0.97440666,\n",
       "       0.97857383, 0.93593994, 0.64664008, 0.9086562 , 0.85555017,\n",
       "       0.82860627, 0.89079085, 0.97502883, 0.95565021, 0.9730198 ,\n",
       "       0.93082299, 0.96234434, 0.87194077, 0.98600176, 0.63521259,\n",
       "       0.91851427, 0.68274644, 0.7259949 , 0.94094534, 0.71932418,\n",
       "       0.8307596 , 0.84595294, 0.95527206, 0.48183777, 0.97036725,\n",
       "       0.31413711, 0.92628487, 0.90500806, 0.87136549, 0.90135237,\n",
       "       0.7252004 , 0.87123102, 0.74998799, 0.54780935, 0.97435993,\n",
       "       0.91919639, 0.85034813, 0.87102096, 0.97200249, 0.90503335,\n",
       "       0.95595628, 0.76990749, 0.94581488, 0.95636922, 0.5270202 ,\n",
       "       0.86615782, 0.41795245, 0.97475212, 0.5469151 , 0.94892962,\n",
       "       0.95003874, 0.5078226 , 0.65836232, 0.69517901, 0.76266883,\n",
       "       0.96629677, 0.18342054, 0.76930004, 0.97959548, 0.63702718,\n",
       "       0.90896822, 0.96107226, 0.96451422, 0.79944416, 0.94350673,\n",
       "       0.83301263, 0.76159456, 0.86955018, 0.92228334, 0.97930048,\n",
       "       0.90921045, 0.25998496, 0.98834504, 0.38892143, 0.90266095,\n",
       "       0.96926566, 0.93108467, 0.96977132, 0.44020511, 0.96184485,\n",
       "       0.76288958, 0.8741802 , 0.95105901, 0.81561883, 0.89941697,\n",
       "       0.89778826, 0.96827502, 0.84598449, 0.85762594, 0.91832209,\n",
       "       0.76640681, 0.952108  , 0.784101  , 0.78083745, 0.96563866,\n",
       "       0.943294  , 0.9583846 , 0.91663805, 0.78300207, 0.98029335,\n",
       "       0.68786482, 0.80826176, 0.79349578, 0.98993709, 0.95506825,\n",
       "       0.93762303, 0.95354064, 0.95741931, 0.83974325, 0.83649707,\n",
       "       0.56043052, 0.80228262])"
      ]
     },
     "execution_count": 162,
     "metadata": {},
     "output_type": "execute_result"
    }
   ],
   "source": [
    "# probability of getting output as 0 - Customer not leaving the telecom company\n",
    "\n",
    "logreg.predict_proba(X_test_scaled)[:,0]"
   ]
  },
  {
   "cell_type": "code",
   "execution_count": 163,
   "metadata": {},
   "outputs": [
    {
     "data": {
      "text/plain": [
       "array([0.32673884, 0.02078287, 0.21787943, 0.0725619 , 0.77309469,\n",
       "       0.85480377, 0.29434031, 0.06891019, 0.26726702, 0.47548238,\n",
       "       0.03546136, 0.07064236, 0.17463328, 0.00720461, 0.27808971,\n",
       "       0.23226328, 0.16171127, 0.10173483, 0.07358607, 0.04899226,\n",
       "       0.06869235, 0.03688462, 0.05932748, 0.02365814, 0.08071146,\n",
       "       0.07904931, 0.10385361, 0.06513989, 0.27718717, 0.18563865,\n",
       "       0.11911236, 0.02838274, 0.33148341, 0.01582361, 0.03507843,\n",
       "       0.07491717, 0.74044128, 0.04493811, 0.03357092, 0.3482026 ,\n",
       "       0.06487708, 0.16720356, 0.43220313, 0.28607537, 0.02388997,\n",
       "       0.01356602, 0.0663049 , 0.04313601, 0.07576934, 0.04971925,\n",
       "       0.02093651, 0.11448572, 0.21437885, 0.1777226 , 0.01437806,\n",
       "       0.03791021, 0.05016997, 0.03302645, 0.13703294, 0.64916926,\n",
       "       0.08071849, 0.04595167, 0.00851011, 0.06470159, 0.16918404,\n",
       "       0.25911711, 0.12236554, 0.13832169, 0.03339839, 0.05248097,\n",
       "       0.00469644, 0.0139529 , 0.04236901, 0.40782179, 0.30522374,\n",
       "       0.38272573, 0.0909653 , 0.0084763 , 0.40627257, 0.03284651,\n",
       "       0.01209811, 0.49974451, 0.0713059 , 0.05506184, 0.15021423,\n",
       "       0.17015779, 0.39068485, 0.03327153, 0.25825483, 0.02918638,\n",
       "       0.033933  , 0.37605872, 0.09034537, 0.04434578, 0.12028662,\n",
       "       0.35714687, 0.20227372, 0.05246727, 0.03612876, 0.04129366,\n",
       "       0.05721537, 0.04415004, 0.06012807, 0.02484319, 0.48216081,\n",
       "       0.04622666, 0.14148409, 0.18767455, 0.52046469, 0.09788578,\n",
       "       0.15809556, 0.04262606, 0.06581812, 0.06089104, 0.37323232,\n",
       "       0.31593292, 0.05065896, 0.17266197, 0.07794468, 0.1445989 ,\n",
       "       0.18949904, 0.05384998, 0.06942125, 0.05700708, 0.25358752,\n",
       "       0.10199772, 0.05567207, 0.02265955, 0.04316891, 0.23617113,\n",
       "       0.04194003, 0.02282633, 0.08780263, 0.0675352 , 0.06462314,\n",
       "       0.17134193, 0.13408492, 0.1041679 , 0.12250003, 0.10976403,\n",
       "       0.01984911, 0.1010681 , 0.28026097, 0.09888929, 0.03409906,\n",
       "       0.02204947, 0.01244081, 0.55232307, 0.05602321, 0.10382632,\n",
       "       0.03928524, 0.07082631, 0.02031329, 0.09815386, 0.12479165,\n",
       "       0.11610558, 0.0370961 , 0.05236451, 0.13666997, 0.08466771,\n",
       "       0.09498466, 0.07267588, 0.06836972, 0.0509737 , 0.11242968,\n",
       "       0.08890701, 0.7167425 , 0.09432219, 0.15781938, 0.15428057,\n",
       "       0.06420522, 0.15217643, 0.20996789, 0.01807245, 0.03715831,\n",
       "       0.65133568, 0.497968  , 0.20848982, 0.35775705, 0.19970066,\n",
       "       0.62954302, 0.27926715, 0.0392191 , 0.02962313, 0.05030572,\n",
       "       0.17831654, 0.06045601, 0.0510846 , 0.06333114, 0.6502566 ,\n",
       "       0.05941761, 0.01106629, 0.10598248, 0.02003721, 0.06023753,\n",
       "       0.03961359, 0.33223887, 0.0185078 , 0.06564668, 0.14618572,\n",
       "       0.07965049, 0.25375016, 0.10138471, 0.08012793, 0.02087766,\n",
       "       0.08178127, 0.0346435 , 0.13886808, 0.02929019, 0.29541119,\n",
       "       0.08171785, 0.06296142, 0.37633287, 0.01426631, 0.03478082,\n",
       "       0.15923032, 0.04801622, 0.11579029, 0.17504848, 0.04359739,\n",
       "       0.10068919, 0.24634462, 0.0920822 , 0.02361678, 0.12507327,\n",
       "       0.04605028, 0.0401184 , 0.23321955, 0.16613047, 0.04571758,\n",
       "       0.06740206, 0.01966864, 0.12376088, 0.05544955, 0.06180805,\n",
       "       0.3526361 , 0.32290664, 0.00901354, 0.73013902, 0.09795513,\n",
       "       0.0377092 , 0.03515752, 0.02181805, 0.03951349, 0.20278183,\n",
       "       0.11488207, 0.39052553, 0.04035838, 0.19787998, 0.46697617,\n",
       "       0.02286984, 0.07780613, 0.20173238, 0.10851201, 0.01900223,\n",
       "       0.02856414, 0.47855498, 0.32142174, 0.11501114, 0.09772714,\n",
       "       0.07161511, 0.05711987, 0.13037178, 0.11171447, 0.02306466,\n",
       "       0.05880378, 0.01666305, 0.11141689, 0.18607696, 0.07976656,\n",
       "       0.03249664, 0.02441328, 0.25990144, 0.16916539, 0.64516785,\n",
       "       0.01857508, 0.05186719, 0.05196595, 0.02639813, 0.01264211,\n",
       "       0.01240608, 0.24068201, 0.227705  , 0.11195477, 0.00174605,\n",
       "       0.10337256, 0.42751015, 0.05948667, 0.20413452, 0.09330823,\n",
       "       0.07775871, 0.15211815, 0.07205348, 0.13030237, 0.27310255,\n",
       "       0.42301883, 0.18695248, 0.05268073, 0.02577101, 0.05564327,\n",
       "       0.30657029, 0.48093168, 0.01400127, 0.08590517, 0.04683642,\n",
       "       0.14135017, 0.62737395, 0.23706584, 0.63720843, 0.25579158,\n",
       "       0.04353715, 0.0365912 , 0.07291072, 0.26544749, 0.04670698,\n",
       "       0.59120777, 0.22011696, 0.00687735, 0.03896759, 0.00449354,\n",
       "       0.10634724, 0.09117089, 0.08125026, 0.06037294, 0.24540194,\n",
       "       0.16370442, 0.08468841, 0.02832372, 0.35921637, 0.26005798,\n",
       "       0.05772211, 0.02807939, 0.39582395, 0.09971177, 0.09674002,\n",
       "       0.01189759, 0.11999111, 0.01027429, 0.03684223, 0.17151233,\n",
       "       0.07317606, 0.1022139 , 0.12633811, 0.4016404 , 0.14912707,\n",
       "       0.05973329, 0.21568094, 0.00940972, 0.0580462 , 0.08725239,\n",
       "       0.5720511 , 0.05680175, 0.31451303, 0.69609576, 0.29924761,\n",
       "       0.0564541 , 0.01844771, 0.37196795, 0.13572441, 0.06352204,\n",
       "       0.05459266, 0.20426871, 0.06737265, 0.19337883, 0.14240083,\n",
       "       0.08770293, 0.21600032, 0.17701451, 0.05980799, 0.39074259,\n",
       "       0.17516566, 0.08623062, 0.26928737, 0.11459909, 0.03744706,\n",
       "       0.06240072, 0.07380471, 0.11669767, 0.02847141, 0.15640795,\n",
       "       0.13064905, 0.38902382, 0.59213971, 0.04630057, 0.65301088,\n",
       "       0.0442732 , 0.51879831, 0.04234337, 0.12874577, 0.02907482,\n",
       "       0.25557001, 0.55549942, 0.15774881, 0.06234167, 0.5290442 ,\n",
       "       0.2037608 , 0.14972939, 0.22457058, 0.03092336, 0.02105932,\n",
       "       0.32927256, 0.26998289, 0.00713901, 0.01573238, 0.13184059,\n",
       "       0.10826441, 0.69340918, 0.17168611, 0.10335551, 0.05347258,\n",
       "       0.20336656, 0.01951773, 0.00614814, 0.37766138, 0.22827822,\n",
       "       0.07775711, 0.04670993, 0.10617822, 0.62023777, 0.12524612,\n",
       "       0.02141161, 0.25151838, 0.04746223, 0.19942581, 0.08096251,\n",
       "       0.00436211, 0.02868418, 0.03410255, 0.0537743 , 0.11491735,\n",
       "       0.02210518, 0.06007981, 0.01401318, 0.01865347, 0.1452175 ,\n",
       "       0.37311608, 0.07883163, 0.00870973, 0.44543801, 0.06412616,\n",
       "       0.01737421, 0.21446929, 0.19626587, 0.12007451, 0.37849657,\n",
       "       0.03844467, 0.42602685, 0.03067826, 0.02676245, 0.78267092,\n",
       "       0.13278086, 0.03452332, 0.02256178, 0.21606062, 0.26363626,\n",
       "       0.48104546, 0.01077087, 0.10445888, 0.58421049, 0.06304422,\n",
       "       0.03711543, 0.03599791, 0.18290848, 0.41815714, 0.03267676,\n",
       "       0.12640493, 0.06575093, 0.40242993, 0.04596978, 0.12043286,\n",
       "       0.07101619, 0.04662166, 0.02025883, 0.13104201, 0.08082753,\n",
       "       0.05155194, 0.08353738, 0.59431226, 0.07757379, 0.03420381,\n",
       "       0.11301915, 0.02684479, 0.17357164, 0.0195497 , 0.02651816,\n",
       "       0.23566605, 0.04857006, 0.01433205, 0.26094058, 0.01523013,\n",
       "       0.25647336, 0.35371892, 0.26737664, 0.10321872, 0.01251099,\n",
       "       0.03805266, 0.047673  , 0.5666225 , 0.34229347, 0.17089038,\n",
       "       0.12073085, 0.13033847, 0.47422991, 0.15272779, 0.03722805,\n",
       "       0.11699017, 0.21623295, 0.16433377, 0.19914582, 0.0255842 ,\n",
       "       0.0539765 , 0.03416774, 0.11564841, 0.07302671, 0.10360618,\n",
       "       0.05609535, 0.07092852, 0.02104298, 0.22957288, 0.11517027,\n",
       "       0.07238529, 0.02167569, 0.1104146 , 0.16409396, 0.16626786,\n",
       "       0.18239515, 0.0205526 , 0.02052815, 0.41362705, 0.07675388,\n",
       "       0.07891996, 0.02327622, 0.04652077, 0.01527808, 0.0687662 ,\n",
       "       0.02816947, 0.02608133, 0.05026699, 0.09301935, 0.20142135,\n",
       "       0.04188633, 0.27392718, 0.14639199, 0.01823507, 0.04696199,\n",
       "       0.01889311, 0.05708015, 0.3395852 , 0.0399893 , 0.57053218,\n",
       "       0.12204119, 0.00756405, 0.52856777, 0.21202169, 0.02559334,\n",
       "       0.02142617, 0.06406006, 0.35335992, 0.0913438 , 0.14444983,\n",
       "       0.17139373, 0.10920915, 0.02497117, 0.04434979, 0.0269802 ,\n",
       "       0.06917701, 0.03765566, 0.12805923, 0.01399824, 0.36478741,\n",
       "       0.08148573, 0.31725356, 0.2740051 , 0.05905466, 0.28067582,\n",
       "       0.1692404 , 0.15404706, 0.04472794, 0.51816223, 0.02963275,\n",
       "       0.68586289, 0.07371513, 0.09499194, 0.12863451, 0.09864763,\n",
       "       0.2747996 , 0.12876898, 0.25001201, 0.45219065, 0.02564007,\n",
       "       0.08080361, 0.14965187, 0.12897904, 0.02799751, 0.09496665,\n",
       "       0.04404372, 0.23009251, 0.05418512, 0.04363078, 0.4729798 ,\n",
       "       0.13384218, 0.58204755, 0.02524788, 0.4530849 , 0.05107038,\n",
       "       0.04996126, 0.4921774 , 0.34163768, 0.30482099, 0.23733117,\n",
       "       0.03370323, 0.81657946, 0.23069996, 0.02040452, 0.36297282,\n",
       "       0.09103178, 0.03892774, 0.03548578, 0.20055584, 0.05649327,\n",
       "       0.16698737, 0.23840544, 0.13044982, 0.07771666, 0.02069952,\n",
       "       0.09078955, 0.74001504, 0.01165496, 0.61107857, 0.09733905,\n",
       "       0.03073434, 0.06891533, 0.03022868, 0.55979489, 0.03815515,\n",
       "       0.23711042, 0.1258198 , 0.04894099, 0.18438117, 0.10058303,\n",
       "       0.10221174, 0.03172498, 0.15401551, 0.14237406, 0.08167791,\n",
       "       0.23359319, 0.047892  , 0.215899  , 0.21916255, 0.03436134,\n",
       "       0.056706  , 0.0416154 , 0.08336195, 0.21699793, 0.01970665,\n",
       "       0.31213518, 0.19173824, 0.20650422, 0.01006291, 0.04493175,\n",
       "       0.06237697, 0.04645936, 0.04258069, 0.16025675, 0.16350293,\n",
       "       0.43956948, 0.19771738])"
      ]
     },
     "execution_count": 163,
     "metadata": {},
     "output_type": "execute_result"
    }
   ],
   "source": [
    "# probability of getting output as 1 - probability of the customer leaving the telecom company\n",
    "\n",
    "logreg.predict_proba(X_test_scaled)[:,1]"
   ]
  },
  {
   "cell_type": "markdown",
   "metadata": {},
   "source": [
    "# **Evaluation of the models performance**\n",
    "\n",
    "The performance of the model is performed using several metrics"
   ]
  },
  {
   "cell_type": "markdown",
   "metadata": {},
   "source": [
    "### Acuracy score\n",
    "\n",
    "Here, **y_test** are the true class labels and **y_pred_test** are the predicted class labels in the test-set"
   ]
  },
  {
   "cell_type": "code",
   "execution_count": 164,
   "metadata": {},
   "outputs": [
    {
     "name": "stdout",
     "output_type": "stream",
     "text": [
      "Model accuracy score:0.8636\n"
     ]
    }
   ],
   "source": [
    "# impport the evaluation libraries\n",
    "from sklearn.metrics import accuracy_score\n",
    "\n",
    "print ('Model accuracy score:{0:0.4f}'.format (accuracy_score(y_test, y_pred_test)))"
   ]
  },
  {
   "cell_type": "markdown",
   "metadata": {},
   "source": [
    "### Compare the train-set and test-set accuracy\n",
    "\n",
    "Compare the train-set and test-set accuracy to check for overfitting."
   ]
  },
  {
   "cell_type": "code",
   "execution_count": 165,
   "metadata": {},
   "outputs": [
    {
     "data": {
      "text/plain": [
       "array(['No', 'No', 'No', ..., 'No', 'No', 'Yes'], dtype=object)"
      ]
     },
     "execution_count": 165,
     "metadata": {},
     "output_type": "execute_result"
    }
   ],
   "source": [
    "y_pred_train = logreg.predict(X_train_scaled)\n",
    "\n",
    "y_pred_train"
   ]
  },
  {
   "cell_type": "code",
   "execution_count": 166,
   "metadata": {},
   "outputs": [
    {
     "name": "stdout",
     "output_type": "stream",
     "text": [
      "Training-set accuracy score: 0.8728\n"
     ]
    }
   ],
   "source": [
    "print('Training-set accuracy score: {0:0.4f}'. format(accuracy_score(y_train, y_pred_train)))"
   ]
  },
  {
   "cell_type": "markdown",
   "metadata": {},
   "source": [
    "### Check for overfitting and underfitting"
   ]
  },
  {
   "cell_type": "code",
   "execution_count": 167,
   "metadata": {},
   "outputs": [
    {
     "name": "stdout",
     "output_type": "stream",
     "text": [
      "Training set score: 0.8728\n",
      "Test set score: 0.8636\n"
     ]
    }
   ],
   "source": [
    "# print the scores on training and test set\n",
    "\n",
    "print('Training set score: {:.4f}'.format(logreg.score(X_train_scaled, y_train)))\n",
    "\n",
    "print('Test set score: {:.4f}'.format(logreg.score(X_test_scaled, y_test)))"
   ]
  },
  {
   "cell_type": "markdown",
   "metadata": {},
   "source": [
    "#### The training set accuracy score is **0.8725** while the test-set accuracy to be **0.8636**. \n",
    "These two values are quite comparable. So, there is no evidence of overfitting. \n"
   ]
  },
  {
   "cell_type": "markdown",
   "metadata": {},
   "source": [
    "### Evaluation of model with C=100\n",
    "In Logistic Regression, we use default value of C = 1. It provides good performance with more than 85% accuracy on both the training and the test set. The model performance on both the training and test set are very comparable. \n",
    "\n",
    "Increase C and fit a more flexible model to compare the results with a C = 1"
   ]
  },
  {
   "cell_type": "code",
   "execution_count": 168,
   "metadata": {},
   "outputs": [
    {
     "data": {
      "text/html": [
       "<style>#sk-container-id-3 {color: black;}#sk-container-id-3 pre{padding: 0;}#sk-container-id-3 div.sk-toggleable {background-color: white;}#sk-container-id-3 label.sk-toggleable__label {cursor: pointer;display: block;width: 100%;margin-bottom: 0;padding: 0.3em;box-sizing: border-box;text-align: center;}#sk-container-id-3 label.sk-toggleable__label-arrow:before {content: \"▸\";float: left;margin-right: 0.25em;color: #696969;}#sk-container-id-3 label.sk-toggleable__label-arrow:hover:before {color: black;}#sk-container-id-3 div.sk-estimator:hover label.sk-toggleable__label-arrow:before {color: black;}#sk-container-id-3 div.sk-toggleable__content {max-height: 0;max-width: 0;overflow: hidden;text-align: left;background-color: #f0f8ff;}#sk-container-id-3 div.sk-toggleable__content pre {margin: 0.2em;color: black;border-radius: 0.25em;background-color: #f0f8ff;}#sk-container-id-3 input.sk-toggleable__control:checked~div.sk-toggleable__content {max-height: 200px;max-width: 100%;overflow: auto;}#sk-container-id-3 input.sk-toggleable__control:checked~label.sk-toggleable__label-arrow:before {content: \"▾\";}#sk-container-id-3 div.sk-estimator input.sk-toggleable__control:checked~label.sk-toggleable__label {background-color: #d4ebff;}#sk-container-id-3 div.sk-label input.sk-toggleable__control:checked~label.sk-toggleable__label {background-color: #d4ebff;}#sk-container-id-3 input.sk-hidden--visually {border: 0;clip: rect(1px 1px 1px 1px);clip: rect(1px, 1px, 1px, 1px);height: 1px;margin: -1px;overflow: hidden;padding: 0;position: absolute;width: 1px;}#sk-container-id-3 div.sk-estimator {font-family: monospace;background-color: #f0f8ff;border: 1px dotted black;border-radius: 0.25em;box-sizing: border-box;margin-bottom: 0.5em;}#sk-container-id-3 div.sk-estimator:hover {background-color: #d4ebff;}#sk-container-id-3 div.sk-parallel-item::after {content: \"\";width: 100%;border-bottom: 1px solid gray;flex-grow: 1;}#sk-container-id-3 div.sk-label:hover label.sk-toggleable__label {background-color: #d4ebff;}#sk-container-id-3 div.sk-serial::before {content: \"\";position: absolute;border-left: 1px solid gray;box-sizing: border-box;top: 0;bottom: 0;left: 50%;z-index: 0;}#sk-container-id-3 div.sk-serial {display: flex;flex-direction: column;align-items: center;background-color: white;padding-right: 0.2em;padding-left: 0.2em;position: relative;}#sk-container-id-3 div.sk-item {position: relative;z-index: 1;}#sk-container-id-3 div.sk-parallel {display: flex;align-items: stretch;justify-content: center;background-color: white;position: relative;}#sk-container-id-3 div.sk-item::before, #sk-container-id-3 div.sk-parallel-item::before {content: \"\";position: absolute;border-left: 1px solid gray;box-sizing: border-box;top: 0;bottom: 0;left: 50%;z-index: -1;}#sk-container-id-3 div.sk-parallel-item {display: flex;flex-direction: column;z-index: 1;position: relative;background-color: white;}#sk-container-id-3 div.sk-parallel-item:first-child::after {align-self: flex-end;width: 50%;}#sk-container-id-3 div.sk-parallel-item:last-child::after {align-self: flex-start;width: 50%;}#sk-container-id-3 div.sk-parallel-item:only-child::after {width: 0;}#sk-container-id-3 div.sk-dashed-wrapped {border: 1px dashed gray;margin: 0 0.4em 0.5em 0.4em;box-sizing: border-box;padding-bottom: 0.4em;background-color: white;}#sk-container-id-3 div.sk-label label {font-family: monospace;font-weight: bold;display: inline-block;line-height: 1.2em;}#sk-container-id-3 div.sk-label-container {text-align: center;}#sk-container-id-3 div.sk-container {/* jupyter's `normalize.less` sets `[hidden] { display: none; }` but bootstrap.min.css set `[hidden] { display: none !important; }` so we also need the `!important` here to be able to override the default hidden behavior on the sphinx rendered scikit-learn.org. See: https://github.com/scikit-learn/scikit-learn/issues/21755 */display: inline-block !important;position: relative;}#sk-container-id-3 div.sk-text-repr-fallback {display: none;}</style><div id=\"sk-container-id-3\" class=\"sk-top-container\"><div class=\"sk-text-repr-fallback\"><pre>LogisticRegression(C=100, random_state=0, solver=&#x27;liblinear&#x27;)</pre><b>In a Jupyter environment, please rerun this cell to show the HTML representation or trust the notebook. <br />On GitHub, the HTML representation is unable to render, please try loading this page with nbviewer.org.</b></div><div class=\"sk-container\" hidden><div class=\"sk-item\"><div class=\"sk-estimator sk-toggleable\"><input class=\"sk-toggleable__control sk-hidden--visually\" id=\"sk-estimator-id-3\" type=\"checkbox\" checked><label for=\"sk-estimator-id-3\" class=\"sk-toggleable__label sk-toggleable__label-arrow\">LogisticRegression</label><div class=\"sk-toggleable__content\"><pre>LogisticRegression(C=100, random_state=0, solver=&#x27;liblinear&#x27;)</pre></div></div></div></div></div>"
      ],
      "text/plain": [
       "LogisticRegression(C=100, random_state=0, solver='liblinear')"
      ]
     },
     "execution_count": 168,
     "metadata": {},
     "output_type": "execute_result"
    }
   ],
   "source": [
    "# fit the Logsitic Regression model with C=100\n",
    "\n",
    "# instantiate the model\n",
    "logreg100 = LogisticRegression(C=100, solver='liblinear', random_state=0)\n",
    "\n",
    "# fit the model\n",
    "logreg100.fit(X_train_scaled, y_train)"
   ]
  },
  {
   "cell_type": "code",
   "execution_count": 169,
   "metadata": {},
   "outputs": [
    {
     "name": "stdout",
     "output_type": "stream",
     "text": [
      "Training set score: 0.8732\n",
      "Test set score: 0.8516\n"
     ]
    }
   ],
   "source": [
    "# print the scores on training and test set\n",
    "\n",
    "print('Training set score: {:.4f}'.format(logreg100.score(X_train_scaled, y_train)))\n",
    "\n",
    "print('Test set score: {:.4f}'.format(logreg100.score(X_test_scaled, y_test)))"
   ]
  },
  {
   "cell_type": "markdown",
   "metadata": {},
   "source": [
    "#### C=100 results in higher training set accuracy of **0.8728** and also a lower test set accuracy of **0.8516** \n",
    "Therefore we can conclude that a more complex model performs worse due to overfitting / overtraining of the model."
   ]
  },
  {
   "cell_type": "markdown",
   "metadata": {},
   "source": [
    "### Evaluation of model with C=0.01\n",
    "Investigate, what happens if we use more regularized model than the default value of C=1, by setting C=0.01"
   ]
  },
  {
   "cell_type": "code",
   "execution_count": 170,
   "metadata": {},
   "outputs": [
    {
     "data": {
      "text/html": [
       "<style>#sk-container-id-4 {color: black;}#sk-container-id-4 pre{padding: 0;}#sk-container-id-4 div.sk-toggleable {background-color: white;}#sk-container-id-4 label.sk-toggleable__label {cursor: pointer;display: block;width: 100%;margin-bottom: 0;padding: 0.3em;box-sizing: border-box;text-align: center;}#sk-container-id-4 label.sk-toggleable__label-arrow:before {content: \"▸\";float: left;margin-right: 0.25em;color: #696969;}#sk-container-id-4 label.sk-toggleable__label-arrow:hover:before {color: black;}#sk-container-id-4 div.sk-estimator:hover label.sk-toggleable__label-arrow:before {color: black;}#sk-container-id-4 div.sk-toggleable__content {max-height: 0;max-width: 0;overflow: hidden;text-align: left;background-color: #f0f8ff;}#sk-container-id-4 div.sk-toggleable__content pre {margin: 0.2em;color: black;border-radius: 0.25em;background-color: #f0f8ff;}#sk-container-id-4 input.sk-toggleable__control:checked~div.sk-toggleable__content {max-height: 200px;max-width: 100%;overflow: auto;}#sk-container-id-4 input.sk-toggleable__control:checked~label.sk-toggleable__label-arrow:before {content: \"▾\";}#sk-container-id-4 div.sk-estimator input.sk-toggleable__control:checked~label.sk-toggleable__label {background-color: #d4ebff;}#sk-container-id-4 div.sk-label input.sk-toggleable__control:checked~label.sk-toggleable__label {background-color: #d4ebff;}#sk-container-id-4 input.sk-hidden--visually {border: 0;clip: rect(1px 1px 1px 1px);clip: rect(1px, 1px, 1px, 1px);height: 1px;margin: -1px;overflow: hidden;padding: 0;position: absolute;width: 1px;}#sk-container-id-4 div.sk-estimator {font-family: monospace;background-color: #f0f8ff;border: 1px dotted black;border-radius: 0.25em;box-sizing: border-box;margin-bottom: 0.5em;}#sk-container-id-4 div.sk-estimator:hover {background-color: #d4ebff;}#sk-container-id-4 div.sk-parallel-item::after {content: \"\";width: 100%;border-bottom: 1px solid gray;flex-grow: 1;}#sk-container-id-4 div.sk-label:hover label.sk-toggleable__label {background-color: #d4ebff;}#sk-container-id-4 div.sk-serial::before {content: \"\";position: absolute;border-left: 1px solid gray;box-sizing: border-box;top: 0;bottom: 0;left: 50%;z-index: 0;}#sk-container-id-4 div.sk-serial {display: flex;flex-direction: column;align-items: center;background-color: white;padding-right: 0.2em;padding-left: 0.2em;position: relative;}#sk-container-id-4 div.sk-item {position: relative;z-index: 1;}#sk-container-id-4 div.sk-parallel {display: flex;align-items: stretch;justify-content: center;background-color: white;position: relative;}#sk-container-id-4 div.sk-item::before, #sk-container-id-4 div.sk-parallel-item::before {content: \"\";position: absolute;border-left: 1px solid gray;box-sizing: border-box;top: 0;bottom: 0;left: 50%;z-index: -1;}#sk-container-id-4 div.sk-parallel-item {display: flex;flex-direction: column;z-index: 1;position: relative;background-color: white;}#sk-container-id-4 div.sk-parallel-item:first-child::after {align-self: flex-end;width: 50%;}#sk-container-id-4 div.sk-parallel-item:last-child::after {align-self: flex-start;width: 50%;}#sk-container-id-4 div.sk-parallel-item:only-child::after {width: 0;}#sk-container-id-4 div.sk-dashed-wrapped {border: 1px dashed gray;margin: 0 0.4em 0.5em 0.4em;box-sizing: border-box;padding-bottom: 0.4em;background-color: white;}#sk-container-id-4 div.sk-label label {font-family: monospace;font-weight: bold;display: inline-block;line-height: 1.2em;}#sk-container-id-4 div.sk-label-container {text-align: center;}#sk-container-id-4 div.sk-container {/* jupyter's `normalize.less` sets `[hidden] { display: none; }` but bootstrap.min.css set `[hidden] { display: none !important; }` so we also need the `!important` here to be able to override the default hidden behavior on the sphinx rendered scikit-learn.org. See: https://github.com/scikit-learn/scikit-learn/issues/21755 */display: inline-block !important;position: relative;}#sk-container-id-4 div.sk-text-repr-fallback {display: none;}</style><div id=\"sk-container-id-4\" class=\"sk-top-container\"><div class=\"sk-text-repr-fallback\"><pre>LogisticRegression(C=0.01, random_state=0, solver=&#x27;liblinear&#x27;)</pre><b>In a Jupyter environment, please rerun this cell to show the HTML representation or trust the notebook. <br />On GitHub, the HTML representation is unable to render, please try loading this page with nbviewer.org.</b></div><div class=\"sk-container\" hidden><div class=\"sk-item\"><div class=\"sk-estimator sk-toggleable\"><input class=\"sk-toggleable__control sk-hidden--visually\" id=\"sk-estimator-id-4\" type=\"checkbox\" checked><label for=\"sk-estimator-id-4\" class=\"sk-toggleable__label sk-toggleable__label-arrow\">LogisticRegression</label><div class=\"sk-toggleable__content\"><pre>LogisticRegression(C=0.01, random_state=0, solver=&#x27;liblinear&#x27;)</pre></div></div></div></div></div>"
      ],
      "text/plain": [
       "LogisticRegression(C=0.01, random_state=0, solver='liblinear')"
      ]
     },
     "execution_count": 170,
     "metadata": {},
     "output_type": "execute_result"
    }
   ],
   "source": [
    "# fit the Logsitic Regression model with C=001\n",
    "\n",
    "# instantiate the model\n",
    "logreg001 = LogisticRegression(C=0.01, solver='liblinear', random_state=0)\n",
    "\n",
    "# fit the model\n",
    "logreg001.fit(X_train_scaled, y_train)"
   ]
  },
  {
   "cell_type": "code",
   "execution_count": 171,
   "metadata": {},
   "outputs": [
    {
     "name": "stdout",
     "output_type": "stream",
     "text": [
      "Training set score: 0.8518\n",
      "Test set score: 0.8681\n"
     ]
    }
   ],
   "source": [
    "# print the scores on training and test set\n",
    "\n",
    "print('Training set score: {:.4f}'.format(logreg001.score(X_train_scaled, y_train)))\n",
    "\n",
    "print('Test set score: {:.4f}'.format(logreg001.score(X_test_scaled, y_test)))"
   ]
  },
  {
   "cell_type": "markdown",
   "metadata": {},
   "source": [
    "#### C=0.01 results in higher test set accuracy of **0.8681** and  a lower training set accuracy of **0.8518** \n",
    "Therefore we can conclude that a more regularized model by setting C=0.01 performs worse than the model with C = 1 due to underfitting of the model."
   ]
  },
  {
   "cell_type": "markdown",
   "metadata": {},
   "source": [
    "### Compare model accuracy with null accuracy\n",
    "\n",
    "The model accuracy is **0.8683**. But, we cannot say that our model is very good based on the above accuracy. \n",
    "We must compare it with the **null accuracy**. \n",
    "Null accuracy is the accuracy that could be achieved by always predicting the most frequent class.\n",
    "\n",
    "So, we should first check the class distribution in the test set. "
   ]
  },
  {
   "cell_type": "code",
   "execution_count": 172,
   "metadata": {},
   "outputs": [
    {
     "data": {
      "text/plain": [
       "No     579\n",
       "Yes     88\n",
       "Name: churn, dtype: int64"
      ]
     },
     "execution_count": 172,
     "metadata": {},
     "output_type": "execute_result"
    }
   ],
   "source": [
    "# check class distribution in test set\n",
    "\n",
    "y_test.value_counts()"
   ]
  },
  {
   "cell_type": "markdown",
   "metadata": {},
   "source": [
    "The occurences of most frequent class is 579. \n",
    "\n",
    "- calculate null accuracy by dividing 579 by total number of occurences."
   ]
  },
  {
   "cell_type": "code",
   "execution_count": 173,
   "metadata": {},
   "outputs": [
    {
     "name": "stdout",
     "output_type": "stream",
     "text": [
      "Null accuracy score: 0.8681\n"
     ]
    }
   ],
   "source": [
    "# check null accuracy score\n",
    "null_accuracy = (579/(579+88))\n",
    "\n",
    "print('Null accuracy score: {0:0.4f}'. format(null_accuracy))"
   ]
  },
  {
   "cell_type": "markdown",
   "metadata": {},
   "source": [
    "The model accuracy score is **0.8636** but null accuracy score is **0.8681**. \n",
    "\n",
    "Conclucion: Null accuracy > Model accuracy\n",
    "- model is performing worse than the baseline model and is not making useful predictions beyond what could be achieved by always predicting the most common outcome\n",
    "Action:\n",
    "- improve feature engineering, try a different model and check for overfitting\n",
    "- use other metric for evaluation of the model i.e precision, recall, F1-score, AUC-ROC\n"
   ]
  },
  {
   "cell_type": "markdown",
   "metadata": {},
   "source": [
    "# **Confusion matrix**\n",
    "\n",
    "\n",
    "A confusion matrix is a tool for summarizing the performance of a classification algorithm. A confusion matrix will give us a clear picture of classification model performance and \n",
    "the types of errors produced by the model. It gives us a summary of correct and incorrect predictions broken down by each category. The summary is represented in a tabular form.\n",
    "\n",
    "\n",
    "Four types of outcomes are possible while evaluating a classification model performance. These four outcomes are described below:-\n",
    "\n",
    "\n",
    "**True Positives (TP)** – True Positives occur when we predict an observation belongs to a certain class and the observation actually belongs to that class.\n",
    "\n",
    "\n",
    "**True Negatives (TN)** – True Negatives occur when we predict an observation does not belong to a certain class and the observation actually does not belong to that class.\n",
    "\n",
    "\n",
    "**False Positives (FP)** – False Positives occur when we predict an observation belongs to a    certain class but the observation actually does not belong to that class. This type of error is called **Type I error.**\n",
    "\n",
    "\n",
    "\n",
    "**False Negatives (FN)** – False Negatives occur when we predict an observation does not belong to a certain class but the observation actually belongs to that class. This is a very serious error and it is called **Type II error.**\n",
    "\n",
    "\n",
    "\n",
    "These four outcomes are summarized in a confusion matrix given below.\n"
   ]
  },
  {
   "cell_type": "code",
   "execution_count": 174,
   "metadata": {},
   "outputs": [
    {
     "name": "stdout",
     "output_type": "stream",
     "text": [
      "Confusion matrix\n",
      "\n",
      " [[559  20]\n",
      " [ 71  17]]\n",
      "\n",
      "True Positives(TP) =  559\n",
      "\n",
      "True Negatives(TN) =  17\n",
      "\n",
      "False Positives(FP) =  20\n",
      "\n",
      "False Negatives(FN) =  71\n"
     ]
    }
   ],
   "source": [
    "# Print the Confusion Matrix and slice it into four pieces\n",
    "\n",
    "from sklearn.metrics import confusion_matrix\n",
    "\n",
    "cm = confusion_matrix(y_test, y_pred_test)\n",
    "\n",
    "print('Confusion matrix\\n\\n', cm)\n",
    "\n",
    "print('\\nTrue Positives(TP) = ', cm[0,0])\n",
    "\n",
    "print('\\nTrue Negatives(TN) = ', cm[1,1])\n",
    "\n",
    "print('\\nFalse Positives(FP) = ', cm[0,1])\n",
    "\n",
    "print('\\nFalse Negatives(FN) = ', cm[1,0])"
   ]
  },
  {
   "cell_type": "markdown",
   "metadata": {},
   "source": [
    "#### The confusion matrix shows:\n",
    "- Correct predictions:  `558 + 18 = 576 correct predictions`\n",
    "- Incorrect predictions: `21 + 70 = 91 incorrect predictions`.\n",
    "\n",
    "\n",
    "In this case, we have\n",
    "\n",
    "\n",
    "- `True Positives` (Actual Positive:1 and Predict Positive:1) - 558\n",
    "\n",
    "\n",
    "- `True Negatives` (Actual Negative:0 and Predict Negative:0) - 18\n",
    "\n",
    "\n",
    "- `False Positives` (Actual Negative:0 but Predict Positive:1) - 21 `(Type I error)`\n",
    "\n",
    "\n",
    "- `False Negatives` (Actual Positive:1 but Predict Negative:0) - 70 `(Type II error)`"
   ]
  },
  {
   "cell_type": "code",
   "execution_count": 175,
   "metadata": {},
   "outputs": [
    {
     "data": {
      "text/plain": [
       "<AxesSubplot:>"
      ]
     },
     "execution_count": 175,
     "metadata": {},
     "output_type": "execute_result"
    },
    {
     "data": {
      "image/png": "[encoded data removed]",
      "text/plain": [
       "<Figure size 432x288 with 2 Axes>"
      ]
     },
     "metadata": {
      "needs_background": "light"
     },
     "output_type": "display_data"
    }
   ],
   "source": [
    "# visualize confusion matrix with seaborn heatmap\n",
    "\n",
    "cm_matrix = pd.DataFrame(data=cm, columns=['Actual Positive:1', 'Actual Negative:0'], \n",
    "                                 index=['Predict Positive:1', 'Predict Negative:0'])\n",
    "\n",
    "sns.heatmap(cm_matrix, annot=True, fmt='d', cmap='YlGnBu')"
   ]
  },
  {
   "cell_type": "markdown",
   "metadata": {},
   "source": [
    "# **Classification metrices** "
   ]
  },
  {
   "cell_type": "markdown",
   "metadata": {},
   "source": [
    "## Classification Report\n",
    "\n",
    "**Classification report** \n",
    "- Another way to evaluate the classification model performance. \n",
    "- It displays the  **precision**, **recall**, **f1** and **support** scores for the model. \n",
    "\n",
    "#### Print a classification report as follows:-"
   ]
  },
  {
   "cell_type": "code",
   "execution_count": 176,
   "metadata": {},
   "outputs": [
    {
     "name": "stdout",
     "output_type": "stream",
     "text": [
      "              precision    recall  f1-score   support\n",
      "\n",
      "          No       0.89      0.97      0.92       579\n",
      "         Yes       0.46      0.19      0.27        88\n",
      "\n",
      "    accuracy                           0.86       667\n",
      "   macro avg       0.67      0.58      0.60       667\n",
      "weighted avg       0.83      0.86      0.84       667\n",
      "\n"
     ]
    }
   ],
   "source": [
    "from sklearn.metrics import classification_report\n",
    "\n",
    "print(classification_report(y_test, y_pred_test))"
   ]
  },
  {
   "cell_type": "markdown",
   "metadata": {},
   "source": [
    "## Classification accuracy"
   ]
  },
  {
   "cell_type": "code",
   "execution_count": 177,
   "metadata": {},
   "outputs": [],
   "source": [
    "TP = cm[0,0]\n",
    "TN = cm[1,1]\n",
    "FP = cm[0,1]\n",
    "FN = cm[1,0]"
   ]
  },
  {
   "cell_type": "code",
   "execution_count": 178,
   "metadata": {},
   "outputs": [
    {
     "name": "stdout",
     "output_type": "stream",
     "text": [
      "Classification accuracy : 0.8636\n"
     ]
    }
   ],
   "source": [
    "# print classification accuracy\n",
    "\n",
    "classification_accuracy = (TP + TN) / float(TP + TN + FP + FN)\n",
    "\n",
    "print('Classification accuracy : {0:0.4f}'.format(classification_accuracy))"
   ]
  },
  {
   "cell_type": "markdown",
   "metadata": {},
   "source": [
    "## Classification error"
   ]
  },
  {
   "cell_type": "code",
   "execution_count": 179,
   "metadata": {},
   "outputs": [
    {
     "name": "stdout",
     "output_type": "stream",
     "text": [
      "Classification error : 0.1364\n"
     ]
    }
   ],
   "source": [
    "# print classification error\n",
    "\n",
    "classification_error = (FP + FN) / float(TP + TN + FP + FN)\n",
    "\n",
    "print('Classification error : {0:0.4f}'.format(classification_error))"
   ]
  },
  {
   "cell_type": "markdown",
   "metadata": {},
   "source": [
    "## Precision\n",
    "\n",
    "**Precision** \n",
    "- Defined as the percentage of correctly predicted positive outcomes out of all the predicted positive outcomes. \n",
    "- Given as the ratio of true positives (TP) to the sum of true and false positives (TP + FP). \n",
    "- **Precision** identifies the proportion of correctly predicted positive outcome i.e concerned with the positive class.\n",
    "\n",
    "Mathematically, precision defined as the ratio of `TP to (TP + FP).`"
   ]
  },
  {
   "cell_type": "code",
   "execution_count": 180,
   "metadata": {},
   "outputs": [
    {
     "name": "stdout",
     "output_type": "stream",
     "text": [
      "Precision : 0.9655\n"
     ]
    }
   ],
   "source": [
    "# print precision score\n",
    "\n",
    "precision = TP / float(TP + FP)\n",
    "\n",
    "print('Precision : {0:0.4f}'.format(precision))"
   ]
  },
  {
   "cell_type": "markdown",
   "metadata": {},
   "source": [
    "## Recall\n",
    "\n",
    "- Defined as the percentage of correctly predicted positive outcomes out of all the actual positive outcomes.\n",
    "- Given as the ratio of true positives (TP) to the sum of true positives and false negatives (TP + FN). \n",
    "- **Recall** also called **Sensitivity**.\n",
    "- **Recall** identifies the proportion of correctly predicted actual positives.\n",
    "\n",
    "Mathematically, recall can be given as the ratio of `TP to (TP + FN).`"
   ]
  },
  {
   "cell_type": "code",
   "execution_count": 181,
   "metadata": {},
   "outputs": [
    {
     "name": "stdout",
     "output_type": "stream",
     "text": [
      "Recall or Sensitivity : 0.8873\n"
     ]
    }
   ],
   "source": [
    "# calculate and print recall\n",
    "recall = TP / float(TP + FN)\n",
    "\n",
    "print('Recall or Sensitivity : {0:0.4f}'.format(recall))"
   ]
  },
  {
   "cell_type": "markdown",
   "metadata": {},
   "source": [
    "## True Positive Rate\n",
    "\n",
    "**True Positive Rate** is synonymous with **Recall**."
   ]
  },
  {
   "cell_type": "code",
   "execution_count": 182,
   "metadata": {},
   "outputs": [
    {
     "name": "stdout",
     "output_type": "stream",
     "text": [
      "True Positive Rate : 0.8873\n"
     ]
    }
   ],
   "source": [
    "true_positive_rate = TP / float(TP + FN)\n",
    "\n",
    "print('True Positive Rate : {0:0.4f}'.format(true_positive_rate))"
   ]
  },
  {
   "cell_type": "markdown",
   "metadata": {},
   "source": [
    "## False Positive Rate"
   ]
  },
  {
   "cell_type": "code",
   "execution_count": 183,
   "metadata": {},
   "outputs": [
    {
     "name": "stdout",
     "output_type": "stream",
     "text": [
      "False Positive Rate : 0.5405\n"
     ]
    }
   ],
   "source": [
    "false_positive_rate = FP / float(FP + TN)\n",
    "\n",
    "print('False Positive Rate : {0:0.4f}'.format(false_positive_rate))"
   ]
  },
  {
   "cell_type": "markdown",
   "metadata": {},
   "source": [
    "## Specificity"
   ]
  },
  {
   "cell_type": "code",
   "execution_count": 184,
   "metadata": {},
   "outputs": [
    {
     "name": "stdout",
     "output_type": "stream",
     "text": [
      "Specificity : 0.4595\n"
     ]
    }
   ],
   "source": [
    "specificity = TN / (TN + FP)\n",
    "\n",
    "print('Specificity : {0:0.4f}'.format(specificity))"
   ]
  },
  {
   "cell_type": "markdown",
   "metadata": {},
   "source": [
    "## F1-score\n",
    "\n",
    "**F1-score** \n",
    "- The weighted harmonic mean of precision and recall. \n",
    "- The best possible **f1-score** would be 1.0 and the worst would be 0.0.  \n",
    "- **f1-score** is the harmonic mean of precision and recall. \n",
    "- **f1-score** is always lower than accuracy measures as they embed precision and recall into their computation. \n",
    "- The weighted average of `f1-score` should be used to compare classifier models, not global accuracy."
   ]
  },
  {
   "cell_type": "markdown",
   "metadata": {},
   "source": [
    "# **Adjusting the threshold level** "
   ]
  },
  {
   "cell_type": "code",
   "execution_count": 185,
   "metadata": {},
   "outputs": [
    {
     "data": {
      "text/plain": [
       "array([[0.67326116, 0.32673884],\n",
       "       [0.97921713, 0.02078287],\n",
       "       [0.78212057, 0.21787943],\n",
       "       [0.9274381 , 0.0725619 ],\n",
       "       [0.22690531, 0.77309469],\n",
       "       [0.14519623, 0.85480377],\n",
       "       [0.70565969, 0.29434031],\n",
       "       [0.93108981, 0.06891019],\n",
       "       [0.73273298, 0.26726702],\n",
       "       [0.52451762, 0.47548238]])"
      ]
     },
     "execution_count": 185,
     "metadata": {},
     "output_type": "execute_result"
    }
   ],
   "source": [
    "# print the first 10 predicted probabilities of two classes- 0 and 1\n",
    "\n",
    "y_pred_prob = logreg.predict_proba(X_test_scaled)[0:10]\n",
    "\n",
    "y_pred_prob"
   ]
  },
  {
   "cell_type": "markdown",
   "metadata": {},
   "source": [
    "### Observations\n",
    "\n",
    "- In each row, the numbers sum to 1.\n",
    "\n",
    "- There are 2 columns which correspond to 2 classes - 0 and 1.\n",
    "    - Class 0 - predicted probability that the customer will **not** leave the telecom company.    \n",
    "    \n",
    "    - Class 1 - predicted probability that the customer **will leave** the telecom company.     \n",
    "    \n",
    "- Importance of predicted probabilities\n",
    "    - We can rank the observations by probability that the customer will leave or not leave the telecom company.\n",
    "\n",
    "- predict_proba process\n",
    "    - Predicts the probabilities      \n",
    "    - Choose the class with the highest probability    \n",
    "        \n",
    "- Classification threshold level\n",
    "    - There is a classification threshold level of 0.5.        \n",
    "    - Class 1 - probability of customer leaving the telecom company is predicted if probability > 0.5.    \n",
    "    \n",
    "    - Class 0 - probability of customer not leaving the telecom company predicted if probability < 0.5.    "
   ]
  },
  {
   "cell_type": "code",
   "execution_count": 186,
   "metadata": {},
   "outputs": [
    {
     "data": {
      "text/html": [
       "<div>\n",
       "<style scoped>\n",
       "    .dataframe tbody tr th:only-of-type {\n",
       "        vertical-align: middle;\n",
       "    }\n",
       "\n",
       "    .dataframe tbody tr th {\n",
       "        vertical-align: top;\n",
       "    }\n",
       "\n",
       "    .dataframe thead th {\n",
       "        text-align: right;\n",
       "    }\n",
       "</style>\n",
       "<table border=\"1\" class=\"dataframe\">\n",
       "  <thead>\n",
       "    <tr style=\"text-align: right;\">\n",
       "      <th></th>\n",
       "      <th>Prob of - Customer NOT leaving (0)</th>\n",
       "      <th>Prob of - Customer LEAVING (1)</th>\n",
       "    </tr>\n",
       "  </thead>\n",
       "  <tbody>\n",
       "    <tr>\n",
       "      <th>0</th>\n",
       "      <td>0.673261</td>\n",
       "      <td>0.326739</td>\n",
       "    </tr>\n",
       "    <tr>\n",
       "      <th>1</th>\n",
       "      <td>0.979217</td>\n",
       "      <td>0.020783</td>\n",
       "    </tr>\n",
       "    <tr>\n",
       "      <th>2</th>\n",
       "      <td>0.782121</td>\n",
       "      <td>0.217879</td>\n",
       "    </tr>\n",
       "    <tr>\n",
       "      <th>3</th>\n",
       "      <td>0.927438</td>\n",
       "      <td>0.072562</td>\n",
       "    </tr>\n",
       "    <tr>\n",
       "      <th>4</th>\n",
       "      <td>0.226905</td>\n",
       "      <td>0.773095</td>\n",
       "    </tr>\n",
       "    <tr>\n",
       "      <th>5</th>\n",
       "      <td>0.145196</td>\n",
       "      <td>0.854804</td>\n",
       "    </tr>\n",
       "    <tr>\n",
       "      <th>6</th>\n",
       "      <td>0.705660</td>\n",
       "      <td>0.294340</td>\n",
       "    </tr>\n",
       "    <tr>\n",
       "      <th>7</th>\n",
       "      <td>0.931090</td>\n",
       "      <td>0.068910</td>\n",
       "    </tr>\n",
       "    <tr>\n",
       "      <th>8</th>\n",
       "      <td>0.732733</td>\n",
       "      <td>0.267267</td>\n",
       "    </tr>\n",
       "    <tr>\n",
       "      <th>9</th>\n",
       "      <td>0.524518</td>\n",
       "      <td>0.475482</td>\n",
       "    </tr>\n",
       "  </tbody>\n",
       "</table>\n",
       "</div>"
      ],
      "text/plain": [
       "   Prob of - Customer NOT leaving (0)  Prob of - Customer LEAVING (1)\n",
       "0                            0.673261                        0.326739\n",
       "1                            0.979217                        0.020783\n",
       "2                            0.782121                        0.217879\n",
       "3                            0.927438                        0.072562\n",
       "4                            0.226905                        0.773095\n",
       "5                            0.145196                        0.854804\n",
       "6                            0.705660                        0.294340\n",
       "7                            0.931090                        0.068910\n",
       "8                            0.732733                        0.267267\n",
       "9                            0.524518                        0.475482"
      ]
     },
     "execution_count": 186,
     "metadata": {},
     "output_type": "execute_result"
    }
   ],
   "source": [
    "# store the probabilities in dataframe\n",
    "\n",
    "y_pred_prob_df = pd.DataFrame(data=y_pred_prob, columns=['Prob of - Customer NOT leaving (0)', 'Prob of - Customer LEAVING (1)'])\n",
    "\n",
    "y_pred_prob_df"
   ]
  },
  {
   "cell_type": "code",
   "execution_count": 187,
   "metadata": {},
   "outputs": [
    {
     "data": {
      "text/plain": [
       "array([0.32673884, 0.02078287, 0.21787943, 0.0725619 , 0.77309469,\n",
       "       0.85480377, 0.29434031, 0.06891019, 0.26726702, 0.47548238])"
      ]
     },
     "execution_count": 187,
     "metadata": {},
     "output_type": "execute_result"
    }
   ],
   "source": [
    "# print the first 10 predicted probabilities for class 1 - Probability of customer leaving\n",
    "\n",
    "y_pred0 = logreg.predict_proba(X_test_scaled)[0:10, 1]\n",
    "y_pred0"
   ]
  },
  {
   "cell_type": "code",
   "execution_count": 188,
   "metadata": {},
   "outputs": [
    {
     "data": {
      "text/plain": [
       "array([0.32673884, 0.02078287, 0.21787943, 0.0725619 , 0.77309469,\n",
       "       0.85480377, 0.29434031, 0.06891019, 0.26726702, 0.47548238,\n",
       "       0.03546136, 0.07064236, 0.17463328, 0.00720461, 0.27808971,\n",
       "       0.23226328, 0.16171127, 0.10173483, 0.07358607, 0.04899226,\n",
       "       0.06869235, 0.03688462, 0.05932748, 0.02365814, 0.08071146,\n",
       "       0.07904931, 0.10385361, 0.06513989, 0.27718717, 0.18563865,\n",
       "       0.11911236, 0.02838274, 0.33148341, 0.01582361, 0.03507843,\n",
       "       0.07491717, 0.74044128, 0.04493811, 0.03357092, 0.3482026 ,\n",
       "       0.06487708, 0.16720356, 0.43220313, 0.28607537, 0.02388997,\n",
       "       0.01356602, 0.0663049 , 0.04313601, 0.07576934, 0.04971925,\n",
       "       0.02093651, 0.11448572, 0.21437885, 0.1777226 , 0.01437806,\n",
       "       0.03791021, 0.05016997, 0.03302645, 0.13703294, 0.64916926,\n",
       "       0.08071849, 0.04595167, 0.00851011, 0.06470159, 0.16918404,\n",
       "       0.25911711, 0.12236554, 0.13832169, 0.03339839, 0.05248097,\n",
       "       0.00469644, 0.0139529 , 0.04236901, 0.40782179, 0.30522374,\n",
       "       0.38272573, 0.0909653 , 0.0084763 , 0.40627257, 0.03284651,\n",
       "       0.01209811, 0.49974451, 0.0713059 , 0.05506184, 0.15021423,\n",
       "       0.17015779, 0.39068485, 0.03327153, 0.25825483, 0.02918638,\n",
       "       0.033933  , 0.37605872, 0.09034537, 0.04434578, 0.12028662,\n",
       "       0.35714687, 0.20227372, 0.05246727, 0.03612876, 0.04129366,\n",
       "       0.05721537, 0.04415004, 0.06012807, 0.02484319, 0.48216081,\n",
       "       0.04622666, 0.14148409, 0.18767455, 0.52046469, 0.09788578,\n",
       "       0.15809556, 0.04262606, 0.06581812, 0.06089104, 0.37323232,\n",
       "       0.31593292, 0.05065896, 0.17266197, 0.07794468, 0.1445989 ,\n",
       "       0.18949904, 0.05384998, 0.06942125, 0.05700708, 0.25358752,\n",
       "       0.10199772, 0.05567207, 0.02265955, 0.04316891, 0.23617113,\n",
       "       0.04194003, 0.02282633, 0.08780263, 0.0675352 , 0.06462314,\n",
       "       0.17134193, 0.13408492, 0.1041679 , 0.12250003, 0.10976403,\n",
       "       0.01984911, 0.1010681 , 0.28026097, 0.09888929, 0.03409906,\n",
       "       0.02204947, 0.01244081, 0.55232307, 0.05602321, 0.10382632,\n",
       "       0.03928524, 0.07082631, 0.02031329, 0.09815386, 0.12479165,\n",
       "       0.11610558, 0.0370961 , 0.05236451, 0.13666997, 0.08466771,\n",
       "       0.09498466, 0.07267588, 0.06836972, 0.0509737 , 0.11242968,\n",
       "       0.08890701, 0.7167425 , 0.09432219, 0.15781938, 0.15428057,\n",
       "       0.06420522, 0.15217643, 0.20996789, 0.01807245, 0.03715831,\n",
       "       0.65133568, 0.497968  , 0.20848982, 0.35775705, 0.19970066,\n",
       "       0.62954302, 0.27926715, 0.0392191 , 0.02962313, 0.05030572,\n",
       "       0.17831654, 0.06045601, 0.0510846 , 0.06333114, 0.6502566 ,\n",
       "       0.05941761, 0.01106629, 0.10598248, 0.02003721, 0.06023753,\n",
       "       0.03961359, 0.33223887, 0.0185078 , 0.06564668, 0.14618572,\n",
       "       0.07965049, 0.25375016, 0.10138471, 0.08012793, 0.02087766,\n",
       "       0.08178127, 0.0346435 , 0.13886808, 0.02929019, 0.29541119,\n",
       "       0.08171785, 0.06296142, 0.37633287, 0.01426631, 0.03478082,\n",
       "       0.15923032, 0.04801622, 0.11579029, 0.17504848, 0.04359739,\n",
       "       0.10068919, 0.24634462, 0.0920822 , 0.02361678, 0.12507327,\n",
       "       0.04605028, 0.0401184 , 0.23321955, 0.16613047, 0.04571758,\n",
       "       0.06740206, 0.01966864, 0.12376088, 0.05544955, 0.06180805,\n",
       "       0.3526361 , 0.32290664, 0.00901354, 0.73013902, 0.09795513,\n",
       "       0.0377092 , 0.03515752, 0.02181805, 0.03951349, 0.20278183,\n",
       "       0.11488207, 0.39052553, 0.04035838, 0.19787998, 0.46697617,\n",
       "       0.02286984, 0.07780613, 0.20173238, 0.10851201, 0.01900223,\n",
       "       0.02856414, 0.47855498, 0.32142174, 0.11501114, 0.09772714,\n",
       "       0.07161511, 0.05711987, 0.13037178, 0.11171447, 0.02306466,\n",
       "       0.05880378, 0.01666305, 0.11141689, 0.18607696, 0.07976656,\n",
       "       0.03249664, 0.02441328, 0.25990144, 0.16916539, 0.64516785,\n",
       "       0.01857508, 0.05186719, 0.05196595, 0.02639813, 0.01264211,\n",
       "       0.01240608, 0.24068201, 0.227705  , 0.11195477, 0.00174605,\n",
       "       0.10337256, 0.42751015, 0.05948667, 0.20413452, 0.09330823,\n",
       "       0.07775871, 0.15211815, 0.07205348, 0.13030237, 0.27310255,\n",
       "       0.42301883, 0.18695248, 0.05268073, 0.02577101, 0.05564327,\n",
       "       0.30657029, 0.48093168, 0.01400127, 0.08590517, 0.04683642,\n",
       "       0.14135017, 0.62737395, 0.23706584, 0.63720843, 0.25579158,\n",
       "       0.04353715, 0.0365912 , 0.07291072, 0.26544749, 0.04670698,\n",
       "       0.59120777, 0.22011696, 0.00687735, 0.03896759, 0.00449354,\n",
       "       0.10634724, 0.09117089, 0.08125026, 0.06037294, 0.24540194,\n",
       "       0.16370442, 0.08468841, 0.02832372, 0.35921637, 0.26005798,\n",
       "       0.05772211, 0.02807939, 0.39582395, 0.09971177, 0.09674002,\n",
       "       0.01189759, 0.11999111, 0.01027429, 0.03684223, 0.17151233,\n",
       "       0.07317606, 0.1022139 , 0.12633811, 0.4016404 , 0.14912707,\n",
       "       0.05973329, 0.21568094, 0.00940972, 0.0580462 , 0.08725239,\n",
       "       0.5720511 , 0.05680175, 0.31451303, 0.69609576, 0.29924761,\n",
       "       0.0564541 , 0.01844771, 0.37196795, 0.13572441, 0.06352204,\n",
       "       0.05459266, 0.20426871, 0.06737265, 0.19337883, 0.14240083,\n",
       "       0.08770293, 0.21600032, 0.17701451, 0.05980799, 0.39074259,\n",
       "       0.17516566, 0.08623062, 0.26928737, 0.11459909, 0.03744706,\n",
       "       0.06240072, 0.07380471, 0.11669767, 0.02847141, 0.15640795,\n",
       "       0.13064905, 0.38902382, 0.59213971, 0.04630057, 0.65301088,\n",
       "       0.0442732 , 0.51879831, 0.04234337, 0.12874577, 0.02907482,\n",
       "       0.25557001, 0.55549942, 0.15774881, 0.06234167, 0.5290442 ,\n",
       "       0.2037608 , 0.14972939, 0.22457058, 0.03092336, 0.02105932,\n",
       "       0.32927256, 0.26998289, 0.00713901, 0.01573238, 0.13184059,\n",
       "       0.10826441, 0.69340918, 0.17168611, 0.10335551, 0.05347258,\n",
       "       0.20336656, 0.01951773, 0.00614814, 0.37766138, 0.22827822,\n",
       "       0.07775711, 0.04670993, 0.10617822, 0.62023777, 0.12524612,\n",
       "       0.02141161, 0.25151838, 0.04746223, 0.19942581, 0.08096251,\n",
       "       0.00436211, 0.02868418, 0.03410255, 0.0537743 , 0.11491735,\n",
       "       0.02210518, 0.06007981, 0.01401318, 0.01865347, 0.1452175 ,\n",
       "       0.37311608, 0.07883163, 0.00870973, 0.44543801, 0.06412616,\n",
       "       0.01737421, 0.21446929, 0.19626587, 0.12007451, 0.37849657,\n",
       "       0.03844467, 0.42602685, 0.03067826, 0.02676245, 0.78267092,\n",
       "       0.13278086, 0.03452332, 0.02256178, 0.21606062, 0.26363626,\n",
       "       0.48104546, 0.01077087, 0.10445888, 0.58421049, 0.06304422,\n",
       "       0.03711543, 0.03599791, 0.18290848, 0.41815714, 0.03267676,\n",
       "       0.12640493, 0.06575093, 0.40242993, 0.04596978, 0.12043286,\n",
       "       0.07101619, 0.04662166, 0.02025883, 0.13104201, 0.08082753,\n",
       "       0.05155194, 0.08353738, 0.59431226, 0.07757379, 0.03420381,\n",
       "       0.11301915, 0.02684479, 0.17357164, 0.0195497 , 0.02651816,\n",
       "       0.23566605, 0.04857006, 0.01433205, 0.26094058, 0.01523013,\n",
       "       0.25647336, 0.35371892, 0.26737664, 0.10321872, 0.01251099,\n",
       "       0.03805266, 0.047673  , 0.5666225 , 0.34229347, 0.17089038,\n",
       "       0.12073085, 0.13033847, 0.47422991, 0.15272779, 0.03722805,\n",
       "       0.11699017, 0.21623295, 0.16433377, 0.19914582, 0.0255842 ,\n",
       "       0.0539765 , 0.03416774, 0.11564841, 0.07302671, 0.10360618,\n",
       "       0.05609535, 0.07092852, 0.02104298, 0.22957288, 0.11517027,\n",
       "       0.07238529, 0.02167569, 0.1104146 , 0.16409396, 0.16626786,\n",
       "       0.18239515, 0.0205526 , 0.02052815, 0.41362705, 0.07675388,\n",
       "       0.07891996, 0.02327622, 0.04652077, 0.01527808, 0.0687662 ,\n",
       "       0.02816947, 0.02608133, 0.05026699, 0.09301935, 0.20142135,\n",
       "       0.04188633, 0.27392718, 0.14639199, 0.01823507, 0.04696199,\n",
       "       0.01889311, 0.05708015, 0.3395852 , 0.0399893 , 0.57053218,\n",
       "       0.12204119, 0.00756405, 0.52856777, 0.21202169, 0.02559334,\n",
       "       0.02142617, 0.06406006, 0.35335992, 0.0913438 , 0.14444983,\n",
       "       0.17139373, 0.10920915, 0.02497117, 0.04434979, 0.0269802 ,\n",
       "       0.06917701, 0.03765566, 0.12805923, 0.01399824, 0.36478741,\n",
       "       0.08148573, 0.31725356, 0.2740051 , 0.05905466, 0.28067582,\n",
       "       0.1692404 , 0.15404706, 0.04472794, 0.51816223, 0.02963275,\n",
       "       0.68586289, 0.07371513, 0.09499194, 0.12863451, 0.09864763,\n",
       "       0.2747996 , 0.12876898, 0.25001201, 0.45219065, 0.02564007,\n",
       "       0.08080361, 0.14965187, 0.12897904, 0.02799751, 0.09496665,\n",
       "       0.04404372, 0.23009251, 0.05418512, 0.04363078, 0.4729798 ,\n",
       "       0.13384218, 0.58204755, 0.02524788, 0.4530849 , 0.05107038,\n",
       "       0.04996126, 0.4921774 , 0.34163768, 0.30482099, 0.23733117,\n",
       "       0.03370323, 0.81657946, 0.23069996, 0.02040452, 0.36297282,\n",
       "       0.09103178, 0.03892774, 0.03548578, 0.20055584, 0.05649327,\n",
       "       0.16698737, 0.23840544, 0.13044982, 0.07771666, 0.02069952,\n",
       "       0.09078955, 0.74001504, 0.01165496, 0.61107857, 0.09733905,\n",
       "       0.03073434, 0.06891533, 0.03022868, 0.55979489, 0.03815515,\n",
       "       0.23711042, 0.1258198 , 0.04894099, 0.18438117, 0.10058303,\n",
       "       0.10221174, 0.03172498, 0.15401551, 0.14237406, 0.08167791,\n",
       "       0.23359319, 0.047892  , 0.215899  , 0.21916255, 0.03436134,\n",
       "       0.056706  , 0.0416154 , 0.08336195, 0.21699793, 0.01970665,\n",
       "       0.31213518, 0.19173824, 0.20650422, 0.01006291, 0.04493175,\n",
       "       0.06237697, 0.04645936, 0.04258069, 0.16025675, 0.16350293,\n",
       "       0.43956948, 0.19771738])"
      ]
     },
     "execution_count": 188,
     "metadata": {},
     "output_type": "execute_result"
    }
   ],
   "source": [
    "# store the predicted probabilities for class 1 - Probability of customer NOT leaving\n",
    "\n",
    "y_pred1 = logreg.predict_proba(X_test_scaled)[:, 1]\n",
    "y_pred1"
   ]
  },
  {
   "cell_type": "code",
   "execution_count": 189,
   "metadata": {},
   "outputs": [
    {
     "data": {
      "text/plain": [
       "Text(0, 0.5, 'Frequency')"
      ]
     },
     "execution_count": 189,
     "metadata": {},
     "output_type": "execute_result"
    },
    {
     "data": {
      "image/png": "[encoded data removed]",
      "text/plain": [
       "<Figure size 432x288 with 1 Axes>"
      ]
     },
     "metadata": {
      "needs_background": "light"
     },
     "output_type": "display_data"
    }
   ],
   "source": [
    "# plot histogram of predicted probabilities\n",
    "\n",
    "# adjust the font size \n",
    "plt.rcParams['font.size'] = 12\n",
    "\n",
    "# plot histogram with 10 bins\n",
    "plt.hist(y_pred1, bins = 10)\n",
    "\n",
    "# set the title of predicted probabilities\n",
    "plt.title('Histogram of predicted probabilities of customer LEAVING')\n",
    "\n",
    "# set the x-axis limit\n",
    "plt.xlim(0,1)\n",
    "\n",
    "# set the title\n",
    "plt.xlabel('Predicted probabilities of customer LEAVING')\n",
    "plt.ylabel('Frequency')"
   ]
  },
  {
   "cell_type": "markdown",
   "metadata": {},
   "source": [
    "### Observations\n",
    "- The above histogram is highly positively skewed.\n",
    "\n",
    "- The first column tell us that there are approximately 350 observations with probability between 0.0 and 0.1.\n",
    "\n",
    "- There are small number of observations with probability > 0.5.\n",
    "\n",
    "- So, these small number of observations predict that the customer will leave the telecom company.\n",
    "\n",
    "- Majority of observations predict that the customer will not leave the telecom company."
   ]
  },
  {
   "cell_type": "markdown",
   "metadata": {},
   "source": [
    "# **ROC - AUC**\n",
    "\n",
    "## ROC Curve\n",
    "\n",
    "- This is another tool to measure the classification model performance visually.\n",
    "- ROC Curve stands for **Receiver Operating Characteristic Curve**. \n",
    "- An **ROC Curve** is a plot which shows the performance of a classification model at various classification threshold levels. \n",
    "- The **ROC Curve** plots the **True Positive Rate (TPR)** against the **False Positive Rate (FPR)** at various threshold levels.\n",
    "- **True Positive Rate (TPR)** is also called **Recall**. It is defined as the ratio of `TP to (TP + FN).`\n",
    "- **False Positive Rate (FPR)** is defined as the ratio of `FP to (FP + TN).`\n",
    "\n",
    "In the ROC Curve, we will focus on the TPR (True Positive Rate) and FPR (False Positive Rate) of a single point. This will give us the general performance of the ROC curve which consists of the TPR and FPR at various threshold levels. So, an ROC Curve plots TPR vs FPR at different classification threshold levels. If we lower the threshold levels, it may result in more items being classified as positve. It will increase both True Positives (TP) and False Positives (FP)."
   ]
  },
  {
   "cell_type": "code",
   "execution_count": 190,
   "metadata": {},
   "outputs": [
    {
     "data": {
      "image/png": "[encoded data removed]",
      "text/plain": [
       "<Figure size 432x288 with 1 Axes>"
      ]
     },
     "metadata": {
      "needs_background": "light"
     },
     "output_type": "display_data"
    }
   ],
   "source": [
    "# plot ROC Curve\n",
    "\n",
    "from sklearn.metrics import roc_curve\n",
    "\n",
    "fpr, tpr, thresholds = roc_curve(y_test, y_pred1, pos_label = 'Yes')\n",
    "\n",
    "plt.figure(figsize=(6,4))\n",
    "\n",
    "plt.plot(fpr, tpr, linewidth=2)\n",
    "\n",
    "plt.plot([0,1], [0,1], 'k--' )\n",
    "\n",
    "plt.rcParams['font.size'] = 12\n",
    "\n",
    "plt.title('ROC curve for Customer Leaving Telecom company classifier')\n",
    "\n",
    "plt.xlabel('False Positive Rate (1 - Specificity)')\n",
    "\n",
    "plt.ylabel('True Positive Rate (Sensitivity)')\n",
    "\n",
    "plt.show()"
   ]
  },
  {
   "cell_type": "markdown",
   "metadata": {},
   "source": [
    "ROC curve help us to choose a threshold level that balances sensitivity and specificity for a particular context."
   ]
  },
  {
   "cell_type": "markdown",
   "metadata": {},
   "source": [
    "## ROC-AUC\n",
    "\n",
    "- **ROC AUC** stands for **Receiver Operating Characteristic - Area Under Curve**. \n",
    "- It is a technique to compare classifier performance. \n",
    "- In this technique, we measure the `area under the curve (AUC)`. \n",
    "- A perfect classifier will have a ROC AUC equal to 1, whereas a purely random classifier will have a ROC AUC equal to 0.5. \n",
    "\n",
    "So, **ROC AUC** is the percentage of the ROC plot that is underneath the curve."
   ]
  },
  {
   "cell_type": "code",
   "execution_count": 191,
   "metadata": {},
   "outputs": [
    {
     "name": "stdout",
     "output_type": "stream",
     "text": [
      "ROC AUC : 0.7730\n"
     ]
    }
   ],
   "source": [
    "# compute ROC AUC\n",
    "\n",
    "from sklearn.metrics import roc_auc_score\n",
    "\n",
    "ROC_AUC = roc_auc_score(y_test, y_pred1)\n",
    "\n",
    "print('ROC AUC : {:.4f}'.format(ROC_AUC))"
   ]
  },
  {
   "cell_type": "markdown",
   "metadata": {},
   "source": [
    "### Comments\n",
    "\n",
    "- ROC AUC is a single number summary of classifier performance. The higher the value, the better the classifier.\n",
    "\n",
    "- ROC AUC of our model approaches towards 1. So, the classifier does a decent job in predicting whether the customer will leave the company or not."
   ]
  },
  {
   "cell_type": "code",
   "execution_count": 192,
   "metadata": {},
   "outputs": [
    {
     "name": "stdout",
     "output_type": "stream",
     "text": [
      "Cross validated ROC AUC : 0.7886\n"
     ]
    }
   ],
   "source": [
    "# calculate cross-validated ROC AUC \n",
    "\n",
    "from sklearn.model_selection import cross_val_score\n",
    "\n",
    "Cross_validated_ROC_AUC = cross_val_score(logreg, X_train_scaled, y_train, cv=5, scoring='roc_auc').mean()\n",
    "\n",
    "print('Cross validated ROC AUC : {:.4f}'.format(Cross_validated_ROC_AUC))"
   ]
  },
  {
   "cell_type": "markdown",
   "metadata": {},
   "source": [
    "# **k-Fold Cross Validation**"
   ]
  },
  {
   "cell_type": "code",
   "execution_count": 193,
   "metadata": {},
   "outputs": [
    {
     "name": "stdout",
     "output_type": "stream",
     "text": [
      "Cross-validation scores:[0.86329588 0.86679174 0.87054409 0.86116323 0.85178236]\n"
     ]
    }
   ],
   "source": [
    "# Applying 5-Fold Cross Validation\n",
    "\n",
    "scores = cross_val_score(logreg, X_train_scaled, y_train, cv = 5, scoring='accuracy')\n",
    "\n",
    "print('Cross-validation scores:{}'.format(scores))"
   ]
  },
  {
   "cell_type": "markdown",
   "metadata": {},
   "source": [
    "#### Summary of the cross-validation accuracy by calculating its mean."
   ]
  },
  {
   "cell_type": "code",
   "execution_count": 194,
   "metadata": {},
   "outputs": [
    {
     "name": "stdout",
     "output_type": "stream",
     "text": [
      "Average cross-validation score: 0.8627\n"
     ]
    }
   ],
   "source": [
    "# compute Average cross-validation score\n",
    "\n",
    "print('Average cross-validation score: {:.4f}'.format(scores.mean()))"
   ]
  },
  {
   "cell_type": "markdown",
   "metadata": {},
   "source": [
    "Original model score is found to be **0.7731**. The average cross-validation score is **0.8620**. So, we can conclude that cross-validation results in performance improvement of the model."
   ]
  },
  {
   "cell_type": "markdown",
   "metadata": {},
   "source": [
    "# **Hyperparameter Optimization using GridSearch CV** "
   ]
  },
  {
   "cell_type": "code",
   "execution_count": 195,
   "metadata": {},
   "outputs": [
    {
     "data": {
      "text/html": [
       "<style>#sk-container-id-5 {color: black;}#sk-container-id-5 pre{padding: 0;}#sk-container-id-5 div.sk-toggleable {background-color: white;}#sk-container-id-5 label.sk-toggleable__label {cursor: pointer;display: block;width: 100%;margin-bottom: 0;padding: 0.3em;box-sizing: border-box;text-align: center;}#sk-container-id-5 label.sk-toggleable__label-arrow:before {content: \"▸\";float: left;margin-right: 0.25em;color: #696969;}#sk-container-id-5 label.sk-toggleable__label-arrow:hover:before {color: black;}#sk-container-id-5 div.sk-estimator:hover label.sk-toggleable__label-arrow:before {color: black;}#sk-container-id-5 div.sk-toggleable__content {max-height: 0;max-width: 0;overflow: hidden;text-align: left;background-color: #f0f8ff;}#sk-container-id-5 div.sk-toggleable__content pre {margin: 0.2em;color: black;border-radius: 0.25em;background-color: #f0f8ff;}#sk-container-id-5 input.sk-toggleable__control:checked~div.sk-toggleable__content {max-height: 200px;max-width: 100%;overflow: auto;}#sk-container-id-5 input.sk-toggleable__control:checked~label.sk-toggleable__label-arrow:before {content: \"▾\";}#sk-container-id-5 div.sk-estimator input.sk-toggleable__control:checked~label.sk-toggleable__label {background-color: #d4ebff;}#sk-container-id-5 div.sk-label input.sk-toggleable__control:checked~label.sk-toggleable__label {background-color: #d4ebff;}#sk-container-id-5 input.sk-hidden--visually {border: 0;clip: rect(1px 1px 1px 1px);clip: rect(1px, 1px, 1px, 1px);height: 1px;margin: -1px;overflow: hidden;padding: 0;position: absolute;width: 1px;}#sk-container-id-5 div.sk-estimator {font-family: monospace;background-color: #f0f8ff;border: 1px dotted black;border-radius: 0.25em;box-sizing: border-box;margin-bottom: 0.5em;}#sk-container-id-5 div.sk-estimator:hover {background-color: #d4ebff;}#sk-container-id-5 div.sk-parallel-item::after {content: \"\";width: 100%;border-bottom: 1px solid gray;flex-grow: 1;}#sk-container-id-5 div.sk-label:hover label.sk-toggleable__label {background-color: #d4ebff;}#sk-container-id-5 div.sk-serial::before {content: \"\";position: absolute;border-left: 1px solid gray;box-sizing: border-box;top: 0;bottom: 0;left: 50%;z-index: 0;}#sk-container-id-5 div.sk-serial {display: flex;flex-direction: column;align-items: center;background-color: white;padding-right: 0.2em;padding-left: 0.2em;position: relative;}#sk-container-id-5 div.sk-item {position: relative;z-index: 1;}#sk-container-id-5 div.sk-parallel {display: flex;align-items: stretch;justify-content: center;background-color: white;position: relative;}#sk-container-id-5 div.sk-item::before, #sk-container-id-5 div.sk-parallel-item::before {content: \"\";position: absolute;border-left: 1px solid gray;box-sizing: border-box;top: 0;bottom: 0;left: 50%;z-index: -1;}#sk-container-id-5 div.sk-parallel-item {display: flex;flex-direction: column;z-index: 1;position: relative;background-color: white;}#sk-container-id-5 div.sk-parallel-item:first-child::after {align-self: flex-end;width: 50%;}#sk-container-id-5 div.sk-parallel-item:last-child::after {align-self: flex-start;width: 50%;}#sk-container-id-5 div.sk-parallel-item:only-child::after {width: 0;}#sk-container-id-5 div.sk-dashed-wrapped {border: 1px dashed gray;margin: 0 0.4em 0.5em 0.4em;box-sizing: border-box;padding-bottom: 0.4em;background-color: white;}#sk-container-id-5 div.sk-label label {font-family: monospace;font-weight: bold;display: inline-block;line-height: 1.2em;}#sk-container-id-5 div.sk-label-container {text-align: center;}#sk-container-id-5 div.sk-container {/* jupyter's `normalize.less` sets `[hidden] { display: none; }` but bootstrap.min.css set `[hidden] { display: none !important; }` so we also need the `!important` here to be able to override the default hidden behavior on the sphinx rendered scikit-learn.org. See: https://github.com/scikit-learn/scikit-learn/issues/21755 */display: inline-block !important;position: relative;}#sk-container-id-5 div.sk-text-repr-fallback {display: none;}</style><div id=\"sk-container-id-5\" class=\"sk-top-container\"><div class=\"sk-text-repr-fallback\"><pre>GridSearchCV(cv=5,\n",
       "             estimator=LogisticRegression(random_state=0, solver=&#x27;liblinear&#x27;),\n",
       "             param_grid=[{&#x27;penalty&#x27;: [&#x27;l1&#x27;, &#x27;l2&#x27;]}, {&#x27;C&#x27;: [1, 10, 100, 1000]}],\n",
       "             scoring=&#x27;accuracy&#x27;)</pre><b>In a Jupyter environment, please rerun this cell to show the HTML representation or trust the notebook. <br />On GitHub, the HTML representation is unable to render, please try loading this page with nbviewer.org.</b></div><div class=\"sk-container\" hidden><div class=\"sk-item sk-dashed-wrapped\"><div class=\"sk-label-container\"><div class=\"sk-label sk-toggleable\"><input class=\"sk-toggleable__control sk-hidden--visually\" id=\"sk-estimator-id-5\" type=\"checkbox\" ><label for=\"sk-estimator-id-5\" class=\"sk-toggleable__label sk-toggleable__label-arrow\">GridSearchCV</label><div class=\"sk-toggleable__content\"><pre>GridSearchCV(cv=5,\n",
       "             estimator=LogisticRegression(random_state=0, solver=&#x27;liblinear&#x27;),\n",
       "             param_grid=[{&#x27;penalty&#x27;: [&#x27;l1&#x27;, &#x27;l2&#x27;]}, {&#x27;C&#x27;: [1, 10, 100, 1000]}],\n",
       "             scoring=&#x27;accuracy&#x27;)</pre></div></div></div><div class=\"sk-parallel\"><div class=\"sk-parallel-item\"><div class=\"sk-item\"><div class=\"sk-label-container\"><div class=\"sk-label sk-toggleable\"><input class=\"sk-toggleable__control sk-hidden--visually\" id=\"sk-estimator-id-6\" type=\"checkbox\" ><label for=\"sk-estimator-id-6\" class=\"sk-toggleable__label sk-toggleable__label-arrow\">estimator: LogisticRegression</label><div class=\"sk-toggleable__content\"><pre>LogisticRegression(random_state=0, solver=&#x27;liblinear&#x27;)</pre></div></div></div><div class=\"sk-serial\"><div class=\"sk-item\"><div class=\"sk-estimator sk-toggleable\"><input class=\"sk-toggleable__control sk-hidden--visually\" id=\"sk-estimator-id-7\" type=\"checkbox\" ><label for=\"sk-estimator-id-7\" class=\"sk-toggleable__label sk-toggleable__label-arrow\">LogisticRegression</label><div class=\"sk-toggleable__content\"><pre>LogisticRegression(random_state=0, solver=&#x27;liblinear&#x27;)</pre></div></div></div></div></div></div></div></div></div></div>"
      ],
      "text/plain": [
       "GridSearchCV(cv=5,\n",
       "             estimator=LogisticRegression(random_state=0, solver='liblinear'),\n",
       "             param_grid=[{'penalty': ['l1', 'l2']}, {'C': [1, 10, 100, 1000]}],\n",
       "             scoring='accuracy')"
      ]
     },
     "execution_count": 195,
     "metadata": {},
     "output_type": "execute_result"
    }
   ],
   "source": [
    "from sklearn.model_selection import GridSearchCV\n",
    "\n",
    "\n",
    "parameters = [{'penalty':['l1','l2']}, \n",
    "              {'C':[1, 10, 100, 1000]}]\n",
    "\n",
    "\n",
    "\n",
    "grid_search = GridSearchCV(estimator = logreg,  \n",
    "                           param_grid = parameters,\n",
    "                           scoring = 'accuracy',\n",
    "                           cv = 5,\n",
    "                           verbose=0)\n",
    "\n",
    "grid_search.fit(X_train_scaled, y_train)"
   ]
  },
  {
   "cell_type": "code",
   "execution_count": 196,
   "metadata": {},
   "outputs": [
    {
     "name": "stdout",
     "output_type": "stream",
     "text": [
      "GridSearch CV best score : 0.8631\n",
      "\n",
      "\n",
      "Parameters that give the best results : \n",
      "\n",
      " {'C': 1000}\n",
      "\n",
      "\n",
      "Estimator that was chosen by the search : \n",
      "\n",
      " LogisticRegression(C=1000, random_state=0, solver='liblinear')\n"
     ]
    }
   ],
   "source": [
    "# examine the best model\n",
    "\n",
    "# best score achieved during the GridSearchCV\n",
    "print('GridSearch CV best score : {:.4f}\\n\\n'.format(grid_search.best_score_))\n",
    "\n",
    "# print parameters that give the best results\n",
    "print('Parameters that give the best results :','\\n\\n', (grid_search.best_params_))\n",
    "\n",
    "# print estimator that was chosen by the GridSearch\n",
    "print('\\n\\nEstimator that was chosen by the search :','\\n\\n', (grid_search.best_estimator_))"
   ]
  },
  {
   "cell_type": "markdown",
   "metadata": {},
   "source": [
    "# **Results and conclusion** "
   ]
  },
  {
   "cell_type": "markdown",
   "metadata": {},
   "source": [
    "1.\tThe logistic regression model accuracy score is **0.8636**. The model does a good job in predicting whether or not the customer will leave the telecom company.\n",
    "\n",
    "2.\tSmall number of observations predict that the customer will leave the telecom company. Majority of observations predict that the customer will not leave the telecom company.\n",
    "\n",
    "3.\tThe model shows no signs of overfitting.\n",
    "\n",
    "4.\tIncreasing the value of C results in lower test set accuracy but also a slightly increased training set accuracy. Therefore we conclude that a more complex model will not improve the performance of the prediction.\n",
    "\n",
    "5.\tROC-AUC original model score is found to be **0.7731**. The average ROC-AUC cross-validation score is **0.862**. Therefore, we conclude that cross-validation results  in a major  performance improvement.\n",
    "\n",
    "6. Our original model test accuracy is 0.8636 while GridSearch CV accuracy is 0.8531. The GridSearch CV does not improve the performance for this particular model."
   ]
  }
 ],
 "metadata": {
  "kernelspec": {
   "display_name": "learn-env",
   "language": "python",
   "name": "python3"
  },
  "language_info": {
   "codemirror_mode": {
    "name": "ipython",
    "version": 3
   },
   "file_extension": ".py",
   "mimetype": "text/x-python",
   "name": "python",
   "nbconvert_exporter": "python",
   "pygments_lexer": "ipython3",
   "version": "3.8.5"
  }
 },
 "nbformat": 4,
 "nbformat_minor": 2
}
